{
 "cells": [
  {
   "cell_type": "code",
   "execution_count": null,
   "metadata": {},
   "outputs": [],
   "source": []
  },
  {
   "cell_type": "markdown",
   "metadata": {},
   "source": [
    "Framewise"
   ]
  },
  {
   "cell_type": "code",
   "execution_count": 1,
   "metadata": {},
   "outputs": [
    {
     "name": "stdout",
     "output_type": "stream",
     "text": [
      "Using device: cuda\n",
      "Loading model...\n"
     ]
    },
    {
     "name": "stderr",
     "output_type": "stream",
     "text": [
      "/home/z/miniconda3/envs/mmxai/lib/python3.12/site-packages/huggingface_hub/file_download.py:1132: FutureWarning: `resume_download` is deprecated and will be removed in version 1.0.0. Downloads always resume when possible. If you want to force a new download, use `force_download=True`.\n",
      "  warnings.warn(\n"
     ]
    },
    {
     "name": "stdout",
     "output_type": "stream",
     "text": [
      "Loading labels...\n",
      "Found 5081 video files\n",
      "Sampled 4000 videos for evaluation\n"
     ]
    },
    {
     "name": "stderr",
     "output_type": "stream",
     "text": [
      "Processing videos:   0%|          | 0/4000 [00:00<?, ?it/s]/home/z/miniconda3/envs/mmxai/lib/python3.12/site-packages/transformers/feature_extraction_utils.py:141: UserWarning: Creating a tensor from a list of numpy.ndarrays is extremely slow. Please consider converting the list to a single numpy.ndarray with numpy.array() before converting to a tensor. (Triggered internally at ../torch/csrc/utils/tensor_new.cpp:274.)\n",
      "  return torch.tensor(value)\n",
      "Processing videos: 100%|██████████| 4000/4000 [10:11<00:00,  6.54it/s]\n",
      "/home/z/miniconda3/envs/mmxai/lib/python3.12/site-packages/sklearn/metrics/_classification.py:1509: UndefinedMetricWarning: Precision is ill-defined and being set to 0.0 in labels with no predicted samples. Use `zero_division` parameter to control this behavior.\n",
      "  _warn_prf(average, modifier, f\"{metric.capitalize()} is\", len(result))\n"
     ]
    },
    {
     "name": "stdout",
     "output_type": "stream",
     "text": [
      "\n",
      "Processing completed with 0 errors\n",
      "\n",
      "Performance Metrics:\n",
      "Total samples processed: 4000\n",
      "Accuracy: 0.4730\n",
      "Precision: 0.5804\n",
      "Recall: 0.4730\n",
      "F1 Score: 0.4809\n",
      "Average Confidence: 0.6284\n",
      "\n",
      "Results saved to: /home/z/Music/st/Kinetics-400/RQ4/evaluationFramewise\n"
     ]
    }
   ],
   "source": [
    "import torch\n",
    "import av\n",
    "import numpy as np\n",
    "from tqdm import tqdm\n",
    "import os\n",
    "import json\n",
    "from datetime import datetime\n",
    "import pathlib\n",
    "from transformers import TimesformerForVideoClassification, AutoImageProcessor\n",
    "from sklearn.metrics import precision_recall_fscore_support, accuracy_score, confusion_matrix\n",
    "import glob\n",
    "import seaborn as sns\n",
    "import matplotlib.pyplot as plt\n",
    "\n",
    "def load_video_frames(video_path, num_frames=8):\n",
    "    \"\"\"\n",
    "    从单个视频文件中读取帧\n",
    "    \"\"\"\n",
    "    frames = []\n",
    "    try:\n",
    "        container = av.open(video_path)\n",
    "        for frame in container.decode(video=0):\n",
    "            frames.append(frame.to_rgb().to_ndarray())\n",
    "            if len(frames) >= num_frames:\n",
    "                return np.stack(frames[:num_frames])\n",
    "    except Exception as e:\n",
    "        print(f\"Error processing video {video_path}: {str(e)}\")\n",
    "        raise\n",
    "    \n",
    "    if len(frames) == 0:\n",
    "        raise ValueError(\"No frames could be extracted\")\n",
    "    \n",
    "    # 如果帧数不足，重复最后一帧\n",
    "    while len(frames) < num_frames:\n",
    "        frames.append(frames[-1])\n",
    "    \n",
    "    return np.stack(frames[:num_frames])\n",
    "\n",
    "def load_labels(label_file):\n",
    "    \"\"\"\n",
    "    加载标签文件\n",
    "    \"\"\"\n",
    "    labels = {}\n",
    "    with open(label_file, 'r') as f:\n",
    "        for line in f:\n",
    "            video_name, label = line.strip().split()\n",
    "            labels[video_name.split('.')[0]] = int(label)\n",
    "    return labels\n",
    "\n",
    "def plot_confusion_matrix(true_labels, predictions, save_path):\n",
    "    \"\"\"\n",
    "    绘制并保存混淆矩阵\n",
    "    \"\"\"\n",
    "    cm = confusion_matrix(true_labels, predictions)\n",
    "    plt.figure(figsize=(10, 8))\n",
    "    sns.heatmap(cm, annot=True, fmt='d', cmap='Blues')\n",
    "    plt.title('Confusion Matrix')\n",
    "    plt.ylabel('True Label')\n",
    "    plt.xlabel('Predicted Label')\n",
    "    plt.savefig(save_path)\n",
    "    plt.close()\n",
    "\n",
    "def evaluate_videos(config):\n",
    "    # 设置设备\n",
    "    device = torch.device('cuda' if torch.cuda.is_available() else 'cpu')\n",
    "    print(f\"Using device: {device}\")\n",
    "\n",
    "    # 初始化模型\n",
    "    print(\"Loading model...\")\n",
    "    model = TimesformerForVideoClassification.from_pretrained(config['model_name']).to(device)\n",
    "    processor = AutoImageProcessor.from_pretrained(config['model_name'])\n",
    "    model.eval()  # 设置为评估模式\n",
    "    \n",
    "    # 加载标签\n",
    "    print(\"Loading labels...\")\n",
    "    video_labels = load_labels(config['label_file'])\n",
    "    \n",
    "    # 准备结果存储\n",
    "    detailed_results = {\n",
    "        'predictions': [],\n",
    "        'true_labels': [],\n",
    "        'video_names': [],\n",
    "        'confidence_scores': [],\n",
    "        'model_name': config['model_name'],\n",
    "        'timestamp': datetime.now().strftime(\"%Y%m%d_%H%M%S\"),\n",
    "        'config': config\n",
    "    }\n",
    "    \n",
    "    # 获取所有视频文件\n",
    "    video_files = glob.glob(os.path.join(config['video_dir'], '*.mp4'))\n",
    "    print(f\"Found {len(video_files)} video files\")\n",
    "    \n",
    "    if config.get('sample_size'):\n",
    "        if len(video_files) > config['sample_size']:\n",
    "            np.random.seed(config.get('random_seed', 42))\n",
    "            video_files = np.random.choice(video_files, config['sample_size'], replace=False)\n",
    "            print(f\"Sampled {config['sample_size']} videos for evaluation\")\n",
    "    \n",
    "    # 处理每个视频\n",
    "    error_count = 0\n",
    "    for video_path in tqdm(video_files, desc=\"Processing videos\"):\n",
    "        video_name = os.path.splitext(os.path.basename(video_path))[0]\n",
    "        \n",
    "        # 跳过没有标签的视频\n",
    "        if video_name not in video_labels:\n",
    "            continue\n",
    "            \n",
    "        true_label = video_labels[video_name]\n",
    "        \n",
    "        try:\n",
    "            # 读取视频帧并进行预测\n",
    "            frames = load_video_frames(video_path)\n",
    "            inputs = processor(list(frames), return_tensors=\"pt\").to(device)\n",
    "            \n",
    "            with torch.no_grad():\n",
    "                outputs = model(**inputs)\n",
    "                logits = outputs.logits\n",
    "                probabilities = torch.nn.functional.softmax(logits, dim=-1)\n",
    "                pred_label = logits.argmax(-1).cpu().numpy()[0]\n",
    "                confidence = float(probabilities.max().cpu().numpy())\n",
    "            \n",
    "            # 存储结果\n",
    "            detailed_results['predictions'].append(int(pred_label))\n",
    "            detailed_results['true_labels'].append(int(true_label))\n",
    "            detailed_results['video_names'].append(video_name)\n",
    "            detailed_results['confidence_scores'].append(confidence)\n",
    "            \n",
    "        except Exception as e:\n",
    "            print(f\"Error processing video {video_name}: {str(e)}\")\n",
    "            error_count += 1\n",
    "            continue\n",
    "    \n",
    "    print(f\"\\nProcessing completed with {error_count} errors\")\n",
    "    \n",
    "    # 计算评价指标\n",
    "    precision, recall, f1, _ = precision_recall_fscore_support(\n",
    "        detailed_results['true_labels'], \n",
    "        detailed_results['predictions'], \n",
    "        average='weighted'\n",
    "    )\n",
    "    accuracy = accuracy_score(\n",
    "        detailed_results['true_labels'], \n",
    "        detailed_results['predictions']\n",
    "    )\n",
    "    \n",
    "    # 添加汇总指标\n",
    "    detailed_results['summary'] = {\n",
    "        'accuracy': float(accuracy),\n",
    "        'precision': float(precision),\n",
    "        'recall': float(recall),\n",
    "        'f1': float(f1),\n",
    "        'total_samples': len(detailed_results['predictions']),\n",
    "        'error_count': error_count,\n",
    "        'average_confidence': float(np.mean(detailed_results['confidence_scores']))\n",
    "    }\n",
    "    \n",
    "    # 打印结果\n",
    "    print(\"\\nPerformance Metrics:\")\n",
    "    print(f\"Total samples processed: {detailed_results['summary']['total_samples']}\")\n",
    "    print(f\"Accuracy: {accuracy:.4f}\")\n",
    "    print(f\"Precision: {precision:.4f}\")\n",
    "    print(f\"Recall: {recall:.4f}\")\n",
    "    print(f\"F1 Score: {f1:.4f}\")\n",
    "    print(f\"Average Confidence: {detailed_results['summary']['average_confidence']:.4f}\")\n",
    "    \n",
    "    # 保存结果\n",
    "    save_dir = pathlib.Path(config['results_directory'])\n",
    "    save_dir.mkdir(parents=True, exist_ok=True)\n",
    "    \n",
    "    timestamp = detailed_results['timestamp']\n",
    "    base_name = f\"{config['experiment_name']}_{timestamp}\"\n",
    "    \n",
    "    # 保存详细结果\n",
    "    result_file = save_dir / f\"{base_name}.json\"\n",
    "    with open(result_file, 'w') as f:\n",
    "        json.dump(detailed_results, f, indent=4)\n",
    "    \n",
    "    # 保存混淆矩阵\n",
    "    cm_file = save_dir / f\"{base_name}_confusion_matrix.png\"\n",
    "    plot_confusion_matrix(\n",
    "        detailed_results['true_labels'],\n",
    "        detailed_results['predictions'],\n",
    "        cm_file\n",
    "    )\n",
    "    \n",
    "    print(f\"\\nResults saved to: {save_dir}\")\n",
    "    \n",
    "    return detailed_results\n",
    "\n",
    "if __name__ == \"__main__\":\n",
    "    config = {\n",
    "        'model_name': 'facebook/timesformer-base-finetuned-k400',\n",
    "        'video_dir': '/home/z/Music/st/Kinetics-400/RQ1/FGSM_Image_Framewise',  # 视频文件目录\n",
    "        'label_file': '/home/z/Music/st/Kinetics-400/RQ1/kinetics400_val_list_videos.txt',  # 标签文件路径\n",
    "        'sample_size': 4000,  # 设置为None处理所有视频，或设置具体数字进行采样\n",
    "        'random_seed': 42,\n",
    "        'results_directory': '/home/z/Music/st/Kinetics-400/RQ4/evaluationFramewise',  # 结果保存目录\n",
    "        'experiment_name': 'timesformer_evaluation'  # 实验名称\n",
    "    }\n",
    "    \n",
    "    results = evaluate_videos(config)"
   ]
  },
  {
   "cell_type": "markdown",
   "metadata": {},
   "source": [
    "Parser"
   ]
  },
  {
   "cell_type": "code",
   "execution_count": 2,
   "metadata": {},
   "outputs": [
    {
     "name": "stdout",
     "output_type": "stream",
     "text": [
      "Using device: cuda\n",
      "Loading model...\n"
     ]
    },
    {
     "name": "stderr",
     "output_type": "stream",
     "text": [
      "/home/z/miniconda3/envs/mmxai/lib/python3.12/site-packages/huggingface_hub/file_download.py:1132: FutureWarning: `resume_download` is deprecated and will be removed in version 1.0.0. Downloads always resume when possible. If you want to force a new download, use `force_download=True`.\n",
      "  warnings.warn(\n"
     ]
    },
    {
     "name": "stdout",
     "output_type": "stream",
     "text": [
      "Loading labels...\n",
      "Found 8075 video files\n",
      "Sampled 4000 videos for evaluation\n"
     ]
    },
    {
     "name": "stderr",
     "output_type": "stream",
     "text": [
      "Processing videos:   1%|          | 38/4000 [00:06<14:49,  4.45it/s]Format mov,mp4,m4a,3gp,3g2,mj2 detected only with low score of 1, misdetection possible!\n",
      "moov atom not found\n",
      "Format mov,mp4,m4a,3gp,3g2,mj2 detected only with low score of 1, misdetection possible!\n",
      "moov atom not found\n",
      "Processing videos:   1%|          | 41/4000 [00:06<08:33,  7.71it/s]"
     ]
    },
    {
     "name": "stdout",
     "output_type": "stream",
     "text": [
      "Error processing video /home/z/Music/st/Kinetics-400/RQ1/Sparse_Keyframe/ZSYJC8QOoh8.mp4: [Errno 1094995529] Invalid data found when processing input: '/home/z/Music/st/Kinetics-400/RQ1/Sparse_Keyframe/ZSYJC8QOoh8.mp4'; last error log: [mov,mp4,m4a,3gp,3g2,mj2] moov atom not found\n",
      "Error processing video ZSYJC8QOoh8: [Errno 1094995529] Invalid data found when processing input: '/home/z/Music/st/Kinetics-400/RQ1/Sparse_Keyframe/ZSYJC8QOoh8.mp4'; last error log: [mov,mp4,m4a,3gp,3g2,mj2] moov atom not found\n",
      "Error processing video /home/z/Music/st/Kinetics-400/RQ1/Sparse_Keyframe/_lFH0L9EsmY.mp4: [Errno 1094995529] Invalid data found when processing input: '/home/z/Music/st/Kinetics-400/RQ1/Sparse_Keyframe/_lFH0L9EsmY.mp4'; last error log: [mov,mp4,m4a,3gp,3g2,mj2] moov atom not found\n",
      "Error processing video _lFH0L9EsmY: [Errno 1094995529] Invalid data found when processing input: '/home/z/Music/st/Kinetics-400/RQ1/Sparse_Keyframe/_lFH0L9EsmY.mp4'; last error log: [mov,mp4,m4a,3gp,3g2,mj2] moov atom not found\n"
     ]
    },
    {
     "name": "stderr",
     "output_type": "stream",
     "text": [
      "Processing videos:   1%|          | 49/4000 [00:08<12:02,  5.47it/s]Format mov,mp4,m4a,3gp,3g2,mj2 detected only with low score of 1, misdetection possible!\n",
      "moov atom not found\n",
      "Processing videos:   1%|▏         | 51/4000 [00:08<09:00,  7.31it/s]"
     ]
    },
    {
     "name": "stdout",
     "output_type": "stream",
     "text": [
      "Error processing video /home/z/Music/st/Kinetics-400/RQ1/Sparse_Keyframe/nL7NBYU-G6U.mp4: [Errno 1094995529] Invalid data found when processing input: '/home/z/Music/st/Kinetics-400/RQ1/Sparse_Keyframe/nL7NBYU-G6U.mp4'; last error log: [mov,mp4,m4a,3gp,3g2,mj2] moov atom not found\n",
      "Error processing video nL7NBYU-G6U: [Errno 1094995529] Invalid data found when processing input: '/home/z/Music/st/Kinetics-400/RQ1/Sparse_Keyframe/nL7NBYU-G6U.mp4'; last error log: [mov,mp4,m4a,3gp,3g2,mj2] moov atom not found\n"
     ]
    },
    {
     "name": "stderr",
     "output_type": "stream",
     "text": [
      "Processing videos:   1%|▏         | 53/4000 [00:08<09:45,  6.74it/s]Format mov,mp4,m4a,3gp,3g2,mj2 detected only with low score of 1, misdetection possible!\n",
      "moov atom not found\n",
      "Processing videos:   1%|▏         | 55/4000 [00:08<07:54,  8.32it/s]"
     ]
    },
    {
     "name": "stdout",
     "output_type": "stream",
     "text": [
      "Error processing video /home/z/Music/st/Kinetics-400/RQ1/Sparse_Keyframe/-FWfQhqFoYc.mp4: [Errno 1094995529] Invalid data found when processing input: '/home/z/Music/st/Kinetics-400/RQ1/Sparse_Keyframe/-FWfQhqFoYc.mp4'; last error log: [mov,mp4,m4a,3gp,3g2,mj2] moov atom not found\n",
      "Error processing video -FWfQhqFoYc: [Errno 1094995529] Invalid data found when processing input: '/home/z/Music/st/Kinetics-400/RQ1/Sparse_Keyframe/-FWfQhqFoYc.mp4'; last error log: [mov,mp4,m4a,3gp,3g2,mj2] moov atom not found\n"
     ]
    },
    {
     "name": "stderr",
     "output_type": "stream",
     "text": [
      "Processing videos:   2%|▏         | 92/4000 [00:14<10:35,  6.15it/s]Format mov,mp4,m4a,3gp,3g2,mj2 detected only with low score of 1, misdetection possible!\n",
      "moov atom not found\n",
      "Processing videos:   2%|▏         | 94/4000 [00:14<08:05,  8.05it/s]"
     ]
    },
    {
     "name": "stdout",
     "output_type": "stream",
     "text": [
      "Error processing video /home/z/Music/st/Kinetics-400/RQ1/Sparse_Keyframe/kaezqpD5X6g.mp4: [Errno 1094995529] Invalid data found when processing input: '/home/z/Music/st/Kinetics-400/RQ1/Sparse_Keyframe/kaezqpD5X6g.mp4'; last error log: [mov,mp4,m4a,3gp,3g2,mj2] moov atom not found\n",
      "Error processing video kaezqpD5X6g: [Errno 1094995529] Invalid data found when processing input: '/home/z/Music/st/Kinetics-400/RQ1/Sparse_Keyframe/kaezqpD5X6g.mp4'; last error log: [mov,mp4,m4a,3gp,3g2,mj2] moov atom not found\n"
     ]
    },
    {
     "name": "stderr",
     "output_type": "stream",
     "text": [
      "Processing videos:   3%|▎         | 134/4000 [00:21<10:29,  6.14it/s]Format mov,mp4,m4a,3gp,3g2,mj2 detected only with low score of 1, misdetection possible!\n",
      "moov atom not found\n",
      "Processing videos:   3%|▎         | 136/4000 [00:21<08:07,  7.92it/s]"
     ]
    },
    {
     "name": "stdout",
     "output_type": "stream",
     "text": [
      "Error processing video /home/z/Music/st/Kinetics-400/RQ1/Sparse_Keyframe/bFiXo1rNCHk.mp4: [Errno 1094995529] Invalid data found when processing input: '/home/z/Music/st/Kinetics-400/RQ1/Sparse_Keyframe/bFiXo1rNCHk.mp4'; last error log: [mov,mp4,m4a,3gp,3g2,mj2] moov atom not found\n",
      "Error processing video bFiXo1rNCHk: [Errno 1094995529] Invalid data found when processing input: '/home/z/Music/st/Kinetics-400/RQ1/Sparse_Keyframe/bFiXo1rNCHk.mp4'; last error log: [mov,mp4,m4a,3gp,3g2,mj2] moov atom not found\n"
     ]
    },
    {
     "name": "stderr",
     "output_type": "stream",
     "text": [
      "Processing videos:   4%|▎         | 146/4000 [00:23<10:15,  6.26it/s]Format mov,mp4,m4a,3gp,3g2,mj2 detected only with low score of 1, misdetection possible!\n",
      "moov atom not found\n",
      "Processing videos:   4%|▎         | 148/4000 [00:23<07:57,  8.06it/s]"
     ]
    },
    {
     "name": "stdout",
     "output_type": "stream",
     "text": [
      "Error processing video /home/z/Music/st/Kinetics-400/RQ1/Sparse_Keyframe/t3h2PvBUk3k.mp4: [Errno 1094995529] Invalid data found when processing input: '/home/z/Music/st/Kinetics-400/RQ1/Sparse_Keyframe/t3h2PvBUk3k.mp4'; last error log: [mov,mp4,m4a,3gp,3g2,mj2] moov atom not found\n",
      "Error processing video t3h2PvBUk3k: [Errno 1094995529] Invalid data found when processing input: '/home/z/Music/st/Kinetics-400/RQ1/Sparse_Keyframe/t3h2PvBUk3k.mp4'; last error log: [mov,mp4,m4a,3gp,3g2,mj2] moov atom not found\n"
     ]
    },
    {
     "name": "stderr",
     "output_type": "stream",
     "text": [
      "Processing videos:   4%|▍         | 177/4000 [00:28<12:33,  5.07it/s]Format mov,mp4,m4a,3gp,3g2,mj2 detected only with low score of 1, misdetection possible!\n",
      "moov atom not found\n",
      "Processing videos:   4%|▍         | 179/4000 [00:28<09:05,  7.00it/s]"
     ]
    },
    {
     "name": "stdout",
     "output_type": "stream",
     "text": [
      "Error processing video /home/z/Music/st/Kinetics-400/RQ1/Sparse_Keyframe/6ropBPG4sP8.mp4: [Errno 1094995529] Invalid data found when processing input: '/home/z/Music/st/Kinetics-400/RQ1/Sparse_Keyframe/6ropBPG4sP8.mp4'; last error log: [mov,mp4,m4a,3gp,3g2,mj2] moov atom not found\n",
      "Error processing video 6ropBPG4sP8: [Errno 1094995529] Invalid data found when processing input: '/home/z/Music/st/Kinetics-400/RQ1/Sparse_Keyframe/6ropBPG4sP8.mp4'; last error log: [mov,mp4,m4a,3gp,3g2,mj2] moov atom not found\n"
     ]
    },
    {
     "name": "stderr",
     "output_type": "stream",
     "text": [
      "Processing videos:   6%|▌         | 239/4000 [00:39<10:05,  6.21it/s]Format mov,mp4,m4a,3gp,3g2,mj2 detected only with low score of 1, misdetection possible!\n",
      "moov atom not found\n",
      "Processing videos:   6%|▌         | 241/4000 [00:39<07:45,  8.08it/s]"
     ]
    },
    {
     "name": "stdout",
     "output_type": "stream",
     "text": [
      "Error processing video /home/z/Music/st/Kinetics-400/RQ1/Sparse_Keyframe/WEQbqLqRvOY.mp4: [Errno 1094995529] Invalid data found when processing input: '/home/z/Music/st/Kinetics-400/RQ1/Sparse_Keyframe/WEQbqLqRvOY.mp4'; last error log: [mov,mp4,m4a,3gp,3g2,mj2] moov atom not found\n",
      "Error processing video WEQbqLqRvOY: [Errno 1094995529] Invalid data found when processing input: '/home/z/Music/st/Kinetics-400/RQ1/Sparse_Keyframe/WEQbqLqRvOY.mp4'; last error log: [mov,mp4,m4a,3gp,3g2,mj2] moov atom not found\n"
     ]
    },
    {
     "name": "stderr",
     "output_type": "stream",
     "text": [
      "Processing videos:   6%|▋         | 253/4000 [00:41<11:04,  5.64it/s]Format mov,mp4,m4a,3gp,3g2,mj2 detected only with low score of 1, misdetection possible!\n",
      "moov atom not found\n"
     ]
    },
    {
     "name": "stdout",
     "output_type": "stream",
     "text": [
      "Error processing video /home/z/Music/st/Kinetics-400/RQ1/Sparse_Keyframe/dB6BQ-vMTqM.mp4: [Errno 1094995529] Invalid data found when processing input: '/home/z/Music/st/Kinetics-400/RQ1/Sparse_Keyframe/dB6BQ-vMTqM.mp4'; last error log: [mov,mp4,m4a,3gp,3g2,mj2] moov atom not found\n",
      "Error processing video dB6BQ-vMTqM: [Errno 1094995529] Invalid data found when processing input: '/home/z/Music/st/Kinetics-400/RQ1/Sparse_Keyframe/dB6BQ-vMTqM.mp4'; last error log: [mov,mp4,m4a,3gp,3g2,mj2] moov atom not found\n"
     ]
    },
    {
     "name": "stderr",
     "output_type": "stream",
     "text": [
      "Processing videos:   7%|▋         | 264/4000 [00:44<11:12,  5.55it/s]Format mov,mp4,m4a,3gp,3g2,mj2 detected only with low score of 1, misdetection possible!\n",
      "moov atom not found\n",
      "Processing videos:   7%|▋         | 266/4000 [00:44<08:22,  7.43it/s]"
     ]
    },
    {
     "name": "stdout",
     "output_type": "stream",
     "text": [
      "Error processing video /home/z/Music/st/Kinetics-400/RQ1/Sparse_Keyframe/hrquMfA8ToQ.mp4: [Errno 1094995529] Invalid data found when processing input: '/home/z/Music/st/Kinetics-400/RQ1/Sparse_Keyframe/hrquMfA8ToQ.mp4'; last error log: [mov,mp4,m4a,3gp,3g2,mj2] moov atom not found\n",
      "Error processing video hrquMfA8ToQ: [Errno 1094995529] Invalid data found when processing input: '/home/z/Music/st/Kinetics-400/RQ1/Sparse_Keyframe/hrquMfA8ToQ.mp4'; last error log: [mov,mp4,m4a,3gp,3g2,mj2] moov atom not found\n"
     ]
    },
    {
     "name": "stderr",
     "output_type": "stream",
     "text": [
      "Processing videos:   9%|▉         | 363/4000 [01:00<10:24,  5.82it/s]Format mov,mp4,m4a,3gp,3g2,mj2 detected only with low score of 1, misdetection possible!\n",
      "moov atom not found\n",
      "Processing videos:   9%|▉         | 365/4000 [01:00<07:47,  7.77it/s]"
     ]
    },
    {
     "name": "stdout",
     "output_type": "stream",
     "text": [
      "Error processing video /home/z/Music/st/Kinetics-400/RQ1/Sparse_Keyframe/eU7Ht6zJcyk.mp4: [Errno 1094995529] Invalid data found when processing input: '/home/z/Music/st/Kinetics-400/RQ1/Sparse_Keyframe/eU7Ht6zJcyk.mp4'; last error log: [mov,mp4,m4a,3gp,3g2,mj2] moov atom not found\n",
      "Error processing video eU7Ht6zJcyk: [Errno 1094995529] Invalid data found when processing input: '/home/z/Music/st/Kinetics-400/RQ1/Sparse_Keyframe/eU7Ht6zJcyk.mp4'; last error log: [mov,mp4,m4a,3gp,3g2,mj2] moov atom not found\n"
     ]
    },
    {
     "name": "stderr",
     "output_type": "stream",
     "text": [
      "Processing videos:  10%|▉         | 395/4000 [01:05<09:38,  6.23it/s]Format mov,mp4,m4a,3gp,3g2,mj2 detected only with low score of 1, misdetection possible!\n",
      "moov atom not found\n",
      "Processing videos:  10%|▉         | 397/4000 [01:06<07:24,  8.10it/s]"
     ]
    },
    {
     "name": "stdout",
     "output_type": "stream",
     "text": [
      "Error processing video /home/z/Music/st/Kinetics-400/RQ1/Sparse_Keyframe/eK63oX9yOYQ.mp4: [Errno 1094995529] Invalid data found when processing input: '/home/z/Music/st/Kinetics-400/RQ1/Sparse_Keyframe/eK63oX9yOYQ.mp4'; last error log: [mov,mp4,m4a,3gp,3g2,mj2] moov atom not found\n",
      "Error processing video eK63oX9yOYQ: [Errno 1094995529] Invalid data found when processing input: '/home/z/Music/st/Kinetics-400/RQ1/Sparse_Keyframe/eK63oX9yOYQ.mp4'; last error log: [mov,mp4,m4a,3gp,3g2,mj2] moov atom not found\n"
     ]
    },
    {
     "name": "stderr",
     "output_type": "stream",
     "text": [
      "Processing videos:  11%|█         | 444/4000 [01:13<09:26,  6.27it/s]Format mov,mp4,m4a,3gp,3g2,mj2 detected only with low score of 1, misdetection possible!\n",
      "moov atom not found\n",
      "Processing videos:  11%|█         | 446/4000 [01:14<07:49,  7.57it/s]"
     ]
    },
    {
     "name": "stdout",
     "output_type": "stream",
     "text": [
      "Error processing video /home/z/Music/st/Kinetics-400/RQ1/Sparse_Keyframe/KCSIX_N5heI.mp4: [Errno 1094995529] Invalid data found when processing input: '/home/z/Music/st/Kinetics-400/RQ1/Sparse_Keyframe/KCSIX_N5heI.mp4'; last error log: [mov,mp4,m4a,3gp,3g2,mj2] moov atom not found\n",
      "Error processing video KCSIX_N5heI: [Errno 1094995529] Invalid data found when processing input: '/home/z/Music/st/Kinetics-400/RQ1/Sparse_Keyframe/KCSIX_N5heI.mp4'; last error log: [mov,mp4,m4a,3gp,3g2,mj2] moov atom not found\n"
     ]
    },
    {
     "name": "stderr",
     "output_type": "stream",
     "text": [
      "Processing videos:  11%|█▏        | 455/4000 [01:15<10:49,  5.46it/s]Format mov,mp4,m4a,3gp,3g2,mj2 detected only with low score of 1, misdetection possible!\n",
      "moov atom not found\n",
      "Processing videos:  11%|█▏        | 457/4000 [01:15<08:13,  7.18it/s]"
     ]
    },
    {
     "name": "stdout",
     "output_type": "stream",
     "text": [
      "Error processing video /home/z/Music/st/Kinetics-400/RQ1/Sparse_Keyframe/cS3uQbwZt2c.mp4: [Errno 1094995529] Invalid data found when processing input: '/home/z/Music/st/Kinetics-400/RQ1/Sparse_Keyframe/cS3uQbwZt2c.mp4'; last error log: [mov,mp4,m4a,3gp,3g2,mj2] moov atom not found\n",
      "Error processing video cS3uQbwZt2c: [Errno 1094995529] Invalid data found when processing input: '/home/z/Music/st/Kinetics-400/RQ1/Sparse_Keyframe/cS3uQbwZt2c.mp4'; last error log: [mov,mp4,m4a,3gp,3g2,mj2] moov atom not found\n"
     ]
    },
    {
     "name": "stderr",
     "output_type": "stream",
     "text": [
      "Processing videos:  13%|█▎        | 510/4000 [01:24<09:44,  5.97it/s]Format mov,mp4,m4a,3gp,3g2,mj2 detected only with low score of 1, misdetection possible!\n",
      "moov atom not found\n",
      "Processing videos:  13%|█▎        | 512/4000 [01:25<07:26,  7.81it/s]"
     ]
    },
    {
     "name": "stdout",
     "output_type": "stream",
     "text": [
      "Error processing video /home/z/Music/st/Kinetics-400/RQ1/Sparse_Keyframe/JtS3f6xY9xc.mp4: [Errno 1094995529] Invalid data found when processing input: '/home/z/Music/st/Kinetics-400/RQ1/Sparse_Keyframe/JtS3f6xY9xc.mp4'; last error log: [mov,mp4,m4a,3gp,3g2,mj2] moov atom not found\n",
      "Error processing video JtS3f6xY9xc: [Errno 1094995529] Invalid data found when processing input: '/home/z/Music/st/Kinetics-400/RQ1/Sparse_Keyframe/JtS3f6xY9xc.mp4'; last error log: [mov,mp4,m4a,3gp,3g2,mj2] moov atom not found\n"
     ]
    },
    {
     "name": "stderr",
     "output_type": "stream",
     "text": [
      "Processing videos:  13%|█▎        | 518/4000 [01:25<09:08,  6.34it/s]Format mov,mp4,m4a,3gp,3g2,mj2 detected only with low score of 1, misdetection possible!\n",
      "moov atom not found\n",
      "Processing videos:  13%|█▎        | 520/4000 [01:26<07:09,  8.10it/s]"
     ]
    },
    {
     "name": "stdout",
     "output_type": "stream",
     "text": [
      "Error processing video /home/z/Music/st/Kinetics-400/RQ1/Sparse_Keyframe/xNDArxGeQCg.mp4: [Errno 1094995529] Invalid data found when processing input: '/home/z/Music/st/Kinetics-400/RQ1/Sparse_Keyframe/xNDArxGeQCg.mp4'; last error log: [mov,mp4,m4a,3gp,3g2,mj2] moov atom not found\n",
      "Error processing video xNDArxGeQCg: [Errno 1094995529] Invalid data found when processing input: '/home/z/Music/st/Kinetics-400/RQ1/Sparse_Keyframe/xNDArxGeQCg.mp4'; last error log: [mov,mp4,m4a,3gp,3g2,mj2] moov atom not found\n"
     ]
    },
    {
     "name": "stderr",
     "output_type": "stream",
     "text": [
      "Processing videos:  14%|█▍        | 564/4000 [01:33<09:12,  6.21it/s]Format mov,mp4,m4a,3gp,3g2,mj2 detected only with low score of 1, misdetection possible!\n",
      "moov atom not found\n",
      "Processing videos:  14%|█▍        | 566/4000 [01:33<07:07,  8.03it/s]"
     ]
    },
    {
     "name": "stdout",
     "output_type": "stream",
     "text": [
      "Error processing video /home/z/Music/st/Kinetics-400/RQ1/Sparse_Keyframe/4iVBolW8F1o.mp4: [Errno 1094995529] Invalid data found when processing input: '/home/z/Music/st/Kinetics-400/RQ1/Sparse_Keyframe/4iVBolW8F1o.mp4'; last error log: [mov,mp4,m4a,3gp,3g2,mj2] moov atom not found\n",
      "Error processing video 4iVBolW8F1o: [Errno 1094995529] Invalid data found when processing input: '/home/z/Music/st/Kinetics-400/RQ1/Sparse_Keyframe/4iVBolW8F1o.mp4'; last error log: [mov,mp4,m4a,3gp,3g2,mj2] moov atom not found\n"
     ]
    },
    {
     "name": "stderr",
     "output_type": "stream",
     "text": [
      "Processing videos:  15%|█▍        | 584/4000 [01:37<09:38,  5.91it/s]Format mov,mp4,m4a,3gp,3g2,mj2 detected only with low score of 1, misdetection possible!\n",
      "moov atom not found\n",
      "Processing videos:  15%|█▍        | 586/4000 [01:37<07:47,  7.31it/s]Format mov,mp4,m4a,3gp,3g2,mj2 detected only with low score of 1, misdetection possible!\n",
      "moov atom not found\n"
     ]
    },
    {
     "name": "stdout",
     "output_type": "stream",
     "text": [
      "Error processing video /home/z/Music/st/Kinetics-400/RQ1/Sparse_Keyframe/HmNj7yrUON8.mp4: [Errno 1094995529] Invalid data found when processing input: '/home/z/Music/st/Kinetics-400/RQ1/Sparse_Keyframe/HmNj7yrUON8.mp4'; last error log: [mov,mp4,m4a,3gp,3g2,mj2] moov atom not found\n",
      "Error processing video HmNj7yrUON8: [Errno 1094995529] Invalid data found when processing input: '/home/z/Music/st/Kinetics-400/RQ1/Sparse_Keyframe/HmNj7yrUON8.mp4'; last error log: [mov,mp4,m4a,3gp,3g2,mj2] moov atom not found\n",
      "Error processing video /home/z/Music/st/Kinetics-400/RQ1/Sparse_Keyframe/LwEFgdVhR0w.mp4: [Errno 1094995529] Invalid data found when processing input: '/home/z/Music/st/Kinetics-400/RQ1/Sparse_Keyframe/LwEFgdVhR0w.mp4'; last error log: [mov,mp4,m4a,3gp,3g2,mj2] moov atom not found\n",
      "Error processing video LwEFgdVhR0w: [Errno 1094995529] Invalid data found when processing input: '/home/z/Music/st/Kinetics-400/RQ1/Sparse_Keyframe/LwEFgdVhR0w.mp4'; last error log: [mov,mp4,m4a,3gp,3g2,mj2] moov atom not found\n"
     ]
    },
    {
     "name": "stderr",
     "output_type": "stream",
     "text": [
      "Processing videos:  15%|█▌        | 615/4000 [01:41<09:02,  6.24it/s]Format mov,mp4,m4a,3gp,3g2,mj2 detected only with low score of 1, misdetection possible!\n",
      "moov atom not found\n",
      "Processing videos:  15%|█▌        | 617/4000 [01:42<06:56,  8.12it/s]"
     ]
    },
    {
     "name": "stdout",
     "output_type": "stream",
     "text": [
      "Error processing video /home/z/Music/st/Kinetics-400/RQ1/Sparse_Keyframe/n0807kumDTM.mp4: [Errno 1094995529] Invalid data found when processing input: '/home/z/Music/st/Kinetics-400/RQ1/Sparse_Keyframe/n0807kumDTM.mp4'; last error log: [mov,mp4,m4a,3gp,3g2,mj2] moov atom not found\n",
      "Error processing video n0807kumDTM: [Errno 1094995529] Invalid data found when processing input: '/home/z/Music/st/Kinetics-400/RQ1/Sparse_Keyframe/n0807kumDTM.mp4'; last error log: [mov,mp4,m4a,3gp,3g2,mj2] moov atom not found\n"
     ]
    },
    {
     "name": "stderr",
     "output_type": "stream",
     "text": [
      "Processing videos:  15%|█▌        | 618/4000 [01:42<07:26,  7.58it/s]Format mov,mp4,m4a,3gp,3g2,mj2 detected only with low score of 1, misdetection possible!\n",
      "moov atom not found\n",
      "Processing videos:  16%|█▌        | 620/4000 [01:42<06:12,  9.07it/s]"
     ]
    },
    {
     "name": "stdout",
     "output_type": "stream",
     "text": [
      "Error processing video /home/z/Music/st/Kinetics-400/RQ1/Sparse_Keyframe/DMDe-I5VzQA.mp4: [Errno 1094995529] Invalid data found when processing input: '/home/z/Music/st/Kinetics-400/RQ1/Sparse_Keyframe/DMDe-I5VzQA.mp4'; last error log: [mov,mp4,m4a,3gp,3g2,mj2] moov atom not found\n",
      "Error processing video DMDe-I5VzQA: [Errno 1094995529] Invalid data found when processing input: '/home/z/Music/st/Kinetics-400/RQ1/Sparse_Keyframe/DMDe-I5VzQA.mp4'; last error log: [mov,mp4,m4a,3gp,3g2,mj2] moov atom not found\n"
     ]
    },
    {
     "name": "stderr",
     "output_type": "stream",
     "text": [
      "Processing videos:  17%|█▋        | 664/4000 [01:49<08:51,  6.27it/s]Format mov,mp4,m4a,3gp,3g2,mj2 detected only with low score of 1, misdetection possible!\n",
      "moov atom not found\n",
      "Processing videos:  17%|█▋        | 666/4000 [01:49<06:50,  8.13it/s]"
     ]
    },
    {
     "name": "stdout",
     "output_type": "stream",
     "text": [
      "Error processing video /home/z/Music/st/Kinetics-400/RQ1/Sparse_Keyframe/BGbKbr0c-9Y.mp4: [Errno 1094995529] Invalid data found when processing input: '/home/z/Music/st/Kinetics-400/RQ1/Sparse_Keyframe/BGbKbr0c-9Y.mp4'; last error log: [mov,mp4,m4a,3gp,3g2,mj2] moov atom not found\n",
      "Error processing video BGbKbr0c-9Y: [Errno 1094995529] Invalid data found when processing input: '/home/z/Music/st/Kinetics-400/RQ1/Sparse_Keyframe/BGbKbr0c-9Y.mp4'; last error log: [mov,mp4,m4a,3gp,3g2,mj2] moov atom not found\n"
     ]
    },
    {
     "name": "stderr",
     "output_type": "stream",
     "text": [
      "Processing videos:  17%|█▋        | 682/4000 [01:52<08:58,  6.16it/s]Format mov,mp4,m4a,3gp,3g2,mj2 detected only with low score of 1, misdetection possible!\n",
      "moov atom not found\n",
      "Processing videos:  17%|█▋        | 684/4000 [01:52<06:56,  7.97it/s]"
     ]
    },
    {
     "name": "stdout",
     "output_type": "stream",
     "text": [
      "Error processing video /home/z/Music/st/Kinetics-400/RQ1/Sparse_Keyframe/S7N6GWfVnMw.mp4: [Errno 1094995529] Invalid data found when processing input: '/home/z/Music/st/Kinetics-400/RQ1/Sparse_Keyframe/S7N6GWfVnMw.mp4'; last error log: [mov,mp4,m4a,3gp,3g2,mj2] moov atom not found\n",
      "Error processing video S7N6GWfVnMw: [Errno 1094995529] Invalid data found when processing input: '/home/z/Music/st/Kinetics-400/RQ1/Sparse_Keyframe/S7N6GWfVnMw.mp4'; last error log: [mov,mp4,m4a,3gp,3g2,mj2] moov atom not found\n"
     ]
    },
    {
     "name": "stderr",
     "output_type": "stream",
     "text": [
      "Processing videos:  18%|█▊        | 701/4000 [01:55<08:57,  6.14it/s]Format mov,mp4,m4a,3gp,3g2,mj2 detected only with low score of 1, misdetection possible!\n",
      "moov atom not found\n",
      "Processing videos:  18%|█▊        | 703/4000 [01:55<06:53,  7.98it/s]"
     ]
    },
    {
     "name": "stdout",
     "output_type": "stream",
     "text": [
      "Error processing video /home/z/Music/st/Kinetics-400/RQ1/Sparse_Keyframe/eho0auiBhTY.mp4: [Errno 1094995529] Invalid data found when processing input: '/home/z/Music/st/Kinetics-400/RQ1/Sparse_Keyframe/eho0auiBhTY.mp4'; last error log: [mov,mp4,m4a,3gp,3g2,mj2] moov atom not found\n",
      "Error processing video eho0auiBhTY: [Errno 1094995529] Invalid data found when processing input: '/home/z/Music/st/Kinetics-400/RQ1/Sparse_Keyframe/eho0auiBhTY.mp4'; last error log: [mov,mp4,m4a,3gp,3g2,mj2] moov atom not found\n"
     ]
    },
    {
     "name": "stderr",
     "output_type": "stream",
     "text": [
      "Processing videos:  19%|█▉        | 766/4000 [02:05<08:40,  6.22it/s]Format mov,mp4,m4a,3gp,3g2,mj2 detected only with low score of 1, misdetection possible!\n",
      "moov atom not found\n",
      "Processing videos:  19%|█▉        | 768/4000 [02:05<06:34,  8.19it/s]"
     ]
    },
    {
     "name": "stdout",
     "output_type": "stream",
     "text": [
      "Error processing video /home/z/Music/st/Kinetics-400/RQ1/Sparse_Keyframe/GUO-poN9EdQ.mp4: [Errno 1094995529] Invalid data found when processing input: '/home/z/Music/st/Kinetics-400/RQ1/Sparse_Keyframe/GUO-poN9EdQ.mp4'; last error log: [mov,mp4,m4a,3gp,3g2,mj2] moov atom not found\n",
      "Error processing video GUO-poN9EdQ: [Errno 1094995529] Invalid data found when processing input: '/home/z/Music/st/Kinetics-400/RQ1/Sparse_Keyframe/GUO-poN9EdQ.mp4'; last error log: [mov,mp4,m4a,3gp,3g2,mj2] moov atom not found\n"
     ]
    },
    {
     "name": "stderr",
     "output_type": "stream",
     "text": [
      "Processing videos:  20%|█▉        | 783/4000 [02:08<08:35,  6.24it/s]Format mov,mp4,m4a,3gp,3g2,mj2 detected only with low score of 1, misdetection possible!\n",
      "moov atom not found\n",
      "Processing videos:  20%|█▉        | 785/4000 [02:08<06:34,  8.14it/s]"
     ]
    },
    {
     "name": "stdout",
     "output_type": "stream",
     "text": [
      "Error processing video /home/z/Music/st/Kinetics-400/RQ1/Sparse_Keyframe/lcrknfBv_wI.mp4: [Errno 1094995529] Invalid data found when processing input: '/home/z/Music/st/Kinetics-400/RQ1/Sparse_Keyframe/lcrknfBv_wI.mp4'; last error log: [mov,mp4,m4a,3gp,3g2,mj2] moov atom not found\n",
      "Error processing video lcrknfBv_wI: [Errno 1094995529] Invalid data found when processing input: '/home/z/Music/st/Kinetics-400/RQ1/Sparse_Keyframe/lcrknfBv_wI.mp4'; last error log: [mov,mp4,m4a,3gp,3g2,mj2] moov atom not found\n"
     ]
    },
    {
     "name": "stderr",
     "output_type": "stream",
     "text": [
      "Processing videos:  20%|█▉        | 797/4000 [02:10<10:04,  5.30it/s]Format mov,mp4,m4a,3gp,3g2,mj2 detected only with low score of 1, misdetection possible!\n",
      "moov atom not found\n",
      "Processing videos:  20%|█▉        | 799/4000 [02:10<07:28,  7.14it/s]"
     ]
    },
    {
     "name": "stdout",
     "output_type": "stream",
     "text": [
      "Error processing video /home/z/Music/st/Kinetics-400/RQ1/Sparse_Keyframe/WMfE3_D4syk.mp4: [Errno 1094995529] Invalid data found when processing input: '/home/z/Music/st/Kinetics-400/RQ1/Sparse_Keyframe/WMfE3_D4syk.mp4'; last error log: [mov,mp4,m4a,3gp,3g2,mj2] moov atom not found\n",
      "Error processing video WMfE3_D4syk: [Errno 1094995529] Invalid data found when processing input: '/home/z/Music/st/Kinetics-400/RQ1/Sparse_Keyframe/WMfE3_D4syk.mp4'; last error log: [mov,mp4,m4a,3gp,3g2,mj2] moov atom not found\n"
     ]
    },
    {
     "name": "stderr",
     "output_type": "stream",
     "text": [
      "Processing videos:  21%|██▏       | 851/4000 [02:19<08:32,  6.15it/s]Format mov,mp4,m4a,3gp,3g2,mj2 detected only with low score of 1, misdetection possible!\n",
      "moov atom not found\n",
      "Processing videos:  21%|██▏       | 853/4000 [02:19<06:30,  8.06it/s]"
     ]
    },
    {
     "name": "stdout",
     "output_type": "stream",
     "text": [
      "Error processing video /home/z/Music/st/Kinetics-400/RQ1/Sparse_Keyframe/l_9GEyNNkJU.mp4: [Errno 1094995529] Invalid data found when processing input: '/home/z/Music/st/Kinetics-400/RQ1/Sparse_Keyframe/l_9GEyNNkJU.mp4'; last error log: [mov,mp4,m4a,3gp,3g2,mj2] moov atom not found\n",
      "Error processing video l_9GEyNNkJU: [Errno 1094995529] Invalid data found when processing input: '/home/z/Music/st/Kinetics-400/RQ1/Sparse_Keyframe/l_9GEyNNkJU.mp4'; last error log: [mov,mp4,m4a,3gp,3g2,mj2] moov atom not found\n"
     ]
    },
    {
     "name": "stderr",
     "output_type": "stream",
     "text": [
      "Processing videos:  22%|██▏       | 866/4000 [02:21<08:24,  6.21it/s]Format mov,mp4,m4a,3gp,3g2,mj2 detected only with low score of 1, misdetection possible!\n",
      "moov atom not found\n",
      "Processing videos:  22%|██▏       | 868/4000 [02:21<06:33,  7.96it/s]"
     ]
    },
    {
     "name": "stdout",
     "output_type": "stream",
     "text": [
      "Error processing video /home/z/Music/st/Kinetics-400/RQ1/Sparse_Keyframe/qVdeSrFMvHM.mp4: [Errno 1094995529] Invalid data found when processing input: '/home/z/Music/st/Kinetics-400/RQ1/Sparse_Keyframe/qVdeSrFMvHM.mp4'; last error log: [mov,mp4,m4a,3gp,3g2,mj2] moov atom not found\n",
      "Error processing video qVdeSrFMvHM: [Errno 1094995529] Invalid data found when processing input: '/home/z/Music/st/Kinetics-400/RQ1/Sparse_Keyframe/qVdeSrFMvHM.mp4'; last error log: [mov,mp4,m4a,3gp,3g2,mj2] moov atom not found\n"
     ]
    },
    {
     "name": "stderr",
     "output_type": "stream",
     "text": [
      "Processing videos:  22%|██▏       | 872/4000 [02:22<08:36,  6.06it/s]Format mov,mp4,m4a,3gp,3g2,mj2 detected only with low score of 1, misdetection possible!\n",
      "moov atom not found\n",
      "Format mov,mp4,m4a,3gp,3g2,mj2 detected only with low score of 1, misdetection possible!\n",
      "moov atom not found\n",
      "Processing videos:  22%|██▏       | 875/4000 [02:22<05:26,  9.59it/s]"
     ]
    },
    {
     "name": "stdout",
     "output_type": "stream",
     "text": [
      "Error processing video /home/z/Music/st/Kinetics-400/RQ1/Sparse_Keyframe/m7_lBKonHk0.mp4: [Errno 1094995529] Invalid data found when processing input: '/home/z/Music/st/Kinetics-400/RQ1/Sparse_Keyframe/m7_lBKonHk0.mp4'; last error log: [mov,mp4,m4a,3gp,3g2,mj2] moov atom not found\n",
      "Error processing video m7_lBKonHk0: [Errno 1094995529] Invalid data found when processing input: '/home/z/Music/st/Kinetics-400/RQ1/Sparse_Keyframe/m7_lBKonHk0.mp4'; last error log: [mov,mp4,m4a,3gp,3g2,mj2] moov atom not found\n",
      "Error processing video /home/z/Music/st/Kinetics-400/RQ1/Sparse_Keyframe/N0ZbDTuOlQA.mp4: [Errno 1094995529] Invalid data found when processing input: '/home/z/Music/st/Kinetics-400/RQ1/Sparse_Keyframe/N0ZbDTuOlQA.mp4'; last error log: [mov,mp4,m4a,3gp,3g2,mj2] moov atom not found\n",
      "Error processing video N0ZbDTuOlQA: [Errno 1094995529] Invalid data found when processing input: '/home/z/Music/st/Kinetics-400/RQ1/Sparse_Keyframe/N0ZbDTuOlQA.mp4'; last error log: [mov,mp4,m4a,3gp,3g2,mj2] moov atom not found\n"
     ]
    },
    {
     "name": "stderr",
     "output_type": "stream",
     "text": [
      "Processing videos:  22%|██▏       | 880/4000 [02:23<08:16,  6.29it/s]Format mov,mp4,m4a,3gp,3g2,mj2 detected only with low score of 1, misdetection possible!\n",
      "moov atom not found\n",
      "Processing videos:  22%|██▏       | 882/4000 [02:23<06:23,  8.14it/s]Format mov,mp4,m4a,3gp,3g2,mj2 detected only with low score of 1, misdetection possible!\n",
      "moov atom not found\n"
     ]
    },
    {
     "name": "stdout",
     "output_type": "stream",
     "text": [
      "Error processing video /home/z/Music/st/Kinetics-400/RQ1/Sparse_Keyframe/xKmkpXbjFHU.mp4: [Errno 1094995529] Invalid data found when processing input: '/home/z/Music/st/Kinetics-400/RQ1/Sparse_Keyframe/xKmkpXbjFHU.mp4'; last error log: [mov,mp4,m4a,3gp,3g2,mj2] moov atom not found\n",
      "Error processing video xKmkpXbjFHU: [Errno 1094995529] Invalid data found when processing input: '/home/z/Music/st/Kinetics-400/RQ1/Sparse_Keyframe/xKmkpXbjFHU.mp4'; last error log: [mov,mp4,m4a,3gp,3g2,mj2] moov atom not found\n",
      "Error processing video /home/z/Music/st/Kinetics-400/RQ1/Sparse_Keyframe/1xcHsgK8-ow.mp4: [Errno 1094995529] Invalid data found when processing input: '/home/z/Music/st/Kinetics-400/RQ1/Sparse_Keyframe/1xcHsgK8-ow.mp4'; last error log: [mov,mp4,m4a,3gp,3g2,mj2] moov atom not found\n",
      "Error processing video 1xcHsgK8-ow: [Errno 1094995529] Invalid data found when processing input: '/home/z/Music/st/Kinetics-400/RQ1/Sparse_Keyframe/1xcHsgK8-ow.mp4'; last error log: [mov,mp4,m4a,3gp,3g2,mj2] moov atom not found\n"
     ]
    },
    {
     "name": "stderr",
     "output_type": "stream",
     "text": [
      "Processing videos:  22%|██▏       | 886/4000 [02:24<06:42,  7.73it/s]Format mov,mp4,m4a,3gp,3g2,mj2 detected only with low score of 1, misdetection possible!\n",
      "moov atom not found\n",
      "Processing videos:  22%|██▏       | 888/4000 [02:24<05:39,  9.16it/s]"
     ]
    },
    {
     "name": "stdout",
     "output_type": "stream",
     "text": [
      "Error processing video /home/z/Music/st/Kinetics-400/RQ1/Sparse_Keyframe/CQiKFPAZ9wY.mp4: [Errno 1094995529] Invalid data found when processing input: '/home/z/Music/st/Kinetics-400/RQ1/Sparse_Keyframe/CQiKFPAZ9wY.mp4'; last error log: [mov,mp4,m4a,3gp,3g2,mj2] moov atom not found\n",
      "Error processing video CQiKFPAZ9wY: [Errno 1094995529] Invalid data found when processing input: '/home/z/Music/st/Kinetics-400/RQ1/Sparse_Keyframe/CQiKFPAZ9wY.mp4'; last error log: [mov,mp4,m4a,3gp,3g2,mj2] moov atom not found\n"
     ]
    },
    {
     "name": "stderr",
     "output_type": "stream",
     "text": [
      "Processing videos:  22%|██▏       | 893/4000 [02:25<07:35,  6.81it/s]Format mov,mp4,m4a,3gp,3g2,mj2 detected only with low score of 1, misdetection possible!\n",
      "moov atom not found\n",
      "Processing videos:  22%|██▏       | 895/4000 [02:25<06:04,  8.52it/s]"
     ]
    },
    {
     "name": "stdout",
     "output_type": "stream",
     "text": [
      "Error processing video /home/z/Music/st/Kinetics-400/RQ1/Sparse_Keyframe/N4WxD38r2TY.mp4: [Errno 1094995529] Invalid data found when processing input: '/home/z/Music/st/Kinetics-400/RQ1/Sparse_Keyframe/N4WxD38r2TY.mp4'; last error log: [mov,mp4,m4a,3gp,3g2,mj2] moov atom not found\n",
      "Error processing video N4WxD38r2TY: [Errno 1094995529] Invalid data found when processing input: '/home/z/Music/st/Kinetics-400/RQ1/Sparse_Keyframe/N4WxD38r2TY.mp4'; last error log: [mov,mp4,m4a,3gp,3g2,mj2] moov atom not found\n"
     ]
    },
    {
     "name": "stderr",
     "output_type": "stream",
     "text": [
      "Processing videos:  22%|██▏       | 897/4000 [02:25<07:33,  6.85it/s]Format mov,mp4,m4a,3gp,3g2,mj2 detected only with low score of 1, misdetection possible!\n",
      "moov atom not found\n",
      "Processing videos:  22%|██▏       | 899/4000 [02:25<06:08,  8.42it/s]"
     ]
    },
    {
     "name": "stdout",
     "output_type": "stream",
     "text": [
      "Error processing video /home/z/Music/st/Kinetics-400/RQ1/Sparse_Keyframe/Hv3u7LpC8kw.mp4: [Errno 1094995529] Invalid data found when processing input: '/home/z/Music/st/Kinetics-400/RQ1/Sparse_Keyframe/Hv3u7LpC8kw.mp4'; last error log: [mov,mp4,m4a,3gp,3g2,mj2] moov atom not found\n",
      "Error processing video Hv3u7LpC8kw: [Errno 1094995529] Invalid data found when processing input: '/home/z/Music/st/Kinetics-400/RQ1/Sparse_Keyframe/Hv3u7LpC8kw.mp4'; last error log: [mov,mp4,m4a,3gp,3g2,mj2] moov atom not found\n"
     ]
    },
    {
     "name": "stderr",
     "output_type": "stream",
     "text": [
      "Processing videos:  25%|██▍       | 991/4000 [02:41<09:05,  5.52it/s]Format mov,mp4,m4a,3gp,3g2,mj2 detected only with low score of 1, misdetection possible!\n",
      "moov atom not found\n",
      "Processing videos:  25%|██▍       | 993/4000 [02:41<06:44,  7.43it/s]"
     ]
    },
    {
     "name": "stdout",
     "output_type": "stream",
     "text": [
      "Error processing video /home/z/Music/st/Kinetics-400/RQ1/Sparse_Keyframe/cluuJyln_K8.mp4: [Errno 1094995529] Invalid data found when processing input: '/home/z/Music/st/Kinetics-400/RQ1/Sparse_Keyframe/cluuJyln_K8.mp4'; last error log: [mov,mp4,m4a,3gp,3g2,mj2] moov atom not found\n",
      "Error processing video cluuJyln_K8: [Errno 1094995529] Invalid data found when processing input: '/home/z/Music/st/Kinetics-400/RQ1/Sparse_Keyframe/cluuJyln_K8.mp4'; last error log: [mov,mp4,m4a,3gp,3g2,mj2] moov atom not found\n"
     ]
    },
    {
     "name": "stderr",
     "output_type": "stream",
     "text": [
      "Processing videos:  25%|██▌       | 1015/4000 [02:46<08:06,  6.13it/s]Format mov,mp4,m4a,3gp,3g2,mj2 detected only with low score of 1, misdetection possible!\n",
      "moov atom not found\n",
      "Processing videos:  25%|██▌       | 1017/4000 [02:46<06:25,  7.74it/s]"
     ]
    },
    {
     "name": "stdout",
     "output_type": "stream",
     "text": [
      "Error processing video /home/z/Music/st/Kinetics-400/RQ1/Sparse_Keyframe/xtSBE8LFhXY.mp4: [Errno 1094995529] Invalid data found when processing input: '/home/z/Music/st/Kinetics-400/RQ1/Sparse_Keyframe/xtSBE8LFhXY.mp4'; last error log: [mov,mp4,m4a,3gp,3g2,mj2] moov atom not found\n",
      "Error processing video xtSBE8LFhXY: [Errno 1094995529] Invalid data found when processing input: '/home/z/Music/st/Kinetics-400/RQ1/Sparse_Keyframe/xtSBE8LFhXY.mp4'; last error log: [mov,mp4,m4a,3gp,3g2,mj2] moov atom not found\n"
     ]
    },
    {
     "name": "stderr",
     "output_type": "stream",
     "text": [
      "Processing videos:  26%|██▌       | 1025/4000 [02:47<08:01,  6.18it/s]Format mov,mp4,m4a,3gp,3g2,mj2 detected only with low score of 1, misdetection possible!\n",
      "moov atom not found\n",
      "Processing videos:  26%|██▌       | 1027/4000 [02:47<06:09,  8.05it/s]"
     ]
    },
    {
     "name": "stdout",
     "output_type": "stream",
     "text": [
      "Error processing video /home/z/Music/st/Kinetics-400/RQ1/Sparse_Keyframe/lw0hnkIDV08.mp4: [Errno 1094995529] Invalid data found when processing input: '/home/z/Music/st/Kinetics-400/RQ1/Sparse_Keyframe/lw0hnkIDV08.mp4'; last error log: [mov,mp4,m4a,3gp,3g2,mj2] moov atom not found\n",
      "Error processing video lw0hnkIDV08: [Errno 1094995529] Invalid data found when processing input: '/home/z/Music/st/Kinetics-400/RQ1/Sparse_Keyframe/lw0hnkIDV08.mp4'; last error log: [mov,mp4,m4a,3gp,3g2,mj2] moov atom not found\n"
     ]
    },
    {
     "name": "stderr",
     "output_type": "stream",
     "text": [
      "Processing videos:  26%|██▌       | 1046/4000 [02:50<08:09,  6.03it/s]Format mov,mp4,m4a,3gp,3g2,mj2 detected only with low score of 1, misdetection possible!\n",
      "moov atom not found\n",
      "Processing videos:  26%|██▌       | 1048/4000 [02:51<06:14,  7.88it/s]"
     ]
    },
    {
     "name": "stdout",
     "output_type": "stream",
     "text": [
      "Error processing video /home/z/Music/st/Kinetics-400/RQ1/Sparse_Keyframe/kX4aBuwGTO0.mp4: [Errno 1094995529] Invalid data found when processing input: '/home/z/Music/st/Kinetics-400/RQ1/Sparse_Keyframe/kX4aBuwGTO0.mp4'; last error log: [mov,mp4,m4a,3gp,3g2,mj2] moov atom not found\n",
      "Error processing video kX4aBuwGTO0: [Errno 1094995529] Invalid data found when processing input: '/home/z/Music/st/Kinetics-400/RQ1/Sparse_Keyframe/kX4aBuwGTO0.mp4'; last error log: [mov,mp4,m4a,3gp,3g2,mj2] moov atom not found\n"
     ]
    },
    {
     "name": "stderr",
     "output_type": "stream",
     "text": [
      "Processing videos:  27%|██▋       | 1082/4000 [02:57<10:39,  4.57it/s]Format mov,mp4,m4a,3gp,3g2,mj2 detected only with low score of 1, misdetection possible!\n",
      "moov atom not found\n",
      "Processing videos:  27%|██▋       | 1084/4000 [02:57<07:34,  6.41it/s]"
     ]
    },
    {
     "name": "stdout",
     "output_type": "stream",
     "text": [
      "Error processing video /home/z/Music/st/Kinetics-400/RQ1/Sparse_Keyframe/FXztaHacQYs.mp4: [Errno 1094995529] Invalid data found when processing input: '/home/z/Music/st/Kinetics-400/RQ1/Sparse_Keyframe/FXztaHacQYs.mp4'; last error log: [mov,mp4,m4a,3gp,3g2,mj2] moov atom not found\n",
      "Error processing video FXztaHacQYs: [Errno 1094995529] Invalid data found when processing input: '/home/z/Music/st/Kinetics-400/RQ1/Sparse_Keyframe/FXztaHacQYs.mp4'; last error log: [mov,mp4,m4a,3gp,3g2,mj2] moov atom not found\n"
     ]
    },
    {
     "name": "stderr",
     "output_type": "stream",
     "text": [
      "Processing videos:  28%|██▊       | 1121/4000 [03:04<08:47,  5.46it/s]Format mov,mp4,m4a,3gp,3g2,mj2 detected only with low score of 1, misdetection possible!\n",
      "moov atom not found\n",
      "Processing videos:  28%|██▊       | 1123/4000 [03:05<06:33,  7.31it/s]"
     ]
    },
    {
     "name": "stdout",
     "output_type": "stream",
     "text": [
      "Error processing video /home/z/Music/st/Kinetics-400/RQ1/Sparse_Keyframe/UGbVU0SGPUo.mp4: [Errno 1094995529] Invalid data found when processing input: '/home/z/Music/st/Kinetics-400/RQ1/Sparse_Keyframe/UGbVU0SGPUo.mp4'; last error log: [mov,mp4,m4a,3gp,3g2,mj2] moov atom not found\n",
      "Error processing video UGbVU0SGPUo: [Errno 1094995529] Invalid data found when processing input: '/home/z/Music/st/Kinetics-400/RQ1/Sparse_Keyframe/UGbVU0SGPUo.mp4'; last error log: [mov,mp4,m4a,3gp,3g2,mj2] moov atom not found\n"
     ]
    },
    {
     "name": "stderr",
     "output_type": "stream",
     "text": [
      "Processing videos:  29%|██▊       | 1149/4000 [03:09<08:26,  5.63it/s]Format mov,mp4,m4a,3gp,3g2,mj2 detected only with low score of 1, misdetection possible!\n",
      "moov atom not found\n",
      "Processing videos:  29%|██▉       | 1151/4000 [03:09<06:24,  7.41it/s]"
     ]
    },
    {
     "name": "stdout",
     "output_type": "stream",
     "text": [
      "Error processing video /home/z/Music/st/Kinetics-400/RQ1/Sparse_Keyframe/u0Wc5Asuvrk.mp4: [Errno 1094995529] Invalid data found when processing input: '/home/z/Music/st/Kinetics-400/RQ1/Sparse_Keyframe/u0Wc5Asuvrk.mp4'; last error log: [mov,mp4,m4a,3gp,3g2,mj2] moov atom not found\n",
      "Error processing video u0Wc5Asuvrk: [Errno 1094995529] Invalid data found when processing input: '/home/z/Music/st/Kinetics-400/RQ1/Sparse_Keyframe/u0Wc5Asuvrk.mp4'; last error log: [mov,mp4,m4a,3gp,3g2,mj2] moov atom not found\n"
     ]
    },
    {
     "name": "stderr",
     "output_type": "stream",
     "text": [
      "Processing videos:  29%|██▉       | 1166/4000 [03:12<07:56,  5.95it/s]Format mov,mp4,m4a,3gp,3g2,mj2 detected only with low score of 1, misdetection possible!\n",
      "moov atom not found\n",
      "Processing videos:  29%|██▉       | 1168/4000 [03:12<06:07,  7.71it/s]"
     ]
    },
    {
     "name": "stdout",
     "output_type": "stream",
     "text": [
      "Error processing video /home/z/Music/st/Kinetics-400/RQ1/Sparse_Keyframe/-9ILBd-ArtM.mp4: [Errno 1094995529] Invalid data found when processing input: '/home/z/Music/st/Kinetics-400/RQ1/Sparse_Keyframe/-9ILBd-ArtM.mp4'; last error log: [mov,mp4,m4a,3gp,3g2,mj2] moov atom not found\n",
      "Error processing video -9ILBd-ArtM: [Errno 1094995529] Invalid data found when processing input: '/home/z/Music/st/Kinetics-400/RQ1/Sparse_Keyframe/-9ILBd-ArtM.mp4'; last error log: [mov,mp4,m4a,3gp,3g2,mj2] moov atom not found\n"
     ]
    },
    {
     "name": "stderr",
     "output_type": "stream",
     "text": [
      "Processing videos:  29%|██▉       | 1172/4000 [03:12<07:18,  6.45it/s]Format mov,mp4,m4a,3gp,3g2,mj2 detected only with low score of 1, misdetection possible!\n",
      "moov atom not found\n"
     ]
    },
    {
     "name": "stdout",
     "output_type": "stream",
     "text": [
      "Error processing video /home/z/Music/st/Kinetics-400/RQ1/Sparse_Keyframe/--dVV4_CSvw.mp4: [Errno 1094995529] Invalid data found when processing input: '/home/z/Music/st/Kinetics-400/RQ1/Sparse_Keyframe/--dVV4_CSvw.mp4'; last error log: [mov,mp4,m4a,3gp,3g2,mj2] moov atom not found\n",
      "Error processing video --dVV4_CSvw: [Errno 1094995529] Invalid data found when processing input: '/home/z/Music/st/Kinetics-400/RQ1/Sparse_Keyframe/--dVV4_CSvw.mp4'; last error log: [mov,mp4,m4a,3gp,3g2,mj2] moov atom not found\n"
     ]
    },
    {
     "name": "stderr",
     "output_type": "stream",
     "text": [
      "Processing videos:  30%|██▉       | 1182/4000 [03:15<09:40,  4.86it/s]Format mov,mp4,m4a,3gp,3g2,mj2 detected only with low score of 1, misdetection possible!\n",
      "moov atom not found\n",
      "Processing videos:  30%|██▉       | 1184/4000 [03:15<07:01,  6.68it/s]"
     ]
    },
    {
     "name": "stdout",
     "output_type": "stream",
     "text": [
      "Error processing video /home/z/Music/st/Kinetics-400/RQ1/Sparse_Keyframe/TSnc09c1HhM.mp4: [Errno 1094995529] Invalid data found when processing input: '/home/z/Music/st/Kinetics-400/RQ1/Sparse_Keyframe/TSnc09c1HhM.mp4'; last error log: [mov,mp4,m4a,3gp,3g2,mj2] moov atom not found\n",
      "Error processing video TSnc09c1HhM: [Errno 1094995529] Invalid data found when processing input: '/home/z/Music/st/Kinetics-400/RQ1/Sparse_Keyframe/TSnc09c1HhM.mp4'; last error log: [mov,mp4,m4a,3gp,3g2,mj2] moov atom not found\n"
     ]
    },
    {
     "name": "stderr",
     "output_type": "stream",
     "text": [
      "Processing videos:  30%|██▉       | 1189/4000 [03:16<08:08,  5.75it/s]Format mov,mp4,m4a,3gp,3g2,mj2 detected only with low score of 1, misdetection possible!\n",
      "moov atom not found\n",
      "Processing videos:  30%|██▉       | 1191/4000 [03:16<06:16,  7.46it/s]"
     ]
    },
    {
     "name": "stdout",
     "output_type": "stream",
     "text": [
      "Error processing video /home/z/Music/st/Kinetics-400/RQ1/Sparse_Keyframe/CJ4-zM_9AHI.mp4: [Errno 1094995529] Invalid data found when processing input: '/home/z/Music/st/Kinetics-400/RQ1/Sparse_Keyframe/CJ4-zM_9AHI.mp4'; last error log: [mov,mp4,m4a,3gp,3g2,mj2] moov atom not found\n",
      "Error processing video CJ4-zM_9AHI: [Errno 1094995529] Invalid data found when processing input: '/home/z/Music/st/Kinetics-400/RQ1/Sparse_Keyframe/CJ4-zM_9AHI.mp4'; last error log: [mov,mp4,m4a,3gp,3g2,mj2] moov atom not found\n"
     ]
    },
    {
     "name": "stderr",
     "output_type": "stream",
     "text": [
      "Processing videos:  30%|██▉       | 1199/4000 [03:17<07:43,  6.05it/s]Format mov,mp4,m4a,3gp,3g2,mj2 detected only with low score of 1, misdetection possible!\n",
      "moov atom not found\n",
      "Processing videos:  30%|███       | 1201/4000 [03:17<05:59,  7.79it/s]"
     ]
    },
    {
     "name": "stdout",
     "output_type": "stream",
     "text": [
      "Error processing video /home/z/Music/st/Kinetics-400/RQ1/Sparse_Keyframe/qnsuLYL9nyY.mp4: [Errno 1094995529] Invalid data found when processing input: '/home/z/Music/st/Kinetics-400/RQ1/Sparse_Keyframe/qnsuLYL9nyY.mp4'; last error log: [mov,mp4,m4a,3gp,3g2,mj2] moov atom not found\n",
      "Error processing video qnsuLYL9nyY: [Errno 1094995529] Invalid data found when processing input: '/home/z/Music/st/Kinetics-400/RQ1/Sparse_Keyframe/qnsuLYL9nyY.mp4'; last error log: [mov,mp4,m4a,3gp,3g2,mj2] moov atom not found\n"
     ]
    },
    {
     "name": "stderr",
     "output_type": "stream",
     "text": [
      "Processing videos:  31%|███       | 1243/4000 [03:25<07:41,  5.98it/s]Format mov,mp4,m4a,3gp,3g2,mj2 detected only with low score of 1, misdetection possible!\n",
      "moov atom not found\n",
      "Processing videos:  31%|███       | 1245/4000 [03:25<05:56,  7.73it/s]"
     ]
    },
    {
     "name": "stdout",
     "output_type": "stream",
     "text": [
      "Error processing video /home/z/Music/st/Kinetics-400/RQ1/Sparse_Keyframe/ybhcRzbfHBk.mp4: [Errno 1094995529] Invalid data found when processing input: '/home/z/Music/st/Kinetics-400/RQ1/Sparse_Keyframe/ybhcRzbfHBk.mp4'; last error log: [mov,mp4,m4a,3gp,3g2,mj2] moov atom not found\n",
      "Error processing video ybhcRzbfHBk: [Errno 1094995529] Invalid data found when processing input: '/home/z/Music/st/Kinetics-400/RQ1/Sparse_Keyframe/ybhcRzbfHBk.mp4'; last error log: [mov,mp4,m4a,3gp,3g2,mj2] moov atom not found\n"
     ]
    },
    {
     "name": "stderr",
     "output_type": "stream",
     "text": [
      "Processing videos:  31%|███▏      | 1254/4000 [03:26<07:30,  6.09it/s]Format mov,mp4,m4a,3gp,3g2,mj2 detected only with low score of 1, misdetection possible!\n",
      "moov atom not found\n",
      "Processing videos:  31%|███▏      | 1256/4000 [03:27<05:51,  7.80it/s]"
     ]
    },
    {
     "name": "stdout",
     "output_type": "stream",
     "text": [
      "Error processing video /home/z/Music/st/Kinetics-400/RQ1/Sparse_Keyframe/oEkXkrSbFU8.mp4: [Errno 1094995529] Invalid data found when processing input: '/home/z/Music/st/Kinetics-400/RQ1/Sparse_Keyframe/oEkXkrSbFU8.mp4'; last error log: [mov,mp4,m4a,3gp,3g2,mj2] moov atom not found\n",
      "Error processing video oEkXkrSbFU8: [Errno 1094995529] Invalid data found when processing input: '/home/z/Music/st/Kinetics-400/RQ1/Sparse_Keyframe/oEkXkrSbFU8.mp4'; last error log: [mov,mp4,m4a,3gp,3g2,mj2] moov atom not found\n"
     ]
    },
    {
     "name": "stderr",
     "output_type": "stream",
     "text": [
      "Processing videos:  32%|███▏      | 1287/4000 [03:32<07:31,  6.01it/s]Format mov,mp4,m4a,3gp,3g2,mj2 detected only with low score of 1, misdetection possible!\n",
      "moov atom not found\n",
      "Processing videos:  32%|███▏      | 1289/4000 [03:32<05:42,  7.91it/s]"
     ]
    },
    {
     "name": "stdout",
     "output_type": "stream",
     "text": [
      "Error processing video /home/z/Music/st/Kinetics-400/RQ1/Sparse_Keyframe/38-EhqX9v24.mp4: [Errno 1094995529] Invalid data found when processing input: '/home/z/Music/st/Kinetics-400/RQ1/Sparse_Keyframe/38-EhqX9v24.mp4'; last error log: [mov,mp4,m4a,3gp,3g2,mj2] moov atom not found\n",
      "Error processing video 38-EhqX9v24: [Errno 1094995529] Invalid data found when processing input: '/home/z/Music/st/Kinetics-400/RQ1/Sparse_Keyframe/38-EhqX9v24.mp4'; last error log: [mov,mp4,m4a,3gp,3g2,mj2] moov atom not found\n"
     ]
    },
    {
     "name": "stderr",
     "output_type": "stream",
     "text": [
      "Processing videos:  34%|███▎      | 1341/4000 [03:41<07:22,  6.00it/s]Format mov,mp4,m4a,3gp,3g2,mj2 detected only with low score of 1, misdetection possible!\n",
      "moov atom not found\n",
      "Processing videos:  34%|███▎      | 1343/4000 [03:41<05:32,  7.98it/s]"
     ]
    },
    {
     "name": "stdout",
     "output_type": "stream",
     "text": [
      "Error processing video /home/z/Music/st/Kinetics-400/RQ1/Sparse_Keyframe/GNUDkrXspaQ.mp4: [Errno 1094995529] Invalid data found when processing input: '/home/z/Music/st/Kinetics-400/RQ1/Sparse_Keyframe/GNUDkrXspaQ.mp4'; last error log: [mov,mp4,m4a,3gp,3g2,mj2] moov atom not found\n",
      "Error processing video GNUDkrXspaQ: [Errno 1094995529] Invalid data found when processing input: '/home/z/Music/st/Kinetics-400/RQ1/Sparse_Keyframe/GNUDkrXspaQ.mp4'; last error log: [mov,mp4,m4a,3gp,3g2,mj2] moov atom not found\n"
     ]
    },
    {
     "name": "stderr",
     "output_type": "stream",
     "text": [
      "Processing videos:  34%|███▍      | 1356/4000 [03:43<07:10,  6.14it/s]Format mov,mp4,m4a,3gp,3g2,mj2 detected only with low score of 1, misdetection possible!\n",
      "moov atom not found\n",
      "Processing videos:  34%|███▍      | 1358/4000 [03:44<05:32,  7.95it/s]"
     ]
    },
    {
     "name": "stdout",
     "output_type": "stream",
     "text": [
      "Error processing video /home/z/Music/st/Kinetics-400/RQ1/Sparse_Keyframe/qsjXdBU-TUc.mp4: [Errno 1094995529] Invalid data found when processing input: '/home/z/Music/st/Kinetics-400/RQ1/Sparse_Keyframe/qsjXdBU-TUc.mp4'; last error log: [mov,mp4,m4a,3gp,3g2,mj2] moov atom not found\n",
      "Error processing video qsjXdBU-TUc: [Errno 1094995529] Invalid data found when processing input: '/home/z/Music/st/Kinetics-400/RQ1/Sparse_Keyframe/qsjXdBU-TUc.mp4'; last error log: [mov,mp4,m4a,3gp,3g2,mj2] moov atom not found\n"
     ]
    },
    {
     "name": "stderr",
     "output_type": "stream",
     "text": [
      "Processing videos:  34%|███▍      | 1362/4000 [03:44<08:10,  5.38it/s]Format mov,mp4,m4a,3gp,3g2,mj2 detected only with low score of 1, misdetection possible!\n",
      "moov atom not found\n",
      "Processing videos:  34%|███▍      | 1364/4000 [03:44<06:14,  7.03it/s]"
     ]
    },
    {
     "name": "stdout",
     "output_type": "stream",
     "text": [
      "Error processing video /home/z/Music/st/Kinetics-400/RQ1/Sparse_Keyframe/iW3x0sab7bs.mp4: [Errno 1094995529] Invalid data found when processing input: '/home/z/Music/st/Kinetics-400/RQ1/Sparse_Keyframe/iW3x0sab7bs.mp4'; last error log: [mov,mp4,m4a,3gp,3g2,mj2] moov atom not found\n",
      "Error processing video iW3x0sab7bs: [Errno 1094995529] Invalid data found when processing input: '/home/z/Music/st/Kinetics-400/RQ1/Sparse_Keyframe/iW3x0sab7bs.mp4'; last error log: [mov,mp4,m4a,3gp,3g2,mj2] moov atom not found\n"
     ]
    },
    {
     "name": "stderr",
     "output_type": "stream",
     "text": [
      "Processing videos:  34%|███▍      | 1366/4000 [03:45<06:45,  6.50it/s]Format mov,mp4,m4a,3gp,3g2,mj2 detected only with low score of 1, misdetection possible!\n",
      "moov atom not found\n",
      "Processing videos:  34%|███▍      | 1368/4000 [03:45<05:26,  8.07it/s]"
     ]
    },
    {
     "name": "stdout",
     "output_type": "stream",
     "text": [
      "Error processing video /home/z/Music/st/Kinetics-400/RQ1/Sparse_Keyframe/7YFQLPWUWk4.mp4: [Errno 1094995529] Invalid data found when processing input: '/home/z/Music/st/Kinetics-400/RQ1/Sparse_Keyframe/7YFQLPWUWk4.mp4'; last error log: [mov,mp4,m4a,3gp,3g2,mj2] moov atom not found\n",
      "Error processing video 7YFQLPWUWk4: [Errno 1094995529] Invalid data found when processing input: '/home/z/Music/st/Kinetics-400/RQ1/Sparse_Keyframe/7YFQLPWUWk4.mp4'; last error log: [mov,mp4,m4a,3gp,3g2,mj2] moov atom not found\n"
     ]
    },
    {
     "name": "stderr",
     "output_type": "stream",
     "text": [
      "Processing videos:  36%|███▌      | 1441/4000 [03:58<08:07,  5.25it/s]Format mov,mp4,m4a,3gp,3g2,mj2 detected only with low score of 1, misdetection possible!\n",
      "moov atom not found\n",
      "Processing videos:  36%|███▌      | 1443/4000 [03:58<06:00,  7.09it/s]"
     ]
    },
    {
     "name": "stdout",
     "output_type": "stream",
     "text": [
      "Error processing video /home/z/Music/st/Kinetics-400/RQ1/Sparse_Keyframe/PxKSE8BD1bA.mp4: [Errno 1094995529] Invalid data found when processing input: '/home/z/Music/st/Kinetics-400/RQ1/Sparse_Keyframe/PxKSE8BD1bA.mp4'; last error log: [mov,mp4,m4a,3gp,3g2,mj2] moov atom not found\n",
      "Error processing video PxKSE8BD1bA: [Errno 1094995529] Invalid data found when processing input: '/home/z/Music/st/Kinetics-400/RQ1/Sparse_Keyframe/PxKSE8BD1bA.mp4'; last error log: [mov,mp4,m4a,3gp,3g2,mj2] moov atom not found\n"
     ]
    },
    {
     "name": "stderr",
     "output_type": "stream",
     "text": [
      "Processing videos:  36%|███▋      | 1457/4000 [04:01<07:16,  5.83it/s]Format mov,mp4,m4a,3gp,3g2,mj2 detected only with low score of 1, misdetection possible!\n",
      "moov atom not found\n",
      "Processing videos:  36%|███▋      | 1459/4000 [04:01<05:31,  7.66it/s]"
     ]
    },
    {
     "name": "stdout",
     "output_type": "stream",
     "text": [
      "Error processing video /home/z/Music/st/Kinetics-400/RQ1/Sparse_Keyframe/rilhjPg-VF0.mp4: [Errno 1094995529] Invalid data found when processing input: '/home/z/Music/st/Kinetics-400/RQ1/Sparse_Keyframe/rilhjPg-VF0.mp4'; last error log: [mov,mp4,m4a,3gp,3g2,mj2] moov atom not found\n",
      "Error processing video rilhjPg-VF0: [Errno 1094995529] Invalid data found when processing input: '/home/z/Music/st/Kinetics-400/RQ1/Sparse_Keyframe/rilhjPg-VF0.mp4'; last error log: [mov,mp4,m4a,3gp,3g2,mj2] moov atom not found\n"
     ]
    },
    {
     "name": "stderr",
     "output_type": "stream",
     "text": [
      "Processing videos:  38%|███▊      | 1511/4000 [04:09<07:42,  5.38it/s]Format mov,mp4,m4a,3gp,3g2,mj2 detected only with low score of 1, misdetection possible!\n",
      "moov atom not found\n"
     ]
    },
    {
     "name": "stdout",
     "output_type": "stream",
     "text": [
      "Error processing video /home/z/Music/st/Kinetics-400/RQ1/Sparse_Keyframe/YPqkePni3r4.mp4: [Errno 1094995529] Invalid data found when processing input: '/home/z/Music/st/Kinetics-400/RQ1/Sparse_Keyframe/YPqkePni3r4.mp4'; last error log: [mov,mp4,m4a,3gp,3g2,mj2] moov atom not found\n",
      "Error processing video YPqkePni3r4: [Errno 1094995529] Invalid data found when processing input: '/home/z/Music/st/Kinetics-400/RQ1/Sparse_Keyframe/YPqkePni3r4.mp4'; last error log: [mov,mp4,m4a,3gp,3g2,mj2] moov atom not found\n"
     ]
    },
    {
     "name": "stderr",
     "output_type": "stream",
     "text": [
      "Processing videos:  39%|███▊      | 1545/4000 [04:15<07:38,  5.35it/s]Format mov,mp4,m4a,3gp,3g2,mj2 detected only with low score of 1, misdetection possible!\n",
      "moov atom not found\n",
      "Processing videos:  39%|███▊      | 1547/4000 [04:15<05:42,  7.16it/s]"
     ]
    },
    {
     "name": "stdout",
     "output_type": "stream",
     "text": [
      "Error processing video /home/z/Music/st/Kinetics-400/RQ1/Sparse_Keyframe/nDlR90yHqPY.mp4: [Errno 1094995529] Invalid data found when processing input: '/home/z/Music/st/Kinetics-400/RQ1/Sparse_Keyframe/nDlR90yHqPY.mp4'; last error log: [mov,mp4,m4a,3gp,3g2,mj2] moov atom not found\n",
      "Error processing video nDlR90yHqPY: [Errno 1094995529] Invalid data found when processing input: '/home/z/Music/st/Kinetics-400/RQ1/Sparse_Keyframe/nDlR90yHqPY.mp4'; last error log: [mov,mp4,m4a,3gp,3g2,mj2] moov atom not found\n"
     ]
    },
    {
     "name": "stderr",
     "output_type": "stream",
     "text": [
      "Processing videos:  39%|███▉      | 1561/4000 [04:18<07:09,  5.68it/s]Format mov,mp4,m4a,3gp,3g2,mj2 detected only with low score of 1, misdetection possible!\n",
      "moov atom not found\n",
      "Processing videos:  39%|███▉      | 1563/4000 [04:18<05:22,  7.55it/s]"
     ]
    },
    {
     "name": "stdout",
     "output_type": "stream",
     "text": [
      "Error processing video /home/z/Music/st/Kinetics-400/RQ1/Sparse_Keyframe/brn9g0RIAkY.mp4: [Errno 1094995529] Invalid data found when processing input: '/home/z/Music/st/Kinetics-400/RQ1/Sparse_Keyframe/brn9g0RIAkY.mp4'; last error log: [mov,mp4,m4a,3gp,3g2,mj2] moov atom not found\n",
      "Error processing video brn9g0RIAkY: [Errno 1094995529] Invalid data found when processing input: '/home/z/Music/st/Kinetics-400/RQ1/Sparse_Keyframe/brn9g0RIAkY.mp4'; last error log: [mov,mp4,m4a,3gp,3g2,mj2] moov atom not found\n"
     ]
    },
    {
     "name": "stderr",
     "output_type": "stream",
     "text": [
      "Processing videos:  40%|███▉      | 1592/4000 [04:23<06:42,  5.98it/s]Format mov,mp4,m4a,3gp,3g2,mj2 detected only with low score of 1, misdetection possible!\n",
      "moov atom not found\n",
      "Processing videos:  40%|███▉      | 1594/4000 [04:23<05:08,  7.80it/s]"
     ]
    },
    {
     "name": "stdout",
     "output_type": "stream",
     "text": [
      "Error processing video /home/z/Music/st/Kinetics-400/RQ1/Sparse_Keyframe/c6nXcbKwMwg.mp4: [Errno 1094995529] Invalid data found when processing input: '/home/z/Music/st/Kinetics-400/RQ1/Sparse_Keyframe/c6nXcbKwMwg.mp4'; last error log: [mov,mp4,m4a,3gp,3g2,mj2] moov atom not found\n",
      "Error processing video c6nXcbKwMwg: [Errno 1094995529] Invalid data found when processing input: '/home/z/Music/st/Kinetics-400/RQ1/Sparse_Keyframe/c6nXcbKwMwg.mp4'; last error log: [mov,mp4,m4a,3gp,3g2,mj2] moov atom not found\n"
     ]
    },
    {
     "name": "stderr",
     "output_type": "stream",
     "text": [
      "Processing videos:  40%|████      | 1602/4000 [04:24<06:36,  6.05it/s]Format mov,mp4,m4a,3gp,3g2,mj2 detected only with low score of 1, misdetection possible!\n",
      "moov atom not found\n",
      "Processing videos:  40%|████      | 1604/4000 [04:25<05:07,  7.79it/s]"
     ]
    },
    {
     "name": "stdout",
     "output_type": "stream",
     "text": [
      "Error processing video /home/z/Music/st/Kinetics-400/RQ1/Sparse_Keyframe/-1-ni_H1VyI.mp4: [Errno 1094995529] Invalid data found when processing input: '/home/z/Music/st/Kinetics-400/RQ1/Sparse_Keyframe/-1-ni_H1VyI.mp4'; last error log: [mov,mp4,m4a,3gp,3g2,mj2] moov atom not found\n",
      "Error processing video -1-ni_H1VyI: [Errno 1094995529] Invalid data found when processing input: '/home/z/Music/st/Kinetics-400/RQ1/Sparse_Keyframe/-1-ni_H1VyI.mp4'; last error log: [mov,mp4,m4a,3gp,3g2,mj2] moov atom not found\n"
     ]
    },
    {
     "name": "stderr",
     "output_type": "stream",
     "text": [
      "Processing videos:  41%|████      | 1645/4000 [04:32<06:36,  5.94it/s]Format mov,mp4,m4a,3gp,3g2,mj2 detected only with low score of 1, misdetection possible!\n",
      "moov atom not found\n",
      "Processing videos:  41%|████      | 1647/4000 [04:32<05:02,  7.77it/s]"
     ]
    },
    {
     "name": "stdout",
     "output_type": "stream",
     "text": [
      "Error processing video /home/z/Music/st/Kinetics-400/RQ1/Sparse_Keyframe/LDXBtzCeYjQ.mp4: [Errno 1094995529] Invalid data found when processing input: '/home/z/Music/st/Kinetics-400/RQ1/Sparse_Keyframe/LDXBtzCeYjQ.mp4'; last error log: [mov,mp4,m4a,3gp,3g2,mj2] moov atom not found\n",
      "Error processing video LDXBtzCeYjQ: [Errno 1094995529] Invalid data found when processing input: '/home/z/Music/st/Kinetics-400/RQ1/Sparse_Keyframe/LDXBtzCeYjQ.mp4'; last error log: [mov,mp4,m4a,3gp,3g2,mj2] moov atom not found\n"
     ]
    },
    {
     "name": "stderr",
     "output_type": "stream",
     "text": [
      "Processing videos:  41%|████▏     | 1651/4000 [04:32<06:02,  6.48it/s]Format mov,mp4,m4a,3gp,3g2,mj2 detected only with low score of 1, misdetection possible!\n",
      "moov atom not found\n",
      "Processing videos:  41%|████▏     | 1653/4000 [04:33<04:49,  8.12it/s]"
     ]
    },
    {
     "name": "stdout",
     "output_type": "stream",
     "text": [
      "Error processing video /home/z/Music/st/Kinetics-400/RQ1/Sparse_Keyframe/yoVWDiN-RE8.mp4: [Errno 1094995529] Invalid data found when processing input: '/home/z/Music/st/Kinetics-400/RQ1/Sparse_Keyframe/yoVWDiN-RE8.mp4'; last error log: [mov,mp4,m4a,3gp,3g2,mj2] moov atom not found\n",
      "Error processing video yoVWDiN-RE8: [Errno 1094995529] Invalid data found when processing input: '/home/z/Music/st/Kinetics-400/RQ1/Sparse_Keyframe/yoVWDiN-RE8.mp4'; last error log: [mov,mp4,m4a,3gp,3g2,mj2] moov atom not found\n"
     ]
    },
    {
     "name": "stderr",
     "output_type": "stream",
     "text": [
      "Processing videos:  41%|████▏     | 1659/4000 [04:34<06:05,  6.41it/s]Format mov,mp4,m4a,3gp,3g2,mj2 detected only with low score of 1, misdetection possible!\n",
      "moov atom not found\n",
      "Processing videos:  42%|████▏     | 1661/4000 [04:34<04:48,  8.10it/s]"
     ]
    },
    {
     "name": "stdout",
     "output_type": "stream",
     "text": [
      "Error processing video /home/z/Music/st/Kinetics-400/RQ1/Sparse_Keyframe/cQtyf5tbFs0.mp4: [Errno 1094995529] Invalid data found when processing input: '/home/z/Music/st/Kinetics-400/RQ1/Sparse_Keyframe/cQtyf5tbFs0.mp4'; last error log: [mov,mp4,m4a,3gp,3g2,mj2] moov atom not found\n",
      "Error processing video cQtyf5tbFs0: [Errno 1094995529] Invalid data found when processing input: '/home/z/Music/st/Kinetics-400/RQ1/Sparse_Keyframe/cQtyf5tbFs0.mp4'; last error log: [mov,mp4,m4a,3gp,3g2,mj2] moov atom not found\n"
     ]
    },
    {
     "name": "stderr",
     "output_type": "stream",
     "text": [
      "Processing videos:  42%|████▏     | 1694/4000 [04:40<06:29,  5.92it/s]Format mov,mp4,m4a,3gp,3g2,mj2 detected only with low score of 1, misdetection possible!\n",
      "moov atom not found\n",
      "Processing videos:  42%|████▏     | 1696/4000 [04:40<05:03,  7.58it/s]"
     ]
    },
    {
     "name": "stdout",
     "output_type": "stream",
     "text": [
      "Error processing video /home/z/Music/st/Kinetics-400/RQ1/Sparse_Keyframe/V7vo_5tif-g.mp4: [Errno 1094995529] Invalid data found when processing input: '/home/z/Music/st/Kinetics-400/RQ1/Sparse_Keyframe/V7vo_5tif-g.mp4'; last error log: [mov,mp4,m4a,3gp,3g2,mj2] moov atom not found\n",
      "Error processing video V7vo_5tif-g: [Errno 1094995529] Invalid data found when processing input: '/home/z/Music/st/Kinetics-400/RQ1/Sparse_Keyframe/V7vo_5tif-g.mp4'; last error log: [mov,mp4,m4a,3gp,3g2,mj2] moov atom not found\n"
     ]
    },
    {
     "name": "stderr",
     "output_type": "stream",
     "text": [
      "Processing videos:  43%|████▎     | 1714/4000 [04:43<06:26,  5.91it/s]Format mov,mp4,m4a,3gp,3g2,mj2 detected only with low score of 1, misdetection possible!\n",
      "moov atom not found\n",
      "Processing videos:  43%|████▎     | 1716/4000 [04:43<05:01,  7.58it/s]"
     ]
    },
    {
     "name": "stdout",
     "output_type": "stream",
     "text": [
      "Error processing video /home/z/Music/st/Kinetics-400/RQ1/Sparse_Keyframe/2N_bg_UqJkA.mp4: [Errno 1094995529] Invalid data found when processing input: '/home/z/Music/st/Kinetics-400/RQ1/Sparse_Keyframe/2N_bg_UqJkA.mp4'; last error log: [mov,mp4,m4a,3gp,3g2,mj2] moov atom not found\n",
      "Error processing video 2N_bg_UqJkA: [Errno 1094995529] Invalid data found when processing input: '/home/z/Music/st/Kinetics-400/RQ1/Sparse_Keyframe/2N_bg_UqJkA.mp4'; last error log: [mov,mp4,m4a,3gp,3g2,mj2] moov atom not found\n"
     ]
    },
    {
     "name": "stderr",
     "output_type": "stream",
     "text": [
      "Processing videos:  43%|████▎     | 1729/4000 [04:45<06:10,  6.13it/s]Format mov,mp4,m4a,3gp,3g2,mj2 detected only with low score of 1, misdetection possible!\n",
      "moov atom not found\n",
      "Processing videos:  43%|████▎     | 1731/4000 [04:45<04:52,  7.75it/s]"
     ]
    },
    {
     "name": "stdout",
     "output_type": "stream",
     "text": [
      "Error processing video /home/z/Music/st/Kinetics-400/RQ1/Sparse_Keyframe/LCETqr-BuEM.mp4: [Errno 1094995529] Invalid data found when processing input: '/home/z/Music/st/Kinetics-400/RQ1/Sparse_Keyframe/LCETqr-BuEM.mp4'; last error log: [mov,mp4,m4a,3gp,3g2,mj2] moov atom not found\n",
      "Error processing video LCETqr-BuEM: [Errno 1094995529] Invalid data found when processing input: '/home/z/Music/st/Kinetics-400/RQ1/Sparse_Keyframe/LCETqr-BuEM.mp4'; last error log: [mov,mp4,m4a,3gp,3g2,mj2] moov atom not found\n"
     ]
    },
    {
     "name": "stderr",
     "output_type": "stream",
     "text": [
      "Processing videos:  43%|████▎     | 1737/4000 [04:46<06:01,  6.26it/s]Format mov,mp4,m4a,3gp,3g2,mj2 detected only with low score of 1, misdetection possible!\n",
      "moov atom not found\n",
      "Processing videos:  43%|████▎     | 1739/4000 [04:46<04:43,  7.96it/s]"
     ]
    },
    {
     "name": "stdout",
     "output_type": "stream",
     "text": [
      "Error processing video /home/z/Music/st/Kinetics-400/RQ1/Sparse_Keyframe/UaoWbYos0JA.mp4: [Errno 1094995529] Invalid data found when processing input: '/home/z/Music/st/Kinetics-400/RQ1/Sparse_Keyframe/UaoWbYos0JA.mp4'; last error log: [mov,mp4,m4a,3gp,3g2,mj2] moov atom not found\n",
      "Error processing video UaoWbYos0JA: [Errno 1094995529] Invalid data found when processing input: '/home/z/Music/st/Kinetics-400/RQ1/Sparse_Keyframe/UaoWbYos0JA.mp4'; last error log: [mov,mp4,m4a,3gp,3g2,mj2] moov atom not found\n"
     ]
    },
    {
     "name": "stderr",
     "output_type": "stream",
     "text": [
      "Processing videos:  44%|████▎     | 1743/4000 [04:47<06:16,  6.00it/s]Format mov,mp4,m4a,3gp,3g2,mj2 detected only with low score of 1, misdetection possible!\n",
      "moov atom not found\n",
      "Processing videos:  44%|████▎     | 1745/4000 [04:47<04:55,  7.62it/s]"
     ]
    },
    {
     "name": "stdout",
     "output_type": "stream",
     "text": [
      "Error processing video /home/z/Music/st/Kinetics-400/RQ1/Sparse_Keyframe/9Stx3WmRNvo.mp4: [Errno 1094995529] Invalid data found when processing input: '/home/z/Music/st/Kinetics-400/RQ1/Sparse_Keyframe/9Stx3WmRNvo.mp4'; last error log: [mov,mp4,m4a,3gp,3g2,mj2] moov atom not found\n",
      "Error processing video 9Stx3WmRNvo: [Errno 1094995529] Invalid data found when processing input: '/home/z/Music/st/Kinetics-400/RQ1/Sparse_Keyframe/9Stx3WmRNvo.mp4'; last error log: [mov,mp4,m4a,3gp,3g2,mj2] moov atom not found\n"
     ]
    },
    {
     "name": "stderr",
     "output_type": "stream",
     "text": [
      "Processing videos:  45%|████▍     | 1791/4000 [04:56<07:05,  5.19it/s]Format mov,mp4,m4a,3gp,3g2,mj2 detected only with low score of 1, misdetection possible!\n",
      "moov atom not found\n",
      "Processing videos:  45%|████▍     | 1793/4000 [04:56<05:11,  7.07it/s]"
     ]
    },
    {
     "name": "stdout",
     "output_type": "stream",
     "text": [
      "Error processing video /home/z/Music/st/Kinetics-400/RQ1/Sparse_Keyframe/WRjr-8TeZjA.mp4: [Errno 1094995529] Invalid data found when processing input: '/home/z/Music/st/Kinetics-400/RQ1/Sparse_Keyframe/WRjr-8TeZjA.mp4'; last error log: [mov,mp4,m4a,3gp,3g2,mj2] moov atom not found\n",
      "Error processing video WRjr-8TeZjA: [Errno 1094995529] Invalid data found when processing input: '/home/z/Music/st/Kinetics-400/RQ1/Sparse_Keyframe/WRjr-8TeZjA.mp4'; last error log: [mov,mp4,m4a,3gp,3g2,mj2] moov atom not found\n"
     ]
    },
    {
     "name": "stderr",
     "output_type": "stream",
     "text": [
      "Processing videos:  45%|████▌     | 1815/4000 [05:01<09:41,  3.76it/s]Format mov,mp4,m4a,3gp,3g2,mj2 detected only with low score of 1, misdetection possible!\n",
      "moov atom not found\n",
      "Processing videos:  45%|████▌     | 1817/4000 [05:02<06:35,  5.51it/s]"
     ]
    },
    {
     "name": "stdout",
     "output_type": "stream",
     "text": [
      "Error processing video /home/z/Music/st/Kinetics-400/RQ1/Sparse_Keyframe/6p0z8EmEJyw.mp4: [Errno 1094995529] Invalid data found when processing input: '/home/z/Music/st/Kinetics-400/RQ1/Sparse_Keyframe/6p0z8EmEJyw.mp4'; last error log: [mov,mp4,m4a,3gp,3g2,mj2] moov atom not found\n",
      "Error processing video 6p0z8EmEJyw: [Errno 1094995529] Invalid data found when processing input: '/home/z/Music/st/Kinetics-400/RQ1/Sparse_Keyframe/6p0z8EmEJyw.mp4'; last error log: [mov,mp4,m4a,3gp,3g2,mj2] moov atom not found\n"
     ]
    },
    {
     "name": "stderr",
     "output_type": "stream",
     "text": [
      "Processing videos:  46%|████▋     | 1855/4000 [05:08<05:53,  6.06it/s]Format mov,mp4,m4a,3gp,3g2,mj2 detected only with low score of 1, misdetection possible!\n",
      "moov atom not found\n",
      "Processing videos:  46%|████▋     | 1857/4000 [05:08<04:30,  7.94it/s]"
     ]
    },
    {
     "name": "stdout",
     "output_type": "stream",
     "text": [
      "Error processing video /home/z/Music/st/Kinetics-400/RQ1/Sparse_Keyframe/hiCZ7xv0ygs.mp4: [Errno 1094995529] Invalid data found when processing input: '/home/z/Music/st/Kinetics-400/RQ1/Sparse_Keyframe/hiCZ7xv0ygs.mp4'; last error log: [mov,mp4,m4a,3gp,3g2,mj2] moov atom not found\n",
      "Error processing video hiCZ7xv0ygs: [Errno 1094995529] Invalid data found when processing input: '/home/z/Music/st/Kinetics-400/RQ1/Sparse_Keyframe/hiCZ7xv0ygs.mp4'; last error log: [mov,mp4,m4a,3gp,3g2,mj2] moov atom not found\n"
     ]
    },
    {
     "name": "stderr",
     "output_type": "stream",
     "text": [
      "Processing videos:  47%|████▋     | 1869/4000 [05:10<05:49,  6.10it/s]Format mov,mp4,m4a,3gp,3g2,mj2 detected only with low score of 1, misdetection possible!\n",
      "moov atom not found\n",
      "Processing videos:  47%|████▋     | 1871/4000 [05:10<04:29,  7.89it/s]"
     ]
    },
    {
     "name": "stdout",
     "output_type": "stream",
     "text": [
      "Error processing video /home/z/Music/st/Kinetics-400/RQ1/Sparse_Keyframe/d7kCVAHYAf0.mp4: [Errno 1094995529] Invalid data found when processing input: '/home/z/Music/st/Kinetics-400/RQ1/Sparse_Keyframe/d7kCVAHYAf0.mp4'; last error log: [mov,mp4,m4a,3gp,3g2,mj2] moov atom not found\n",
      "Error processing video d7kCVAHYAf0: [Errno 1094995529] Invalid data found when processing input: '/home/z/Music/st/Kinetics-400/RQ1/Sparse_Keyframe/d7kCVAHYAf0.mp4'; last error log: [mov,mp4,m4a,3gp,3g2,mj2] moov atom not found\n"
     ]
    },
    {
     "name": "stderr",
     "output_type": "stream",
     "text": [
      "Processing videos:  47%|████▋     | 1872/4000 [05:11<04:45,  7.45it/s]Format mov,mp4,m4a,3gp,3g2,mj2 detected only with low score of 1, misdetection possible!\n",
      "moov atom not found\n",
      "Processing videos:  47%|████▋     | 1874/4000 [05:11<03:59,  8.87it/s]"
     ]
    },
    {
     "name": "stdout",
     "output_type": "stream",
     "text": [
      "Error processing video /home/z/Music/st/Kinetics-400/RQ1/Sparse_Keyframe/UOD7oll3Kqo.mp4: [Errno 1094995529] Invalid data found when processing input: '/home/z/Music/st/Kinetics-400/RQ1/Sparse_Keyframe/UOD7oll3Kqo.mp4'; last error log: [mov,mp4,m4a,3gp,3g2,mj2] moov atom not found\n",
      "Error processing video UOD7oll3Kqo: [Errno 1094995529] Invalid data found when processing input: '/home/z/Music/st/Kinetics-400/RQ1/Sparse_Keyframe/UOD7oll3Kqo.mp4'; last error log: [mov,mp4,m4a,3gp,3g2,mj2] moov atom not found\n"
     ]
    },
    {
     "name": "stderr",
     "output_type": "stream",
     "text": [
      "Processing videos:  47%|████▋     | 1884/4000 [05:12<05:52,  6.00it/s]Format mov,mp4,m4a,3gp,3g2,mj2 detected only with low score of 1, misdetection possible!\n",
      "moov atom not found\n",
      "Processing videos:  47%|████▋     | 1886/4000 [05:13<04:30,  7.80it/s]"
     ]
    },
    {
     "name": "stdout",
     "output_type": "stream",
     "text": [
      "Error processing video /home/z/Music/st/Kinetics-400/RQ1/Sparse_Keyframe/B-mWdWjAbjQ.mp4: [Errno 1094995529] Invalid data found when processing input: '/home/z/Music/st/Kinetics-400/RQ1/Sparse_Keyframe/B-mWdWjAbjQ.mp4'; last error log: [mov,mp4,m4a,3gp,3g2,mj2] moov atom not found\n",
      "Error processing video B-mWdWjAbjQ: [Errno 1094995529] Invalid data found when processing input: '/home/z/Music/st/Kinetics-400/RQ1/Sparse_Keyframe/B-mWdWjAbjQ.mp4'; last error log: [mov,mp4,m4a,3gp,3g2,mj2] moov atom not found\n"
     ]
    },
    {
     "name": "stderr",
     "output_type": "stream",
     "text": [
      "Processing videos:  48%|████▊     | 1929/4000 [05:21<05:45,  6.00it/s]Format mov,mp4,m4a,3gp,3g2,mj2 detected only with low score of 1, misdetection possible!\n",
      "moov atom not found\n",
      "Processing videos:  48%|████▊     | 1931/4000 [05:21<04:25,  7.78it/s]"
     ]
    },
    {
     "name": "stdout",
     "output_type": "stream",
     "text": [
      "Error processing video /home/z/Music/st/Kinetics-400/RQ1/Sparse_Keyframe/reiXTy0tJxI.mp4: [Errno 1094995529] Invalid data found when processing input: '/home/z/Music/st/Kinetics-400/RQ1/Sparse_Keyframe/reiXTy0tJxI.mp4'; last error log: [mov,mp4,m4a,3gp,3g2,mj2] moov atom not found\n",
      "Error processing video reiXTy0tJxI: [Errno 1094995529] Invalid data found when processing input: '/home/z/Music/st/Kinetics-400/RQ1/Sparse_Keyframe/reiXTy0tJxI.mp4'; last error log: [mov,mp4,m4a,3gp,3g2,mj2] moov atom not found\n"
     ]
    },
    {
     "name": "stderr",
     "output_type": "stream",
     "text": [
      "Processing videos:  49%|████▉     | 1966/4000 [05:27<05:36,  6.05it/s]Format mov,mp4,m4a,3gp,3g2,mj2 detected only with low score of 1, misdetection possible!\n",
      "moov atom not found\n",
      "Processing videos:  49%|████▉     | 1968/4000 [05:27<04:16,  7.92it/s]"
     ]
    },
    {
     "name": "stdout",
     "output_type": "stream",
     "text": [
      "Error processing video /home/z/Music/st/Kinetics-400/RQ1/Sparse_Keyframe/9RN16I79P9U.mp4: [Errno 1094995529] Invalid data found when processing input: '/home/z/Music/st/Kinetics-400/RQ1/Sparse_Keyframe/9RN16I79P9U.mp4'; last error log: [mov,mp4,m4a,3gp,3g2,mj2] moov atom not found\n",
      "Error processing video 9RN16I79P9U: [Errno 1094995529] Invalid data found when processing input: '/home/z/Music/st/Kinetics-400/RQ1/Sparse_Keyframe/9RN16I79P9U.mp4'; last error log: [mov,mp4,m4a,3gp,3g2,mj2] moov atom not found\n"
     ]
    },
    {
     "name": "stderr",
     "output_type": "stream",
     "text": [
      "Processing videos:  50%|█████     | 2013/4000 [05:34<05:33,  5.96it/s]Format mov,mp4,m4a,3gp,3g2,mj2 detected only with low score of 1, misdetection possible!\n",
      "moov atom not found\n",
      "Processing videos:  50%|█████     | 2015/4000 [05:34<04:21,  7.58it/s]"
     ]
    },
    {
     "name": "stdout",
     "output_type": "stream",
     "text": [
      "Error processing video /home/z/Music/st/Kinetics-400/RQ1/Sparse_Keyframe/iWnj5Dpcds0.mp4: [Errno 1094995529] Invalid data found when processing input: '/home/z/Music/st/Kinetics-400/RQ1/Sparse_Keyframe/iWnj5Dpcds0.mp4'; last error log: [mov,mp4,m4a,3gp,3g2,mj2] moov atom not found\n",
      "Error processing video iWnj5Dpcds0: [Errno 1094995529] Invalid data found when processing input: '/home/z/Music/st/Kinetics-400/RQ1/Sparse_Keyframe/iWnj5Dpcds0.mp4'; last error log: [mov,mp4,m4a,3gp,3g2,mj2] moov atom not found\n"
     ]
    },
    {
     "name": "stderr",
     "output_type": "stream",
     "text": [
      "Processing videos:  52%|█████▏    | 2067/4000 [05:44<05:24,  5.96it/s]Format mov,mp4,m4a,3gp,3g2,mj2 detected only with low score of 1, misdetection possible!\n",
      "moov atom not found\n",
      "Processing videos:  52%|█████▏    | 2069/4000 [05:44<04:15,  7.56it/s]"
     ]
    },
    {
     "name": "stdout",
     "output_type": "stream",
     "text": [
      "Error processing video /home/z/Music/st/Kinetics-400/RQ1/Sparse_Keyframe/_2gAmbFniPE.mp4: [Errno 1094995529] Invalid data found when processing input: '/home/z/Music/st/Kinetics-400/RQ1/Sparse_Keyframe/_2gAmbFniPE.mp4'; last error log: [mov,mp4,m4a,3gp,3g2,mj2] moov atom not found\n",
      "Error processing video _2gAmbFniPE: [Errno 1094995529] Invalid data found when processing input: '/home/z/Music/st/Kinetics-400/RQ1/Sparse_Keyframe/_2gAmbFniPE.mp4'; last error log: [mov,mp4,m4a,3gp,3g2,mj2] moov atom not found\n"
     ]
    },
    {
     "name": "stderr",
     "output_type": "stream",
     "text": [
      "Processing videos:  52%|█████▏    | 2076/4000 [05:45<05:23,  5.94it/s]Format mov,mp4,m4a,3gp,3g2,mj2 detected only with low score of 1, misdetection possible!\n",
      "moov atom not found\n"
     ]
    },
    {
     "name": "stdout",
     "output_type": "stream",
     "text": [
      "Error processing video /home/z/Music/st/Kinetics-400/RQ1/Sparse_Keyframe/xacBT3_tk-4.mp4: [Errno 1094995529] Invalid data found when processing input: '/home/z/Music/st/Kinetics-400/RQ1/Sparse_Keyframe/xacBT3_tk-4.mp4'; last error log: [mov,mp4,m4a,3gp,3g2,mj2] moov atom not found\n",
      "Error processing video xacBT3_tk-4: [Errno 1094995529] Invalid data found when processing input: '/home/z/Music/st/Kinetics-400/RQ1/Sparse_Keyframe/xacBT3_tk-4.mp4'; last error log: [mov,mp4,m4a,3gp,3g2,mj2] moov atom not found\n"
     ]
    },
    {
     "name": "stderr",
     "output_type": "stream",
     "text": [
      "Processing videos:  53%|█████▎    | 2124/4000 [05:53<05:36,  5.58it/s]Format mov,mp4,m4a,3gp,3g2,mj2 detected only with low score of 1, misdetection possible!\n",
      "moov atom not found\n",
      "Processing videos:  53%|█████▎    | 2126/4000 [05:53<04:14,  7.36it/s]"
     ]
    },
    {
     "name": "stdout",
     "output_type": "stream",
     "text": [
      "Error processing video /home/z/Music/st/Kinetics-400/RQ1/Sparse_Keyframe/Sgx0_8xogtE.mp4: [Errno 1094995529] Invalid data found when processing input: '/home/z/Music/st/Kinetics-400/RQ1/Sparse_Keyframe/Sgx0_8xogtE.mp4'; last error log: [mov,mp4,m4a,3gp,3g2,mj2] moov atom not found\n",
      "Error processing video Sgx0_8xogtE: [Errno 1094995529] Invalid data found when processing input: '/home/z/Music/st/Kinetics-400/RQ1/Sparse_Keyframe/Sgx0_8xogtE.mp4'; last error log: [mov,mp4,m4a,3gp,3g2,mj2] moov atom not found\n"
     ]
    },
    {
     "name": "stderr",
     "output_type": "stream",
     "text": [
      "Processing videos:  54%|█████▍    | 2157/4000 [05:59<05:16,  5.83it/s]Format mov,mp4,m4a,3gp,3g2,mj2 detected only with low score of 1, misdetection possible!\n",
      "moov atom not found\n",
      "Processing videos:  54%|█████▍    | 2159/4000 [06:00<04:01,  7.63it/s]"
     ]
    },
    {
     "name": "stdout",
     "output_type": "stream",
     "text": [
      "Error processing video /home/z/Music/st/Kinetics-400/RQ1/Sparse_Keyframe/--7qK_w-g3Y.mp4: [Errno 1094995529] Invalid data found when processing input: '/home/z/Music/st/Kinetics-400/RQ1/Sparse_Keyframe/--7qK_w-g3Y.mp4'; last error log: [mov,mp4,m4a,3gp,3g2,mj2] moov atom not found\n",
      "Error processing video --7qK_w-g3Y: [Errno 1094995529] Invalid data found when processing input: '/home/z/Music/st/Kinetics-400/RQ1/Sparse_Keyframe/--7qK_w-g3Y.mp4'; last error log: [mov,mp4,m4a,3gp,3g2,mj2] moov atom not found\n"
     ]
    },
    {
     "name": "stderr",
     "output_type": "stream",
     "text": [
      "Processing videos:  54%|█████▍    | 2177/4000 [06:03<05:04,  5.98it/s]moov atom not found\n",
      "Processing videos:  54%|█████▍    | 2179/4000 [06:03<03:54,  7.77it/s]"
     ]
    },
    {
     "name": "stdout",
     "output_type": "stream",
     "text": [
      "Error processing video /home/z/Music/st/Kinetics-400/RQ1/Sparse_Keyframe/VrOCLk59Wq0.mp4: [Errno 1094995529] Invalid data found when processing input: '/home/z/Music/st/Kinetics-400/RQ1/Sparse_Keyframe/VrOCLk59Wq0.mp4'; last error log: [mov,mp4,m4a,3gp,3g2,mj2] moov atom not found\n",
      "Error processing video VrOCLk59Wq0: [Errno 1094995529] Invalid data found when processing input: '/home/z/Music/st/Kinetics-400/RQ1/Sparse_Keyframe/VrOCLk59Wq0.mp4'; last error log: [mov,mp4,m4a,3gp,3g2,mj2] moov atom not found\n"
     ]
    },
    {
     "name": "stderr",
     "output_type": "stream",
     "text": [
      "Processing videos:  55%|█████▍    | 2190/4000 [06:05<05:03,  5.97it/s]Format mov,mp4,m4a,3gp,3g2,mj2 detected only with low score of 1, misdetection possible!\n",
      "moov atom not found\n",
      "Processing videos:  55%|█████▍    | 2192/4000 [06:05<03:50,  7.86it/s]"
     ]
    },
    {
     "name": "stdout",
     "output_type": "stream",
     "text": [
      "Error processing video /home/z/Music/st/Kinetics-400/RQ1/Sparse_Keyframe/J5kXnpdneig.mp4: [Errno 1094995529] Invalid data found when processing input: '/home/z/Music/st/Kinetics-400/RQ1/Sparse_Keyframe/J5kXnpdneig.mp4'; last error log: [mov,mp4,m4a,3gp,3g2,mj2] moov atom not found\n",
      "Error processing video J5kXnpdneig: [Errno 1094995529] Invalid data found when processing input: '/home/z/Music/st/Kinetics-400/RQ1/Sparse_Keyframe/J5kXnpdneig.mp4'; last error log: [mov,mp4,m4a,3gp,3g2,mj2] moov atom not found\n"
     ]
    },
    {
     "name": "stderr",
     "output_type": "stream",
     "text": [
      "Processing videos:  55%|█████▌    | 2203/4000 [06:07<04:56,  6.05it/s]Format mov,mp4,m4a,3gp,3g2,mj2 detected only with low score of 1, misdetection possible!\n",
      "moov atom not found\n"
     ]
    },
    {
     "name": "stdout",
     "output_type": "stream",
     "text": [
      "Error processing video /home/z/Music/st/Kinetics-400/RQ1/Sparse_Keyframe/F-OPR_yoOEM.mp4: [Errno 1094995529] Invalid data found when processing input: '/home/z/Music/st/Kinetics-400/RQ1/Sparse_Keyframe/F-OPR_yoOEM.mp4'; last error log: [mov,mp4,m4a,3gp,3g2,mj2] moov atom not found\n",
      "Error processing video F-OPR_yoOEM: [Errno 1094995529] Invalid data found when processing input: '/home/z/Music/st/Kinetics-400/RQ1/Sparse_Keyframe/F-OPR_yoOEM.mp4'; last error log: [mov,mp4,m4a,3gp,3g2,mj2] moov atom not found\n"
     ]
    },
    {
     "name": "stderr",
     "output_type": "stream",
     "text": [
      "Processing videos:  57%|█████▋    | 2267/4000 [06:18<04:40,  6.17it/s]Format mov,mp4,m4a,3gp,3g2,mj2 detected only with low score of 1, misdetection possible!\n",
      "moov atom not found\n",
      "Processing videos:  57%|█████▋    | 2269/4000 [06:18<03:33,  8.12it/s]"
     ]
    },
    {
     "name": "stdout",
     "output_type": "stream",
     "text": [
      "Error processing video /home/z/Music/st/Kinetics-400/RQ1/Sparse_Keyframe/8e6PzkSD3A8.mp4: [Errno 1094995529] Invalid data found when processing input: '/home/z/Music/st/Kinetics-400/RQ1/Sparse_Keyframe/8e6PzkSD3A8.mp4'; last error log: [mov,mp4,m4a,3gp,3g2,mj2] moov atom not found\n",
      "Error processing video 8e6PzkSD3A8: [Errno 1094995529] Invalid data found when processing input: '/home/z/Music/st/Kinetics-400/RQ1/Sparse_Keyframe/8e6PzkSD3A8.mp4'; last error log: [mov,mp4,m4a,3gp,3g2,mj2] moov atom not found\n"
     ]
    },
    {
     "name": "stderr",
     "output_type": "stream",
     "text": [
      "Processing videos:  58%|█████▊    | 2321/4000 [06:27<04:38,  6.03it/s]Format mov,mp4,m4a,3gp,3g2,mj2 detected only with low score of 1, misdetection possible!\n",
      "moov atom not found\n",
      "Processing videos:  58%|█████▊    | 2323/4000 [06:27<03:34,  7.81it/s]"
     ]
    },
    {
     "name": "stdout",
     "output_type": "stream",
     "text": [
      "Error processing video /home/z/Music/st/Kinetics-400/RQ1/Sparse_Keyframe/F8OZK_eVmFI.mp4: [Errno 1094995529] Invalid data found when processing input: '/home/z/Music/st/Kinetics-400/RQ1/Sparse_Keyframe/F8OZK_eVmFI.mp4'; last error log: [mov,mp4,m4a,3gp,3g2,mj2] moov atom not found\n",
      "Error processing video F8OZK_eVmFI: [Errno 1094995529] Invalid data found when processing input: '/home/z/Music/st/Kinetics-400/RQ1/Sparse_Keyframe/F8OZK_eVmFI.mp4'; last error log: [mov,mp4,m4a,3gp,3g2,mj2] moov atom not found\n"
     ]
    },
    {
     "name": "stderr",
     "output_type": "stream",
     "text": [
      "Processing videos:  59%|█████▉    | 2351/4000 [06:32<04:26,  6.19it/s]Format mov,mp4,m4a,3gp,3g2,mj2 detected only with low score of 1, misdetection possible!\n",
      "moov atom not found\n",
      "Processing videos:  59%|█████▉    | 2353/4000 [06:32<03:28,  7.90it/s]"
     ]
    },
    {
     "name": "stdout",
     "output_type": "stream",
     "text": [
      "Error processing video /home/z/Music/st/Kinetics-400/RQ1/Sparse_Keyframe/yY-VOPdEL-Y.mp4: [Errno 1094995529] Invalid data found when processing input: '/home/z/Music/st/Kinetics-400/RQ1/Sparse_Keyframe/yY-VOPdEL-Y.mp4'; last error log: [mov,mp4,m4a,3gp,3g2,mj2] moov atom not found\n",
      "Error processing video yY-VOPdEL-Y: [Errno 1094995529] Invalid data found when processing input: '/home/z/Music/st/Kinetics-400/RQ1/Sparse_Keyframe/yY-VOPdEL-Y.mp4'; last error log: [mov,mp4,m4a,3gp,3g2,mj2] moov atom not found\n"
     ]
    },
    {
     "name": "stderr",
     "output_type": "stream",
     "text": [
      "Processing videos:  59%|█████▉    | 2377/4000 [06:36<04:30,  6.01it/s]Format mov,mp4,m4a,3gp,3g2,mj2 detected only with low score of 1, misdetection possible!\n",
      "moov atom not found\n",
      "Processing videos:  59%|█████▉    | 2379/4000 [06:36<03:27,  7.81it/s]"
     ]
    },
    {
     "name": "stdout",
     "output_type": "stream",
     "text": [
      "Error processing video /home/z/Music/st/Kinetics-400/RQ1/Sparse_Keyframe/Z9vbWxSEgRM.mp4: [Errno 1094995529] Invalid data found when processing input: '/home/z/Music/st/Kinetics-400/RQ1/Sparse_Keyframe/Z9vbWxSEgRM.mp4'; last error log: [mov,mp4,m4a,3gp,3g2,mj2] moov atom not found\n",
      "Error processing video Z9vbWxSEgRM: [Errno 1094995529] Invalid data found when processing input: '/home/z/Music/st/Kinetics-400/RQ1/Sparse_Keyframe/Z9vbWxSEgRM.mp4'; last error log: [mov,mp4,m4a,3gp,3g2,mj2] moov atom not found\n"
     ]
    },
    {
     "name": "stderr",
     "output_type": "stream",
     "text": [
      "Processing videos:  60%|██████    | 2410/4000 [06:42<04:26,  5.98it/s]Format mov,mp4,m4a,3gp,3g2,mj2 detected only with low score of 1, misdetection possible!\n",
      "moov atom not found\n",
      "Processing videos:  60%|██████    | 2412/4000 [06:42<03:25,  7.72it/s]"
     ]
    },
    {
     "name": "stdout",
     "output_type": "stream",
     "text": [
      "Error processing video /home/z/Music/st/Kinetics-400/RQ1/Sparse_Keyframe/7G69tAiXh2U.mp4: [Errno 1094995529] Invalid data found when processing input: '/home/z/Music/st/Kinetics-400/RQ1/Sparse_Keyframe/7G69tAiXh2U.mp4'; last error log: [mov,mp4,m4a,3gp,3g2,mj2] moov atom not found\n",
      "Error processing video 7G69tAiXh2U: [Errno 1094995529] Invalid data found when processing input: '/home/z/Music/st/Kinetics-400/RQ1/Sparse_Keyframe/7G69tAiXh2U.mp4'; last error log: [mov,mp4,m4a,3gp,3g2,mj2] moov atom not found\n"
     ]
    },
    {
     "name": "stderr",
     "output_type": "stream",
     "text": [
      "Processing videos:  61%|██████    | 2426/4000 [06:45<04:24,  5.96it/s]Format mov,mp4,m4a,3gp,3g2,mj2 detected only with low score of 1, misdetection possible!\n",
      "moov atom not found\n"
     ]
    },
    {
     "name": "stdout",
     "output_type": "stream",
     "text": [
      "Error processing video /home/z/Music/st/Kinetics-400/RQ1/Sparse_Keyframe/v_KW4TDvxIc.mp4: [Errno 1094995529] Invalid data found when processing input: '/home/z/Music/st/Kinetics-400/RQ1/Sparse_Keyframe/v_KW4TDvxIc.mp4'; last error log: [mov,mp4,m4a,3gp,3g2,mj2] moov atom not found\n",
      "Error processing video v_KW4TDvxIc: [Errno 1094995529] Invalid data found when processing input: '/home/z/Music/st/Kinetics-400/RQ1/Sparse_Keyframe/v_KW4TDvxIc.mp4'; last error log: [mov,mp4,m4a,3gp,3g2,mj2] moov atom not found\n"
     ]
    },
    {
     "name": "stderr",
     "output_type": "stream",
     "text": [
      "Processing videos:  61%|██████    | 2435/4000 [06:46<04:23,  5.94it/s]Format mov,mp4,m4a,3gp,3g2,mj2 detected only with low score of 1, misdetection possible!\n",
      "moov atom not found\n",
      "Processing videos:  61%|██████    | 2437/4000 [06:46<03:24,  7.65it/s]"
     ]
    },
    {
     "name": "stdout",
     "output_type": "stream",
     "text": [
      "Error processing video /home/z/Music/st/Kinetics-400/RQ1/Sparse_Keyframe/65zhS0OVF7k.mp4: [Errno 1094995529] Invalid data found when processing input: '/home/z/Music/st/Kinetics-400/RQ1/Sparse_Keyframe/65zhS0OVF7k.mp4'; last error log: [mov,mp4,m4a,3gp,3g2,mj2] moov atom not found\n",
      "Error processing video 65zhS0OVF7k: [Errno 1094995529] Invalid data found when processing input: '/home/z/Music/st/Kinetics-400/RQ1/Sparse_Keyframe/65zhS0OVF7k.mp4'; last error log: [mov,mp4,m4a,3gp,3g2,mj2] moov atom not found\n"
     ]
    },
    {
     "name": "stderr",
     "output_type": "stream",
     "text": [
      "Processing videos:  63%|██████▎   | 2514/4000 [07:00<04:44,  5.22it/s]Format mov,mp4,m4a,3gp,3g2,mj2 detected only with low score of 1, misdetection possible!\n",
      "moov atom not found\n",
      "Processing videos:  63%|██████▎   | 2516/4000 [07:01<03:30,  7.06it/s]"
     ]
    },
    {
     "name": "stdout",
     "output_type": "stream",
     "text": [
      "Error processing video /home/z/Music/st/Kinetics-400/RQ1/Sparse_Keyframe/rv6MaObq7Ow.mp4: [Errno 1094995529] Invalid data found when processing input: '/home/z/Music/st/Kinetics-400/RQ1/Sparse_Keyframe/rv6MaObq7Ow.mp4'; last error log: [mov,mp4,m4a,3gp,3g2,mj2] moov atom not found\n",
      "Error processing video rv6MaObq7Ow: [Errno 1094995529] Invalid data found when processing input: '/home/z/Music/st/Kinetics-400/RQ1/Sparse_Keyframe/rv6MaObq7Ow.mp4'; last error log: [mov,mp4,m4a,3gp,3g2,mj2] moov atom not found\n"
     ]
    },
    {
     "name": "stderr",
     "output_type": "stream",
     "text": [
      "Processing videos:  63%|██████▎   | 2522/4000 [07:02<04:00,  6.14it/s]Format mov,mp4,m4a,3gp,3g2,mj2 detected only with low score of 1, misdetection possible!\n",
      "moov atom not found\n",
      "Processing videos:  63%|██████▎   | 2524/4000 [07:02<03:08,  7.84it/s]"
     ]
    },
    {
     "name": "stdout",
     "output_type": "stream",
     "text": [
      "Error processing video /home/z/Music/st/Kinetics-400/RQ1/Sparse_Keyframe/hY7VHetxSYk.mp4: [Errno 1094995529] Invalid data found when processing input: '/home/z/Music/st/Kinetics-400/RQ1/Sparse_Keyframe/hY7VHetxSYk.mp4'; last error log: [mov,mp4,m4a,3gp,3g2,mj2] moov atom not found\n",
      "Error processing video hY7VHetxSYk: [Errno 1094995529] Invalid data found when processing input: '/home/z/Music/st/Kinetics-400/RQ1/Sparse_Keyframe/hY7VHetxSYk.mp4'; last error log: [mov,mp4,m4a,3gp,3g2,mj2] moov atom not found\n"
     ]
    },
    {
     "name": "stderr",
     "output_type": "stream",
     "text": [
      "Processing videos:  64%|██████▎   | 2543/4000 [07:05<04:01,  6.02it/s]Format mov,mp4,m4a,3gp,3g2,mj2 detected only with low score of 1, misdetection possible!\n",
      "moov atom not found\n",
      "Processing videos:  64%|██████▎   | 2545/4000 [07:05<03:06,  7.80it/s]"
     ]
    },
    {
     "name": "stdout",
     "output_type": "stream",
     "text": [
      "Error processing video /home/z/Music/st/Kinetics-400/RQ1/Sparse_Keyframe/L1u6g8qbTkQ.mp4: [Errno 1094995529] Invalid data found when processing input: '/home/z/Music/st/Kinetics-400/RQ1/Sparse_Keyframe/L1u6g8qbTkQ.mp4'; last error log: [mov,mp4,m4a,3gp,3g2,mj2] moov atom not found\n",
      "Error processing video L1u6g8qbTkQ: [Errno 1094995529] Invalid data found when processing input: '/home/z/Music/st/Kinetics-400/RQ1/Sparse_Keyframe/L1u6g8qbTkQ.mp4'; last error log: [mov,mp4,m4a,3gp,3g2,mj2] moov atom not found\n"
     ]
    },
    {
     "name": "stderr",
     "output_type": "stream",
     "text": [
      "Processing videos:  64%|██████▍   | 2554/4000 [07:07<04:13,  5.71it/s]Format mov,mp4,m4a,3gp,3g2,mj2 detected only with low score of 1, misdetection possible!\n",
      "moov atom not found\n",
      "Processing videos:  64%|██████▍   | 2556/4000 [07:07<03:08,  7.68it/s]"
     ]
    },
    {
     "name": "stdout",
     "output_type": "stream",
     "text": [
      "Error processing video /home/z/Music/st/Kinetics-400/RQ1/Sparse_Keyframe/cb1ZfTSnNBk.mp4: [Errno 1094995529] Invalid data found when processing input: '/home/z/Music/st/Kinetics-400/RQ1/Sparse_Keyframe/cb1ZfTSnNBk.mp4'; last error log: [mov,mp4,m4a,3gp,3g2,mj2] moov atom not found\n",
      "Error processing video cb1ZfTSnNBk: [Errno 1094995529] Invalid data found when processing input: '/home/z/Music/st/Kinetics-400/RQ1/Sparse_Keyframe/cb1ZfTSnNBk.mp4'; last error log: [mov,mp4,m4a,3gp,3g2,mj2] moov atom not found\n"
     ]
    },
    {
     "name": "stderr",
     "output_type": "stream",
     "text": [
      "Processing videos:  64%|██████▍   | 2571/4000 [07:09<04:03,  5.87it/s]Format mov,mp4,m4a,3gp,3g2,mj2 detected only with low score of 1, misdetection possible!\n",
      "moov atom not found\n",
      "Processing videos:  64%|██████▍   | 2573/4000 [07:09<03:05,  7.68it/s]"
     ]
    },
    {
     "name": "stdout",
     "output_type": "stream",
     "text": [
      "Error processing video /home/z/Music/st/Kinetics-400/RQ1/Sparse_Keyframe/WwzeuVKz1EY.mp4: [Errno 1094995529] Invalid data found when processing input: '/home/z/Music/st/Kinetics-400/RQ1/Sparse_Keyframe/WwzeuVKz1EY.mp4'; last error log: [mov,mp4,m4a,3gp,3g2,mj2] moov atom not found\n",
      "Error processing video WwzeuVKz1EY: [Errno 1094995529] Invalid data found when processing input: '/home/z/Music/st/Kinetics-400/RQ1/Sparse_Keyframe/WwzeuVKz1EY.mp4'; last error log: [mov,mp4,m4a,3gp,3g2,mj2] moov atom not found\n"
     ]
    },
    {
     "name": "stderr",
     "output_type": "stream",
     "text": [
      "Processing videos:  65%|██████▍   | 2596/4000 [07:13<03:54,  5.99it/s]Format mov,mp4,m4a,3gp,3g2,mj2 detected only with low score of 1, misdetection possible!\n",
      "moov atom not found\n",
      "Processing videos:  65%|██████▍   | 2598/4000 [07:14<03:00,  7.76it/s]"
     ]
    },
    {
     "name": "stdout",
     "output_type": "stream",
     "text": [
      "Error processing video /home/z/Music/st/Kinetics-400/RQ1/Sparse_Keyframe/pPd470Kdmyk.mp4: [Errno 1094995529] Invalid data found when processing input: '/home/z/Music/st/Kinetics-400/RQ1/Sparse_Keyframe/pPd470Kdmyk.mp4'; last error log: [mov,mp4,m4a,3gp,3g2,mj2] moov atom not found\n",
      "Error processing video pPd470Kdmyk: [Errno 1094995529] Invalid data found when processing input: '/home/z/Music/st/Kinetics-400/RQ1/Sparse_Keyframe/pPd470Kdmyk.mp4'; last error log: [mov,mp4,m4a,3gp,3g2,mj2] moov atom not found\n"
     ]
    },
    {
     "name": "stderr",
     "output_type": "stream",
     "text": [
      "Processing videos:  65%|██████▌   | 2618/4000 [07:17<04:26,  5.19it/s]Format mov,mp4,m4a,3gp,3g2,mj2 detected only with low score of 1, misdetection possible!\n",
      "moov atom not found\n",
      "Processing videos:  66%|██████▌   | 2620/4000 [07:17<03:18,  6.94it/s]Format mov,mp4,m4a,3gp,3g2,mj2 detected only with low score of 1, misdetection possible!\n",
      "moov atom not found\n"
     ]
    },
    {
     "name": "stdout",
     "output_type": "stream",
     "text": [
      "Error processing video /home/z/Music/st/Kinetics-400/RQ1/Sparse_Keyframe/w1sbPlnQpDI.mp4: [Errno 1094995529] Invalid data found when processing input: '/home/z/Music/st/Kinetics-400/RQ1/Sparse_Keyframe/w1sbPlnQpDI.mp4'; last error log: [mov,mp4,m4a,3gp,3g2,mj2] moov atom not found\n",
      "Error processing video w1sbPlnQpDI: [Errno 1094995529] Invalid data found when processing input: '/home/z/Music/st/Kinetics-400/RQ1/Sparse_Keyframe/w1sbPlnQpDI.mp4'; last error log: [mov,mp4,m4a,3gp,3g2,mj2] moov atom not found\n",
      "Error processing video /home/z/Music/st/Kinetics-400/RQ1/Sparse_Keyframe/QBeTdk88-4s.mp4: [Errno 1094995529] Invalid data found when processing input: '/home/z/Music/st/Kinetics-400/RQ1/Sparse_Keyframe/QBeTdk88-4s.mp4'; last error log: [mov,mp4,m4a,3gp,3g2,mj2] moov atom not found\n",
      "Error processing video QBeTdk88-4s: [Errno 1094995529] Invalid data found when processing input: '/home/z/Music/st/Kinetics-400/RQ1/Sparse_Keyframe/QBeTdk88-4s.mp4'; last error log: [mov,mp4,m4a,3gp,3g2,mj2] moov atom not found\n"
     ]
    },
    {
     "name": "stderr",
     "output_type": "stream",
     "text": [
      "Processing videos:  67%|██████▋   | 2662/4000 [07:26<03:44,  5.97it/s]Format mov,mp4,m4a,3gp,3g2,mj2 detected only with low score of 1, misdetection possible!\n",
      "moov atom not found\n",
      "Processing videos:  67%|██████▋   | 2664/4000 [07:26<02:53,  7.70it/s]"
     ]
    },
    {
     "name": "stdout",
     "output_type": "stream",
     "text": [
      "Error processing video /home/z/Music/st/Kinetics-400/RQ1/Sparse_Keyframe/_UqZv1ojTQk.mp4: [Errno 1094995529] Invalid data found when processing input: '/home/z/Music/st/Kinetics-400/RQ1/Sparse_Keyframe/_UqZv1ojTQk.mp4'; last error log: [mov,mp4,m4a,3gp,3g2,mj2] moov atom not found\n",
      "Error processing video _UqZv1ojTQk: [Errno 1094995529] Invalid data found when processing input: '/home/z/Music/st/Kinetics-400/RQ1/Sparse_Keyframe/_UqZv1ojTQk.mp4'; last error log: [mov,mp4,m4a,3gp,3g2,mj2] moov atom not found\n"
     ]
    },
    {
     "name": "stderr",
     "output_type": "stream",
     "text": [
      "Processing videos:  67%|██████▋   | 2669/4000 [07:27<03:28,  6.38it/s]Format mov,mp4,m4a,3gp,3g2,mj2 detected only with low score of 1, misdetection possible!\n",
      "moov atom not found\n",
      "Processing videos:  67%|██████▋   | 2671/4000 [07:27<02:44,  8.09it/s]"
     ]
    },
    {
     "name": "stdout",
     "output_type": "stream",
     "text": [
      "Error processing video /home/z/Music/st/Kinetics-400/RQ1/Sparse_Keyframe/vsYbMpBLQ8g.mp4: [Errno 1094995529] Invalid data found when processing input: '/home/z/Music/st/Kinetics-400/RQ1/Sparse_Keyframe/vsYbMpBLQ8g.mp4'; last error log: [mov,mp4,m4a,3gp,3g2,mj2] moov atom not found\n",
      "Error processing video vsYbMpBLQ8g: [Errno 1094995529] Invalid data found when processing input: '/home/z/Music/st/Kinetics-400/RQ1/Sparse_Keyframe/vsYbMpBLQ8g.mp4'; last error log: [mov,mp4,m4a,3gp,3g2,mj2] moov atom not found\n"
     ]
    },
    {
     "name": "stderr",
     "output_type": "stream",
     "text": [
      "Processing videos:  67%|██████▋   | 2676/4000 [07:28<03:25,  6.44it/s]Format mov,mp4,m4a,3gp,3g2,mj2 detected only with low score of 1, misdetection possible!\n",
      "moov atom not found\n",
      "Processing videos:  67%|██████▋   | 2678/4000 [07:28<02:44,  8.03it/s]"
     ]
    },
    {
     "name": "stdout",
     "output_type": "stream",
     "text": [
      "Error processing video /home/z/Music/st/Kinetics-400/RQ1/Sparse_Keyframe/GTZsciKYYT4.mp4: [Errno 1094995529] Invalid data found when processing input: '/home/z/Music/st/Kinetics-400/RQ1/Sparse_Keyframe/GTZsciKYYT4.mp4'; last error log: [mov,mp4,m4a,3gp,3g2,mj2] moov atom not found\n",
      "Error processing video GTZsciKYYT4: [Errno 1094995529] Invalid data found when processing input: '/home/z/Music/st/Kinetics-400/RQ1/Sparse_Keyframe/GTZsciKYYT4.mp4'; last error log: [mov,mp4,m4a,3gp,3g2,mj2] moov atom not found\n"
     ]
    },
    {
     "name": "stderr",
     "output_type": "stream",
     "text": [
      "Processing videos:  68%|██████▊   | 2701/4000 [07:32<03:33,  6.07it/s]Format mov,mp4,m4a,3gp,3g2,mj2 detected only with low score of 1, misdetection possible!\n",
      "moov atom not found\n",
      "Processing videos:  68%|██████▊   | 2703/4000 [07:32<02:46,  7.77it/s]"
     ]
    },
    {
     "name": "stdout",
     "output_type": "stream",
     "text": [
      "Error processing video /home/z/Music/st/Kinetics-400/RQ1/Sparse_Keyframe/ZtEpp2amAKQ.mp4: [Errno 1094995529] Invalid data found when processing input: '/home/z/Music/st/Kinetics-400/RQ1/Sparse_Keyframe/ZtEpp2amAKQ.mp4'; last error log: [mov,mp4,m4a,3gp,3g2,mj2] moov atom not found\n",
      "Error processing video ZtEpp2amAKQ: [Errno 1094995529] Invalid data found when processing input: '/home/z/Music/st/Kinetics-400/RQ1/Sparse_Keyframe/ZtEpp2amAKQ.mp4'; last error log: [mov,mp4,m4a,3gp,3g2,mj2] moov atom not found\n"
     ]
    },
    {
     "name": "stderr",
     "output_type": "stream",
     "text": [
      "Processing videos:  69%|██████▊   | 2749/4000 [07:40<03:26,  6.07it/s]Format mov,mp4,m4a,3gp,3g2,mj2 detected only with low score of 1, misdetection possible!\n",
      "moov atom not found\n",
      "Processing videos:  69%|██████▉   | 2751/4000 [07:40<02:39,  7.84it/s]"
     ]
    },
    {
     "name": "stdout",
     "output_type": "stream",
     "text": [
      "Error processing video /home/z/Music/st/Kinetics-400/RQ1/Sparse_Keyframe/hWn5R3BQBys.mp4: [Errno 1094995529] Invalid data found when processing input: '/home/z/Music/st/Kinetics-400/RQ1/Sparse_Keyframe/hWn5R3BQBys.mp4'; last error log: [mov,mp4,m4a,3gp,3g2,mj2] moov atom not found\n",
      "Error processing video hWn5R3BQBys: [Errno 1094995529] Invalid data found when processing input: '/home/z/Music/st/Kinetics-400/RQ1/Sparse_Keyframe/hWn5R3BQBys.mp4'; last error log: [mov,mp4,m4a,3gp,3g2,mj2] moov atom not found\n"
     ]
    },
    {
     "name": "stderr",
     "output_type": "stream",
     "text": [
      "Processing videos:  69%|██████▉   | 2764/4000 [07:42<03:29,  5.90it/s]Format mov,mp4,m4a,3gp,3g2,mj2 detected only with low score of 1, misdetection possible!\n",
      "moov atom not found\n",
      "Processing videos:  69%|██████▉   | 2766/4000 [07:42<02:44,  7.51it/s]Format mov,mp4,m4a,3gp,3g2,mj2 detected only with low score of 1, misdetection possible!\n",
      "moov atom not found\n"
     ]
    },
    {
     "name": "stdout",
     "output_type": "stream",
     "text": [
      "Error processing video /home/z/Music/st/Kinetics-400/RQ1/Sparse_Keyframe/lmtsqjsj1N4.mp4: [Errno 1094995529] Invalid data found when processing input: '/home/z/Music/st/Kinetics-400/RQ1/Sparse_Keyframe/lmtsqjsj1N4.mp4'; last error log: [mov,mp4,m4a,3gp,3g2,mj2] moov atom not found\n",
      "Error processing video lmtsqjsj1N4: [Errno 1094995529] Invalid data found when processing input: '/home/z/Music/st/Kinetics-400/RQ1/Sparse_Keyframe/lmtsqjsj1N4.mp4'; last error log: [mov,mp4,m4a,3gp,3g2,mj2] moov atom not found\n",
      "Error processing video /home/z/Music/st/Kinetics-400/RQ1/Sparse_Keyframe/YBIe1eukx1k.mp4: [Errno 1094995529] Invalid data found when processing input: '/home/z/Music/st/Kinetics-400/RQ1/Sparse_Keyframe/YBIe1eukx1k.mp4'; last error log: [mov,mp4,m4a,3gp,3g2,mj2] moov atom not found\n",
      "Error processing video YBIe1eukx1k: [Errno 1094995529] Invalid data found when processing input: '/home/z/Music/st/Kinetics-400/RQ1/Sparse_Keyframe/YBIe1eukx1k.mp4'; last error log: [mov,mp4,m4a,3gp,3g2,mj2] moov atom not found\n"
     ]
    },
    {
     "name": "stderr",
     "output_type": "stream",
     "text": [
      "Processing videos:  69%|██████▉   | 2777/4000 [07:44<03:20,  6.11it/s]Format mov,mp4,m4a,3gp,3g2,mj2 detected only with low score of 1, misdetection possible!\n",
      "moov atom not found\n",
      "Processing videos:  69%|██████▉   | 2779/4000 [07:44<02:35,  7.84it/s]"
     ]
    },
    {
     "name": "stdout",
     "output_type": "stream",
     "text": [
      "Error processing video /home/z/Music/st/Kinetics-400/RQ1/Sparse_Keyframe/0tHJCi6G4S4.mp4: [Errno 1094995529] Invalid data found when processing input: '/home/z/Music/st/Kinetics-400/RQ1/Sparse_Keyframe/0tHJCi6G4S4.mp4'; last error log: [mov,mp4,m4a,3gp,3g2,mj2] moov atom not found\n",
      "Error processing video 0tHJCi6G4S4: [Errno 1094995529] Invalid data found when processing input: '/home/z/Music/st/Kinetics-400/RQ1/Sparse_Keyframe/0tHJCi6G4S4.mp4'; last error log: [mov,mp4,m4a,3gp,3g2,mj2] moov atom not found\n"
     ]
    },
    {
     "name": "stderr",
     "output_type": "stream",
     "text": [
      "Processing videos:  70%|███████   | 2806/4000 [07:49<03:17,  6.03it/s]Format mov,mp4,m4a,3gp,3g2,mj2 detected only with low score of 1, misdetection possible!\n",
      "moov atom not found\n",
      "Processing videos:  70%|███████   | 2808/4000 [07:49<02:33,  7.75it/s]"
     ]
    },
    {
     "name": "stdout",
     "output_type": "stream",
     "text": [
      "Error processing video /home/z/Music/st/Kinetics-400/RQ1/Sparse_Keyframe/dOtoD9vmLLI.mp4: [Errno 1094995529] Invalid data found when processing input: '/home/z/Music/st/Kinetics-400/RQ1/Sparse_Keyframe/dOtoD9vmLLI.mp4'; last error log: [mov,mp4,m4a,3gp,3g2,mj2] moov atom not found\n",
      "Error processing video dOtoD9vmLLI: [Errno 1094995529] Invalid data found when processing input: '/home/z/Music/st/Kinetics-400/RQ1/Sparse_Keyframe/dOtoD9vmLLI.mp4'; last error log: [mov,mp4,m4a,3gp,3g2,mj2] moov atom not found\n"
     ]
    },
    {
     "name": "stderr",
     "output_type": "stream",
     "text": [
      "Processing videos:  71%|███████   | 2836/4000 [07:54<04:48,  4.03it/s]Format mov,mp4,m4a,3gp,3g2,mj2 detected only with low score of 1, misdetection possible!\n",
      "moov atom not found\n",
      "Processing videos:  71%|███████   | 2838/4000 [07:55<03:19,  5.81it/s]"
     ]
    },
    {
     "name": "stdout",
     "output_type": "stream",
     "text": [
      "Error processing video /home/z/Music/st/Kinetics-400/RQ1/Sparse_Keyframe/OdFL1dc9NMQ.mp4: [Errno 1094995529] Invalid data found when processing input: '/home/z/Music/st/Kinetics-400/RQ1/Sparse_Keyframe/OdFL1dc9NMQ.mp4'; last error log: [mov,mp4,m4a,3gp,3g2,mj2] moov atom not found\n",
      "Error processing video OdFL1dc9NMQ: [Errno 1094995529] Invalid data found when processing input: '/home/z/Music/st/Kinetics-400/RQ1/Sparse_Keyframe/OdFL1dc9NMQ.mp4'; last error log: [mov,mp4,m4a,3gp,3g2,mj2] moov atom not found\n"
     ]
    },
    {
     "name": "stderr",
     "output_type": "stream",
     "text": [
      "Processing videos:  71%|███████   | 2845/4000 [07:56<03:16,  5.87it/s]Format mov,mp4,m4a,3gp,3g2,mj2 detected only with low score of 1, misdetection possible!\n",
      "moov atom not found\n",
      "Format mov,mp4,m4a,3gp,3g2,mj2 detected only with low score of 1, misdetection possible!\n",
      "moov atom not found\n",
      "Processing videos:  71%|███████   | 2848/4000 [07:56<02:03,  9.36it/s]"
     ]
    },
    {
     "name": "stdout",
     "output_type": "stream",
     "text": [
      "Error processing video /home/z/Music/st/Kinetics-400/RQ1/Sparse_Keyframe/-94nreFhQRg.mp4: [Errno 1094995529] Invalid data found when processing input: '/home/z/Music/st/Kinetics-400/RQ1/Sparse_Keyframe/-94nreFhQRg.mp4'; last error log: [mov,mp4,m4a,3gp,3g2,mj2] moov atom not found\n",
      "Error processing video -94nreFhQRg: [Errno 1094995529] Invalid data found when processing input: '/home/z/Music/st/Kinetics-400/RQ1/Sparse_Keyframe/-94nreFhQRg.mp4'; last error log: [mov,mp4,m4a,3gp,3g2,mj2] moov atom not found\n",
      "Error processing video /home/z/Music/st/Kinetics-400/RQ1/Sparse_Keyframe/67RcBiqRf_8.mp4: [Errno 1094995529] Invalid data found when processing input: '/home/z/Music/st/Kinetics-400/RQ1/Sparse_Keyframe/67RcBiqRf_8.mp4'; last error log: [mov,mp4,m4a,3gp,3g2,mj2] moov atom not found\n",
      "Error processing video 67RcBiqRf_8: [Errno 1094995529] Invalid data found when processing input: '/home/z/Music/st/Kinetics-400/RQ1/Sparse_Keyframe/67RcBiqRf_8.mp4'; last error log: [mov,mp4,m4a,3gp,3g2,mj2] moov atom not found\n"
     ]
    },
    {
     "name": "stderr",
     "output_type": "stream",
     "text": [
      "Processing videos:  71%|███████▏  | 2854/4000 [07:57<03:01,  6.33it/s]Format mov,mp4,m4a,3gp,3g2,mj2 detected only with low score of 1, misdetection possible!\n",
      "moov atom not found\n",
      "Processing videos:  71%|███████▏  | 2856/4000 [07:57<02:23,  7.95it/s]"
     ]
    },
    {
     "name": "stdout",
     "output_type": "stream",
     "text": [
      "Error processing video /home/z/Music/st/Kinetics-400/RQ1/Sparse_Keyframe/3yMHI5j-BFE.mp4: [Errno 1094995529] Invalid data found when processing input: '/home/z/Music/st/Kinetics-400/RQ1/Sparse_Keyframe/3yMHI5j-BFE.mp4'; last error log: [mov,mp4,m4a,3gp,3g2,mj2] moov atom not found\n",
      "Error processing video 3yMHI5j-BFE: [Errno 1094995529] Invalid data found when processing input: '/home/z/Music/st/Kinetics-400/RQ1/Sparse_Keyframe/3yMHI5j-BFE.mp4'; last error log: [mov,mp4,m4a,3gp,3g2,mj2] moov atom not found\n"
     ]
    },
    {
     "name": "stderr",
     "output_type": "stream",
     "text": [
      "Processing videos:  72%|███████▏  | 2861/4000 [07:58<03:01,  6.27it/s]Format mov,mp4,m4a,3gp,3g2,mj2 detected only with low score of 1, misdetection possible!\n",
      "moov atom not found\n",
      "Processing videos:  72%|███████▏  | 2863/4000 [07:58<02:23,  7.95it/s]"
     ]
    },
    {
     "name": "stdout",
     "output_type": "stream",
     "text": [
      "Error processing video /home/z/Music/st/Kinetics-400/RQ1/Sparse_Keyframe/9zAOG7R84S8.mp4: [Errno 1094995529] Invalid data found when processing input: '/home/z/Music/st/Kinetics-400/RQ1/Sparse_Keyframe/9zAOG7R84S8.mp4'; last error log: [mov,mp4,m4a,3gp,3g2,mj2] moov atom not found\n",
      "Error processing video 9zAOG7R84S8: [Errno 1094995529] Invalid data found when processing input: '/home/z/Music/st/Kinetics-400/RQ1/Sparse_Keyframe/9zAOG7R84S8.mp4'; last error log: [mov,mp4,m4a,3gp,3g2,mj2] moov atom not found\n"
     ]
    },
    {
     "name": "stderr",
     "output_type": "stream",
     "text": [
      "Processing videos:  72%|███████▏  | 2880/4000 [08:01<03:48,  4.91it/s]Format mov,mp4,m4a,3gp,3g2,mj2 detected only with low score of 1, misdetection possible!\n",
      "moov atom not found\n",
      "Processing videos:  72%|███████▏  | 2882/4000 [08:01<02:45,  6.74it/s]"
     ]
    },
    {
     "name": "stdout",
     "output_type": "stream",
     "text": [
      "Error processing video /home/z/Music/st/Kinetics-400/RQ1/Sparse_Keyframe/jwYikLyqs0k.mp4: [Errno 1094995529] Invalid data found when processing input: '/home/z/Music/st/Kinetics-400/RQ1/Sparse_Keyframe/jwYikLyqs0k.mp4'; last error log: [mov,mp4,m4a,3gp,3g2,mj2] moov atom not found\n",
      "Error processing video jwYikLyqs0k: [Errno 1094995529] Invalid data found when processing input: '/home/z/Music/st/Kinetics-400/RQ1/Sparse_Keyframe/jwYikLyqs0k.mp4'; last error log: [mov,mp4,m4a,3gp,3g2,mj2] moov atom not found\n"
     ]
    },
    {
     "name": "stderr",
     "output_type": "stream",
     "text": [
      "Processing videos:  73%|███████▎  | 2913/4000 [08:07<02:58,  6.10it/s]Format mov,mp4,m4a,3gp,3g2,mj2 detected only with low score of 1, misdetection possible!\n",
      "moov atom not found\n",
      "Processing videos:  73%|███████▎  | 2915/4000 [08:07<02:17,  7.87it/s]"
     ]
    },
    {
     "name": "stdout",
     "output_type": "stream",
     "text": [
      "Error processing video /home/z/Music/st/Kinetics-400/RQ1/Sparse_Keyframe/EoNbjPOFquY.mp4: [Errno 1094995529] Invalid data found when processing input: '/home/z/Music/st/Kinetics-400/RQ1/Sparse_Keyframe/EoNbjPOFquY.mp4'; last error log: [mov,mp4,m4a,3gp,3g2,mj2] moov atom not found\n",
      "Error processing video EoNbjPOFquY: [Errno 1094995529] Invalid data found when processing input: '/home/z/Music/st/Kinetics-400/RQ1/Sparse_Keyframe/EoNbjPOFquY.mp4'; last error log: [mov,mp4,m4a,3gp,3g2,mj2] moov atom not found\n"
     ]
    },
    {
     "name": "stderr",
     "output_type": "stream",
     "text": [
      "Processing videos:  74%|███████▍  | 2961/4000 [08:15<03:02,  5.71it/s]Format mov,mp4,m4a,3gp,3g2,mj2 detected only with low score of 1, misdetection possible!\n",
      "moov atom not found\n",
      "Processing videos:  74%|███████▍  | 2963/4000 [08:15<02:18,  7.51it/s]"
     ]
    },
    {
     "name": "stdout",
     "output_type": "stream",
     "text": [
      "Error processing video /home/z/Music/st/Kinetics-400/RQ1/Sparse_Keyframe/Qs16uw_ZtUU.mp4: [Errno 1094995529] Invalid data found when processing input: '/home/z/Music/st/Kinetics-400/RQ1/Sparse_Keyframe/Qs16uw_ZtUU.mp4'; last error log: [mov,mp4,m4a,3gp,3g2,mj2] moov atom not found\n",
      "Error processing video Qs16uw_ZtUU: [Errno 1094995529] Invalid data found when processing input: '/home/z/Music/st/Kinetics-400/RQ1/Sparse_Keyframe/Qs16uw_ZtUU.mp4'; last error log: [mov,mp4,m4a,3gp,3g2,mj2] moov atom not found\n"
     ]
    },
    {
     "name": "stderr",
     "output_type": "stream",
     "text": [
      "Processing videos:  78%|███████▊  | 3117/4000 [08:43<03:12,  4.59it/s]Format mov,mp4,m4a,3gp,3g2,mj2 detected only with low score of 1, misdetection possible!\n",
      "moov atom not found\n",
      "Processing videos:  78%|███████▊  | 3119/4000 [08:43<02:19,  6.34it/s]Format mov,mp4,m4a,3gp,3g2,mj2 detected only with low score of 1, misdetection possible!\n",
      "moov atom not found\n"
     ]
    },
    {
     "name": "stdout",
     "output_type": "stream",
     "text": [
      "Error processing video /home/z/Music/st/Kinetics-400/RQ1/Sparse_Keyframe/8RTo_2-sZG4.mp4: [Errno 1094995529] Invalid data found when processing input: '/home/z/Music/st/Kinetics-400/RQ1/Sparse_Keyframe/8RTo_2-sZG4.mp4'; last error log: [mov,mp4,m4a,3gp,3g2,mj2] moov atom not found\n",
      "Error processing video 8RTo_2-sZG4: [Errno 1094995529] Invalid data found when processing input: '/home/z/Music/st/Kinetics-400/RQ1/Sparse_Keyframe/8RTo_2-sZG4.mp4'; last error log: [mov,mp4,m4a,3gp,3g2,mj2] moov atom not found\n",
      "Error processing video /home/z/Music/st/Kinetics-400/RQ1/Sparse_Keyframe/By1lQRot9eo.mp4: [Errno 1094995529] Invalid data found when processing input: '/home/z/Music/st/Kinetics-400/RQ1/Sparse_Keyframe/By1lQRot9eo.mp4'; last error log: [mov,mp4,m4a,3gp,3g2,mj2] moov atom not found\n",
      "Error processing video By1lQRot9eo: [Errno 1094995529] Invalid data found when processing input: '/home/z/Music/st/Kinetics-400/RQ1/Sparse_Keyframe/By1lQRot9eo.mp4'; last error log: [mov,mp4,m4a,3gp,3g2,mj2] moov atom not found\n"
     ]
    },
    {
     "name": "stderr",
     "output_type": "stream",
     "text": [
      "Processing videos:  79%|███████▊  | 3143/4000 [08:47<02:24,  5.95it/s]Format mov,mp4,m4a,3gp,3g2,mj2 detected only with low score of 1, misdetection possible!\n",
      "moov atom not found\n"
     ]
    },
    {
     "name": "stdout",
     "output_type": "stream",
     "text": [
      "Error processing video /home/z/Music/st/Kinetics-400/RQ1/Sparse_Keyframe/aCmXpA4HHoQ.mp4: [Errno 1094995529] Invalid data found when processing input: '/home/z/Music/st/Kinetics-400/RQ1/Sparse_Keyframe/aCmXpA4HHoQ.mp4'; last error log: [mov,mp4,m4a,3gp,3g2,mj2] moov atom not found\n",
      "Error processing video aCmXpA4HHoQ: [Errno 1094995529] Invalid data found when processing input: '/home/z/Music/st/Kinetics-400/RQ1/Sparse_Keyframe/aCmXpA4HHoQ.mp4'; last error log: [mov,mp4,m4a,3gp,3g2,mj2] moov atom not found\n"
     ]
    },
    {
     "name": "stderr",
     "output_type": "stream",
     "text": [
      "Processing videos:  79%|███████▉  | 3170/4000 [08:52<02:22,  5.82it/s]Format mov,mp4,m4a,3gp,3g2,mj2 detected only with low score of 1, misdetection possible!\n",
      "moov atom not found\n",
      "Processing videos:  79%|███████▉  | 3172/4000 [08:52<01:48,  7.64it/s]"
     ]
    },
    {
     "name": "stdout",
     "output_type": "stream",
     "text": [
      "Error processing video /home/z/Music/st/Kinetics-400/RQ1/Sparse_Keyframe/yCSpFVwzwP8.mp4: [Errno 1094995529] Invalid data found when processing input: '/home/z/Music/st/Kinetics-400/RQ1/Sparse_Keyframe/yCSpFVwzwP8.mp4'; last error log: [mov,mp4,m4a,3gp,3g2,mj2] moov atom not found\n",
      "Error processing video yCSpFVwzwP8: [Errno 1094995529] Invalid data found when processing input: '/home/z/Music/st/Kinetics-400/RQ1/Sparse_Keyframe/yCSpFVwzwP8.mp4'; last error log: [mov,mp4,m4a,3gp,3g2,mj2] moov atom not found\n"
     ]
    },
    {
     "name": "stderr",
     "output_type": "stream",
     "text": [
      "Processing videos:  80%|███████▉  | 3184/4000 [08:54<02:15,  6.02it/s]Format mov,mp4,m4a,3gp,3g2,mj2 detected only with low score of 1, misdetection possible!\n",
      "moov atom not found\n",
      "Processing videos:  80%|███████▉  | 3186/4000 [08:54<01:44,  7.82it/s]"
     ]
    },
    {
     "name": "stdout",
     "output_type": "stream",
     "text": [
      "Error processing video /home/z/Music/st/Kinetics-400/RQ1/Sparse_Keyframe/oO2X9UcZdQQ.mp4: [Errno 1094995529] Invalid data found when processing input: '/home/z/Music/st/Kinetics-400/RQ1/Sparse_Keyframe/oO2X9UcZdQQ.mp4'; last error log: [mov,mp4,m4a,3gp,3g2,mj2] moov atom not found\n",
      "Error processing video oO2X9UcZdQQ: [Errno 1094995529] Invalid data found when processing input: '/home/z/Music/st/Kinetics-400/RQ1/Sparse_Keyframe/oO2X9UcZdQQ.mp4'; last error log: [mov,mp4,m4a,3gp,3g2,mj2] moov atom not found\n"
     ]
    },
    {
     "name": "stderr",
     "output_type": "stream",
     "text": [
      "Processing videos:  81%|████████  | 3239/4000 [09:03<02:06,  6.01it/s]Format mov,mp4,m4a,3gp,3g2,mj2 detected only with low score of 1, misdetection possible!\n",
      "moov atom not found\n",
      "Processing videos:  81%|████████  | 3241/4000 [09:03<01:37,  7.78it/s]Format mov,mp4,m4a,3gp,3g2,mj2 detected only with low score of 1, misdetection possible!\n",
      "moov atom not found\n",
      "Format mov,mp4,m4a,3gp,3g2,mj2 detected only with low score of 1, misdetection possible!\n",
      "moov atom not found\n"
     ]
    },
    {
     "name": "stdout",
     "output_type": "stream",
     "text": [
      "Error processing video /home/z/Music/st/Kinetics-400/RQ1/Sparse_Keyframe/QrbczcybvC4.mp4: [Errno 1094995529] Invalid data found when processing input: '/home/z/Music/st/Kinetics-400/RQ1/Sparse_Keyframe/QrbczcybvC4.mp4'; last error log: [mov,mp4,m4a,3gp,3g2,mj2] moov atom not found\n",
      "Error processing video QrbczcybvC4: [Errno 1094995529] Invalid data found when processing input: '/home/z/Music/st/Kinetics-400/RQ1/Sparse_Keyframe/QrbczcybvC4.mp4'; last error log: [mov,mp4,m4a,3gp,3g2,mj2] moov atom not found\n",
      "Error processing video /home/z/Music/st/Kinetics-400/RQ1/Sparse_Keyframe/K0C14D8BvqE.mp4: [Errno 1094995529] Invalid data found when processing input: '/home/z/Music/st/Kinetics-400/RQ1/Sparse_Keyframe/K0C14D8BvqE.mp4'; last error log: [mov,mp4,m4a,3gp,3g2,mj2] moov atom not found\n",
      "Error processing video K0C14D8BvqE: [Errno 1094995529] Invalid data found when processing input: '/home/z/Music/st/Kinetics-400/RQ1/Sparse_Keyframe/K0C14D8BvqE.mp4'; last error log: [mov,mp4,m4a,3gp,3g2,mj2] moov atom not found\n",
      "Error processing video /home/z/Music/st/Kinetics-400/RQ1/Sparse_Keyframe/JCiMh0ocbjQ.mp4: [Errno 1094995529] Invalid data found when processing input: '/home/z/Music/st/Kinetics-400/RQ1/Sparse_Keyframe/JCiMh0ocbjQ.mp4'; last error log: [mov,mp4,m4a,3gp,3g2,mj2] moov atom not found\n",
      "Error processing video JCiMh0ocbjQ: [Errno 1094995529] Invalid data found when processing input: '/home/z/Music/st/Kinetics-400/RQ1/Sparse_Keyframe/JCiMh0ocbjQ.mp4'; last error log: [mov,mp4,m4a,3gp,3g2,mj2] moov atom not found\n"
     ]
    },
    {
     "name": "stderr",
     "output_type": "stream",
     "text": [
      "Processing videos:  81%|████████▏ | 3250/4000 [09:05<02:08,  5.81it/s]Format mov,mp4,m4a,3gp,3g2,mj2 detected only with low score of 1, misdetection possible!\n",
      "moov atom not found\n",
      "Processing videos:  81%|████████▏ | 3252/4000 [09:05<01:39,  7.51it/s]"
     ]
    },
    {
     "name": "stdout",
     "output_type": "stream",
     "text": [
      "Error processing video /home/z/Music/st/Kinetics-400/RQ1/Sparse_Keyframe/liW292G96hs.mp4: [Errno 1094995529] Invalid data found when processing input: '/home/z/Music/st/Kinetics-400/RQ1/Sparse_Keyframe/liW292G96hs.mp4'; last error log: [mov,mp4,m4a,3gp,3g2,mj2] moov atom not found\n",
      "Error processing video liW292G96hs: [Errno 1094995529] Invalid data found when processing input: '/home/z/Music/st/Kinetics-400/RQ1/Sparse_Keyframe/liW292G96hs.mp4'; last error log: [mov,mp4,m4a,3gp,3g2,mj2] moov atom not found\n"
     ]
    },
    {
     "name": "stderr",
     "output_type": "stream",
     "text": [
      "Processing videos:  82%|████████▏ | 3278/4000 [09:09<01:57,  6.13it/s]Format mov,mp4,m4a,3gp,3g2,mj2 detected only with low score of 1, misdetection possible!\n",
      "moov atom not found\n",
      "Processing videos:  82%|████████▏ | 3280/4000 [09:10<01:30,  7.95it/s]"
     ]
    },
    {
     "name": "stdout",
     "output_type": "stream",
     "text": [
      "Error processing video /home/z/Music/st/Kinetics-400/RQ1/Sparse_Keyframe/7Hh4h3KvhIM.mp4: [Errno 1094995529] Invalid data found when processing input: '/home/z/Music/st/Kinetics-400/RQ1/Sparse_Keyframe/7Hh4h3KvhIM.mp4'; last error log: [mov,mp4,m4a,3gp,3g2,mj2] moov atom not found\n",
      "Error processing video 7Hh4h3KvhIM: [Errno 1094995529] Invalid data found when processing input: '/home/z/Music/st/Kinetics-400/RQ1/Sparse_Keyframe/7Hh4h3KvhIM.mp4'; last error log: [mov,mp4,m4a,3gp,3g2,mj2] moov atom not found\n"
     ]
    },
    {
     "name": "stderr",
     "output_type": "stream",
     "text": [
      "Processing videos:  83%|████████▎ | 3316/4000 [09:16<01:53,  6.00it/s]Format mov,mp4,m4a,3gp,3g2,mj2 detected only with low score of 1, misdetection possible!\n",
      "moov atom not found\n",
      "Processing videos:  83%|████████▎ | 3318/4000 [09:16<01:28,  7.74it/s]"
     ]
    },
    {
     "name": "stdout",
     "output_type": "stream",
     "text": [
      "Error processing video /home/z/Music/st/Kinetics-400/RQ1/Sparse_Keyframe/LDW7LLUkx8g.mp4: [Errno 1094995529] Invalid data found when processing input: '/home/z/Music/st/Kinetics-400/RQ1/Sparse_Keyframe/LDW7LLUkx8g.mp4'; last error log: [mov,mp4,m4a,3gp,3g2,mj2] moov atom not found\n",
      "Error processing video LDW7LLUkx8g: [Errno 1094995529] Invalid data found when processing input: '/home/z/Music/st/Kinetics-400/RQ1/Sparse_Keyframe/LDW7LLUkx8g.mp4'; last error log: [mov,mp4,m4a,3gp,3g2,mj2] moov atom not found\n"
     ]
    },
    {
     "name": "stderr",
     "output_type": "stream",
     "text": [
      "Processing videos:  83%|████████▎ | 3320/4000 [09:17<01:40,  6.77it/s]Format mov,mp4,m4a,3gp,3g2,mj2 detected only with low score of 1, misdetection possible!\n",
      "moov atom not found\n",
      "Processing videos:  83%|████████▎ | 3322/4000 [09:17<01:21,  8.28it/s]"
     ]
    },
    {
     "name": "stdout",
     "output_type": "stream",
     "text": [
      "Error processing video /home/z/Music/st/Kinetics-400/RQ1/Sparse_Keyframe/jx2JcyjLHrg.mp4: [Errno 1094995529] Invalid data found when processing input: '/home/z/Music/st/Kinetics-400/RQ1/Sparse_Keyframe/jx2JcyjLHrg.mp4'; last error log: [mov,mp4,m4a,3gp,3g2,mj2] moov atom not found\n",
      "Error processing video jx2JcyjLHrg: [Errno 1094995529] Invalid data found when processing input: '/home/z/Music/st/Kinetics-400/RQ1/Sparse_Keyframe/jx2JcyjLHrg.mp4'; last error log: [mov,mp4,m4a,3gp,3g2,mj2] moov atom not found\n"
     ]
    },
    {
     "name": "stderr",
     "output_type": "stream",
     "text": [
      "Processing videos:  83%|████████▎ | 3323/4000 [09:17<01:28,  7.62it/s]Format mov,mp4,m4a,3gp,3g2,mj2 detected only with low score of 1, misdetection possible!\n",
      "moov atom not found\n",
      "Processing videos:  83%|████████▎ | 3325/4000 [09:17<01:17,  8.74it/s]"
     ]
    },
    {
     "name": "stdout",
     "output_type": "stream",
     "text": [
      "Error processing video /home/z/Music/st/Kinetics-400/RQ1/Sparse_Keyframe/euBH_EPfuns.mp4: [Errno 1094995529] Invalid data found when processing input: '/home/z/Music/st/Kinetics-400/RQ1/Sparse_Keyframe/euBH_EPfuns.mp4'; last error log: [mov,mp4,m4a,3gp,3g2,mj2] moov atom not found\n",
      "Error processing video euBH_EPfuns: [Errno 1094995529] Invalid data found when processing input: '/home/z/Music/st/Kinetics-400/RQ1/Sparse_Keyframe/euBH_EPfuns.mp4'; last error log: [mov,mp4,m4a,3gp,3g2,mj2] moov atom not found\n"
     ]
    },
    {
     "name": "stderr",
     "output_type": "stream",
     "text": [
      "Processing videos:  84%|████████▍ | 3357/4000 [09:23<01:51,  5.78it/s]Format mov,mp4,m4a,3gp,3g2,mj2 detected only with low score of 1, misdetection possible!\n",
      "moov atom not found\n",
      "Processing videos:  84%|████████▍ | 3359/4000 [09:23<01:25,  7.52it/s]"
     ]
    },
    {
     "name": "stdout",
     "output_type": "stream",
     "text": [
      "Error processing video /home/z/Music/st/Kinetics-400/RQ1/Sparse_Keyframe/Kx5tbKRtV1I.mp4: [Errno 1094995529] Invalid data found when processing input: '/home/z/Music/st/Kinetics-400/RQ1/Sparse_Keyframe/Kx5tbKRtV1I.mp4'; last error log: [mov,mp4,m4a,3gp,3g2,mj2] moov atom not found\n",
      "Error processing video Kx5tbKRtV1I: [Errno 1094995529] Invalid data found when processing input: '/home/z/Music/st/Kinetics-400/RQ1/Sparse_Keyframe/Kx5tbKRtV1I.mp4'; last error log: [mov,mp4,m4a,3gp,3g2,mj2] moov atom not found\n"
     ]
    },
    {
     "name": "stderr",
     "output_type": "stream",
     "text": [
      "Processing videos:  84%|████████▍ | 3362/4000 [09:24<01:39,  6.43it/s]Format mov,mp4,m4a,3gp,3g2,mj2 detected only with low score of 1, misdetection possible!\n",
      "moov atom not found\n",
      "Processing videos:  84%|████████▍ | 3364/4000 [09:24<01:19,  8.00it/s]"
     ]
    },
    {
     "name": "stdout",
     "output_type": "stream",
     "text": [
      "Error processing video /home/z/Music/st/Kinetics-400/RQ1/Sparse_Keyframe/XaR31SJ8brU.mp4: [Errno 1094995529] Invalid data found when processing input: '/home/z/Music/st/Kinetics-400/RQ1/Sparse_Keyframe/XaR31SJ8brU.mp4'; last error log: [mov,mp4,m4a,3gp,3g2,mj2] moov atom not found\n",
      "Error processing video XaR31SJ8brU: [Errno 1094995529] Invalid data found when processing input: '/home/z/Music/st/Kinetics-400/RQ1/Sparse_Keyframe/XaR31SJ8brU.mp4'; last error log: [mov,mp4,m4a,3gp,3g2,mj2] moov atom not found\n"
     ]
    },
    {
     "name": "stderr",
     "output_type": "stream",
     "text": [
      "Processing videos:  85%|████████▍ | 3386/4000 [09:27<01:43,  5.91it/s]Format mov,mp4,m4a,3gp,3g2,mj2 detected only with low score of 1, misdetection possible!\n",
      "moov atom not found\n",
      "Processing videos:  85%|████████▍ | 3388/4000 [09:28<01:20,  7.58it/s]"
     ]
    },
    {
     "name": "stdout",
     "output_type": "stream",
     "text": [
      "Error processing video /home/z/Music/st/Kinetics-400/RQ1/Sparse_Keyframe/lkf8t3P7pEU.mp4: [Errno 1094995529] Invalid data found when processing input: '/home/z/Music/st/Kinetics-400/RQ1/Sparse_Keyframe/lkf8t3P7pEU.mp4'; last error log: [mov,mp4,m4a,3gp,3g2,mj2] moov atom not found\n",
      "Error processing video lkf8t3P7pEU: [Errno 1094995529] Invalid data found when processing input: '/home/z/Music/st/Kinetics-400/RQ1/Sparse_Keyframe/lkf8t3P7pEU.mp4'; last error log: [mov,mp4,m4a,3gp,3g2,mj2] moov atom not found\n"
     ]
    },
    {
     "name": "stderr",
     "output_type": "stream",
     "text": [
      "Processing videos:  85%|████████▌ | 3402/4000 [09:30<01:54,  5.22it/s]Format mov,mp4,m4a,3gp,3g2,mj2 detected only with low score of 1, misdetection possible!\n",
      "moov atom not found\n",
      "Processing videos:  85%|████████▌ | 3404/4000 [09:30<01:24,  7.05it/s]"
     ]
    },
    {
     "name": "stdout",
     "output_type": "stream",
     "text": [
      "Error processing video /home/z/Music/st/Kinetics-400/RQ1/Sparse_Keyframe/YguUwsDJyqc.mp4: [Errno 1094995529] Invalid data found when processing input: '/home/z/Music/st/Kinetics-400/RQ1/Sparse_Keyframe/YguUwsDJyqc.mp4'; last error log: [mov,mp4,m4a,3gp,3g2,mj2] moov atom not found\n",
      "Error processing video YguUwsDJyqc: [Errno 1094995529] Invalid data found when processing input: '/home/z/Music/st/Kinetics-400/RQ1/Sparse_Keyframe/YguUwsDJyqc.mp4'; last error log: [mov,mp4,m4a,3gp,3g2,mj2] moov atom not found\n"
     ]
    },
    {
     "name": "stderr",
     "output_type": "stream",
     "text": [
      "Processing videos:  87%|████████▋ | 3461/4000 [09:40<01:29,  6.01it/s]Format mov,mp4,m4a,3gp,3g2,mj2 detected only with low score of 1, misdetection possible!\n",
      "moov atom not found\n",
      "Processing videos:  87%|████████▋ | 3463/4000 [09:40<01:08,  7.80it/s]"
     ]
    },
    {
     "name": "stdout",
     "output_type": "stream",
     "text": [
      "Error processing video /home/z/Music/st/Kinetics-400/RQ1/Sparse_Keyframe/EwsARNDw4qQ.mp4: [Errno 1094995529] Invalid data found when processing input: '/home/z/Music/st/Kinetics-400/RQ1/Sparse_Keyframe/EwsARNDw4qQ.mp4'; last error log: [mov,mp4,m4a,3gp,3g2,mj2] moov atom not found\n",
      "Error processing video EwsARNDw4qQ: [Errno 1094995529] Invalid data found when processing input: '/home/z/Music/st/Kinetics-400/RQ1/Sparse_Keyframe/EwsARNDw4qQ.mp4'; last error log: [mov,mp4,m4a,3gp,3g2,mj2] moov atom not found\n"
     ]
    },
    {
     "name": "stderr",
     "output_type": "stream",
     "text": [
      "Processing videos:  87%|████████▋ | 3467/4000 [09:41<01:21,  6.50it/s]Format mov,mp4,m4a,3gp,3g2,mj2 detected only with low score of 1, misdetection possible!\n",
      "moov atom not found\n",
      "Processing videos:  87%|████████▋ | 3469/4000 [09:41<01:05,  8.17it/s]"
     ]
    },
    {
     "name": "stdout",
     "output_type": "stream",
     "text": [
      "Error processing video /home/z/Music/st/Kinetics-400/RQ1/Sparse_Keyframe/MGQ_s1MurHA.mp4: [Errno 1094995529] Invalid data found when processing input: '/home/z/Music/st/Kinetics-400/RQ1/Sparse_Keyframe/MGQ_s1MurHA.mp4'; last error log: [mov,mp4,m4a,3gp,3g2,mj2] moov atom not found\n",
      "Error processing video MGQ_s1MurHA: [Errno 1094995529] Invalid data found when processing input: '/home/z/Music/st/Kinetics-400/RQ1/Sparse_Keyframe/MGQ_s1MurHA.mp4'; last error log: [mov,mp4,m4a,3gp,3g2,mj2] moov atom not found\n"
     ]
    },
    {
     "name": "stderr",
     "output_type": "stream",
     "text": [
      "Processing videos:  87%|████████▋ | 3472/4000 [09:41<01:36,  5.45it/s]Format mov,mp4,m4a,3gp,3g2,mj2 detected only with low score of 1, misdetection possible!\n",
      "moov atom not found\n"
     ]
    },
    {
     "name": "stdout",
     "output_type": "stream",
     "text": [
      "Error processing video /home/z/Music/st/Kinetics-400/RQ1/Sparse_Keyframe/rO4kl4cb67g.mp4: [Errno 1094995529] Invalid data found when processing input: '/home/z/Music/st/Kinetics-400/RQ1/Sparse_Keyframe/rO4kl4cb67g.mp4'; last error log: [mov,mp4,m4a,3gp,3g2,mj2] moov atom not found\n",
      "Error processing video rO4kl4cb67g: [Errno 1094995529] Invalid data found when processing input: '/home/z/Music/st/Kinetics-400/RQ1/Sparse_Keyframe/rO4kl4cb67g.mp4'; last error log: [mov,mp4,m4a,3gp,3g2,mj2] moov atom not found\n"
     ]
    },
    {
     "name": "stderr",
     "output_type": "stream",
     "text": [
      "Processing videos:  89%|████████▊ | 3542/4000 [09:54<01:22,  5.55it/s]Format mov,mp4,m4a,3gp,3g2,mj2 detected only with low score of 1, misdetection possible!\n",
      "moov atom not found\n",
      "Processing videos:  89%|████████▊ | 3544/4000 [09:54<01:03,  7.22it/s]"
     ]
    },
    {
     "name": "stdout",
     "output_type": "stream",
     "text": [
      "Error processing video /home/z/Music/st/Kinetics-400/RQ1/Sparse_Keyframe/w_IpfgRsBVA.mp4: [Errno 1094995529] Invalid data found when processing input: '/home/z/Music/st/Kinetics-400/RQ1/Sparse_Keyframe/w_IpfgRsBVA.mp4'; last error log: [mov,mp4,m4a,3gp,3g2,mj2] moov atom not found\n",
      "Error processing video w_IpfgRsBVA: [Errno 1094995529] Invalid data found when processing input: '/home/z/Music/st/Kinetics-400/RQ1/Sparse_Keyframe/w_IpfgRsBVA.mp4'; last error log: [mov,mp4,m4a,3gp,3g2,mj2] moov atom not found\n"
     ]
    },
    {
     "name": "stderr",
     "output_type": "stream",
     "text": [
      "Processing videos:  89%|████████▊ | 3546/4000 [09:54<01:22,  5.48it/s]Format mov,mp4,m4a,3gp,3g2,mj2 detected only with low score of 1, misdetection possible!\n",
      "moov atom not found\n",
      "Processing videos:  89%|████████▊ | 3548/4000 [09:55<01:04,  7.05it/s]"
     ]
    },
    {
     "name": "stdout",
     "output_type": "stream",
     "text": [
      "Error processing video /home/z/Music/st/Kinetics-400/RQ1/Sparse_Keyframe/ezCKCmVt1_U.mp4: [Errno 1094995529] Invalid data found when processing input: '/home/z/Music/st/Kinetics-400/RQ1/Sparse_Keyframe/ezCKCmVt1_U.mp4'; last error log: [mov,mp4,m4a,3gp,3g2,mj2] moov atom not found\n",
      "Error processing video ezCKCmVt1_U: [Errno 1094995529] Invalid data found when processing input: '/home/z/Music/st/Kinetics-400/RQ1/Sparse_Keyframe/ezCKCmVt1_U.mp4'; last error log: [mov,mp4,m4a,3gp,3g2,mj2] moov atom not found\n"
     ]
    },
    {
     "name": "stderr",
     "output_type": "stream",
     "text": [
      "Processing videos:  89%|████████▉ | 3564/4000 [09:57<01:12,  6.02it/s]Format mov,mp4,m4a,3gp,3g2,mj2 detected only with low score of 1, misdetection possible!\n",
      "moov atom not found\n",
      "Processing videos:  89%|████████▉ | 3566/4000 [09:57<00:55,  7.82it/s]"
     ]
    },
    {
     "name": "stdout",
     "output_type": "stream",
     "text": [
      "Error processing video /home/z/Music/st/Kinetics-400/RQ1/Sparse_Keyframe/D0kWGRuAg2Q.mp4: [Errno 1094995529] Invalid data found when processing input: '/home/z/Music/st/Kinetics-400/RQ1/Sparse_Keyframe/D0kWGRuAg2Q.mp4'; last error log: [mov,mp4,m4a,3gp,3g2,mj2] moov atom not found\n",
      "Error processing video D0kWGRuAg2Q: [Errno 1094995529] Invalid data found when processing input: '/home/z/Music/st/Kinetics-400/RQ1/Sparse_Keyframe/D0kWGRuAg2Q.mp4'; last error log: [mov,mp4,m4a,3gp,3g2,mj2] moov atom not found\n"
     ]
    },
    {
     "name": "stderr",
     "output_type": "stream",
     "text": [
      "Processing videos:  90%|█████████ | 3617/4000 [10:07<01:03,  6.04it/s]Format mov,mp4,m4a,3gp,3g2,mj2 detected only with low score of 1, misdetection possible!\n",
      "moov atom not found\n",
      "Processing videos:  90%|█████████ | 3619/4000 [10:07<00:48,  7.89it/s]"
     ]
    },
    {
     "name": "stdout",
     "output_type": "stream",
     "text": [
      "Error processing video /home/z/Music/st/Kinetics-400/RQ1/Sparse_Keyframe/5LyrfZP6Jes.mp4: [Errno 1094995529] Invalid data found when processing input: '/home/z/Music/st/Kinetics-400/RQ1/Sparse_Keyframe/5LyrfZP6Jes.mp4'; last error log: [mov,mp4,m4a,3gp,3g2,mj2] moov atom not found\n",
      "Error processing video 5LyrfZP6Jes: [Errno 1094995529] Invalid data found when processing input: '/home/z/Music/st/Kinetics-400/RQ1/Sparse_Keyframe/5LyrfZP6Jes.mp4'; last error log: [mov,mp4,m4a,3gp,3g2,mj2] moov atom not found\n"
     ]
    },
    {
     "name": "stderr",
     "output_type": "stream",
     "text": [
      "Processing videos:  91%|█████████ | 3624/4000 [10:08<01:40,  3.75it/s]Format mov,mp4,m4a,3gp,3g2,mj2 detected only with low score of 1, misdetection possible!\n",
      "moov atom not found\n",
      "Processing videos:  91%|█████████ | 3626/4000 [10:08<01:09,  5.38it/s]"
     ]
    },
    {
     "name": "stdout",
     "output_type": "stream",
     "text": [
      "Error processing video /home/z/Music/st/Kinetics-400/RQ1/Sparse_Keyframe/6eaFZ_l9Cxw.mp4: [Errno 1094995529] Invalid data found when processing input: '/home/z/Music/st/Kinetics-400/RQ1/Sparse_Keyframe/6eaFZ_l9Cxw.mp4'; last error log: [mov,mp4,m4a,3gp,3g2,mj2] moov atom not found\n",
      "Error processing video 6eaFZ_l9Cxw: [Errno 1094995529] Invalid data found when processing input: '/home/z/Music/st/Kinetics-400/RQ1/Sparse_Keyframe/6eaFZ_l9Cxw.mp4'; last error log: [mov,mp4,m4a,3gp,3g2,mj2] moov atom not found\n"
     ]
    },
    {
     "name": "stderr",
     "output_type": "stream",
     "text": [
      "Processing videos:  91%|█████████▏| 3650/4000 [10:12<00:58,  6.00it/s]Format mov,mp4,m4a,3gp,3g2,mj2 detected only with low score of 1, misdetection possible!\n",
      "moov atom not found\n",
      "Processing videos:  91%|█████████▏| 3652/4000 [10:13<00:45,  7.69it/s]"
     ]
    },
    {
     "name": "stdout",
     "output_type": "stream",
     "text": [
      "Error processing video /home/z/Music/st/Kinetics-400/RQ1/Sparse_Keyframe/4t7pnHuH8ck.mp4: [Errno 1094995529] Invalid data found when processing input: '/home/z/Music/st/Kinetics-400/RQ1/Sparse_Keyframe/4t7pnHuH8ck.mp4'; last error log: [mov,mp4,m4a,3gp,3g2,mj2] moov atom not found\n",
      "Error processing video 4t7pnHuH8ck: [Errno 1094995529] Invalid data found when processing input: '/home/z/Music/st/Kinetics-400/RQ1/Sparse_Keyframe/4t7pnHuH8ck.mp4'; last error log: [mov,mp4,m4a,3gp,3g2,mj2] moov atom not found\n"
     ]
    },
    {
     "name": "stderr",
     "output_type": "stream",
     "text": [
      "Processing videos:  93%|█████████▎| 3726/4000 [10:26<00:45,  6.04it/s]Format mov,mp4,m4a,3gp,3g2,mj2 detected only with low score of 1, misdetection possible!\n",
      "moov atom not found\n",
      "Processing videos:  93%|█████████▎| 3728/4000 [10:26<00:34,  7.77it/s]"
     ]
    },
    {
     "name": "stdout",
     "output_type": "stream",
     "text": [
      "Error processing video /home/z/Music/st/Kinetics-400/RQ1/Sparse_Keyframe/2L976Ybl34w.mp4: [Errno 1094995529] Invalid data found when processing input: '/home/z/Music/st/Kinetics-400/RQ1/Sparse_Keyframe/2L976Ybl34w.mp4'; last error log: [mov,mp4,m4a,3gp,3g2,mj2] moov atom not found\n",
      "Error processing video 2L976Ybl34w: [Errno 1094995529] Invalid data found when processing input: '/home/z/Music/st/Kinetics-400/RQ1/Sparse_Keyframe/2L976Ybl34w.mp4'; last error log: [mov,mp4,m4a,3gp,3g2,mj2] moov atom not found\n"
     ]
    },
    {
     "name": "stderr",
     "output_type": "stream",
     "text": [
      "Processing videos:  93%|█████████▎| 3735/4000 [10:27<00:43,  6.07it/s]Format mov,mp4,m4a,3gp,3g2,mj2 detected only with low score of 1, misdetection possible!\n",
      "moov atom not found\n",
      "Processing videos:  93%|█████████▎| 3737/4000 [10:27<00:33,  7.82it/s]"
     ]
    },
    {
     "name": "stdout",
     "output_type": "stream",
     "text": [
      "Error processing video /home/z/Music/st/Kinetics-400/RQ1/Sparse_Keyframe/y0ngj4vhEkw.mp4: [Errno 1094995529] Invalid data found when processing input: '/home/z/Music/st/Kinetics-400/RQ1/Sparse_Keyframe/y0ngj4vhEkw.mp4'; last error log: [mov,mp4,m4a,3gp,3g2,mj2] moov atom not found\n",
      "Error processing video y0ngj4vhEkw: [Errno 1094995529] Invalid data found when processing input: '/home/z/Music/st/Kinetics-400/RQ1/Sparse_Keyframe/y0ngj4vhEkw.mp4'; last error log: [mov,mp4,m4a,3gp,3g2,mj2] moov atom not found\n"
     ]
    },
    {
     "name": "stderr",
     "output_type": "stream",
     "text": [
      "Processing videos:  94%|█████████▍| 3752/4000 [10:30<00:43,  5.70it/s]Format mov,mp4,m4a,3gp,3g2,mj2 detected only with low score of 1, misdetection possible!\n",
      "moov atom not found\n",
      "Processing videos:  94%|█████████▍| 3754/4000 [10:30<00:33,  7.24it/s]"
     ]
    },
    {
     "name": "stdout",
     "output_type": "stream",
     "text": [
      "Error processing video /home/z/Music/st/Kinetics-400/RQ1/Sparse_Keyframe/075Sp8SBR98.mp4: [Errno 1094995529] Invalid data found when processing input: '/home/z/Music/st/Kinetics-400/RQ1/Sparse_Keyframe/075Sp8SBR98.mp4'; last error log: [mov,mp4,m4a,3gp,3g2,mj2] moov atom not found\n",
      "Error processing video 075Sp8SBR98: [Errno 1094995529] Invalid data found when processing input: '/home/z/Music/st/Kinetics-400/RQ1/Sparse_Keyframe/075Sp8SBR98.mp4'; last error log: [mov,mp4,m4a,3gp,3g2,mj2] moov atom not found\n"
     ]
    },
    {
     "name": "stderr",
     "output_type": "stream",
     "text": [
      "Processing videos:  94%|█████████▍| 3768/4000 [10:33<00:38,  6.07it/s]Format mov,mp4,m4a,3gp,3g2,mj2 detected only with low score of 1, misdetection possible!\n",
      "moov atom not found\n",
      "Processing videos:  94%|█████████▍| 3770/4000 [10:33<00:29,  7.85it/s]"
     ]
    },
    {
     "name": "stdout",
     "output_type": "stream",
     "text": [
      "Error processing video /home/z/Music/st/Kinetics-400/RQ1/Sparse_Keyframe/03KH2wOyiVw.mp4: [Errno 1094995529] Invalid data found when processing input: '/home/z/Music/st/Kinetics-400/RQ1/Sparse_Keyframe/03KH2wOyiVw.mp4'; last error log: [mov,mp4,m4a,3gp,3g2,mj2] moov atom not found\n",
      "Error processing video 03KH2wOyiVw: [Errno 1094995529] Invalid data found when processing input: '/home/z/Music/st/Kinetics-400/RQ1/Sparse_Keyframe/03KH2wOyiVw.mp4'; last error log: [mov,mp4,m4a,3gp,3g2,mj2] moov atom not found\n"
     ]
    },
    {
     "name": "stderr",
     "output_type": "stream",
     "text": [
      "Processing videos:  95%|█████████▍| 3790/4000 [10:36<00:34,  6.05it/s]Format mov,mp4,m4a,3gp,3g2,mj2 detected only with low score of 1, misdetection possible!\n",
      "moov atom not found\n",
      "Processing videos:  95%|█████████▍| 3792/4000 [10:36<00:26,  7.79it/s]"
     ]
    },
    {
     "name": "stdout",
     "output_type": "stream",
     "text": [
      "Error processing video /home/z/Music/st/Kinetics-400/RQ1/Sparse_Keyframe/-Ptrh9RtQRs.mp4: [Errno 1094995529] Invalid data found when processing input: '/home/z/Music/st/Kinetics-400/RQ1/Sparse_Keyframe/-Ptrh9RtQRs.mp4'; last error log: [mov,mp4,m4a,3gp,3g2,mj2] moov atom not found\n",
      "Error processing video -Ptrh9RtQRs: [Errno 1094995529] Invalid data found when processing input: '/home/z/Music/st/Kinetics-400/RQ1/Sparse_Keyframe/-Ptrh9RtQRs.mp4'; last error log: [mov,mp4,m4a,3gp,3g2,mj2] moov atom not found\n"
     ]
    },
    {
     "name": "stderr",
     "output_type": "stream",
     "text": [
      "Processing videos:  96%|█████████▋| 3858/4000 [10:47<00:23,  5.94it/s]Format mov,mp4,m4a,3gp,3g2,mj2 detected only with low score of 1, misdetection possible!\n",
      "moov atom not found\n",
      "Processing videos:  96%|█████████▋| 3860/4000 [10:48<00:18,  7.70it/s]"
     ]
    },
    {
     "name": "stdout",
     "output_type": "stream",
     "text": [
      "Error processing video /home/z/Music/st/Kinetics-400/RQ1/Sparse_Keyframe/XC3xLYqCmeY.mp4: [Errno 1094995529] Invalid data found when processing input: '/home/z/Music/st/Kinetics-400/RQ1/Sparse_Keyframe/XC3xLYqCmeY.mp4'; last error log: [mov,mp4,m4a,3gp,3g2,mj2] moov atom not found\n",
      "Error processing video XC3xLYqCmeY: [Errno 1094995529] Invalid data found when processing input: '/home/z/Music/st/Kinetics-400/RQ1/Sparse_Keyframe/XC3xLYqCmeY.mp4'; last error log: [mov,mp4,m4a,3gp,3g2,mj2] moov atom not found\n"
     ]
    },
    {
     "name": "stderr",
     "output_type": "stream",
     "text": [
      "Processing videos:  98%|█████████▊| 3938/4000 [11:01<00:10,  6.05it/s]Format mov,mp4,m4a,3gp,3g2,mj2 detected only with low score of 1, misdetection possible!\n",
      "moov atom not found\n",
      "Processing videos:  98%|█████████▊| 3940/4000 [11:01<00:07,  7.66it/s]"
     ]
    },
    {
     "name": "stdout",
     "output_type": "stream",
     "text": [
      "Error processing video /home/z/Music/st/Kinetics-400/RQ1/Sparse_Keyframe/oNEHCEWJfJE.mp4: [Errno 1094995529] Invalid data found when processing input: '/home/z/Music/st/Kinetics-400/RQ1/Sparse_Keyframe/oNEHCEWJfJE.mp4'; last error log: [mov,mp4,m4a,3gp,3g2,mj2] moov atom not found\n",
      "Error processing video oNEHCEWJfJE: [Errno 1094995529] Invalid data found when processing input: '/home/z/Music/st/Kinetics-400/RQ1/Sparse_Keyframe/oNEHCEWJfJE.mp4'; last error log: [mov,mp4,m4a,3gp,3g2,mj2] moov atom not found\n"
     ]
    },
    {
     "name": "stderr",
     "output_type": "stream",
     "text": [
      "Processing videos:  99%|█████████▊| 3946/4000 [11:02<00:08,  6.42it/s]Format mov,mp4,m4a,3gp,3g2,mj2 detected only with low score of 1, misdetection possible!\n",
      "moov atom not found\n",
      "Processing videos:  99%|█████████▊| 3948/4000 [11:02<00:06,  8.14it/s]"
     ]
    },
    {
     "name": "stdout",
     "output_type": "stream",
     "text": [
      "Error processing video /home/z/Music/st/Kinetics-400/RQ1/Sparse_Keyframe/5BRQYmi-n3Q.mp4: [Errno 1094995529] Invalid data found when processing input: '/home/z/Music/st/Kinetics-400/RQ1/Sparse_Keyframe/5BRQYmi-n3Q.mp4'; last error log: [mov,mp4,m4a,3gp,3g2,mj2] moov atom not found\n",
      "Error processing video 5BRQYmi-n3Q: [Errno 1094995529] Invalid data found when processing input: '/home/z/Music/st/Kinetics-400/RQ1/Sparse_Keyframe/5BRQYmi-n3Q.mp4'; last error log: [mov,mp4,m4a,3gp,3g2,mj2] moov atom not found\n"
     ]
    },
    {
     "name": "stderr",
     "output_type": "stream",
     "text": [
      "Processing videos:  99%|█████████▉| 3957/4000 [11:04<00:06,  6.15it/s]Format mov,mp4,m4a,3gp,3g2,mj2 detected only with low score of 1, misdetection possible!\n",
      "moov atom not found\n",
      "Processing videos:  99%|█████████▉| 3959/4000 [11:04<00:05,  8.09it/s]"
     ]
    },
    {
     "name": "stdout",
     "output_type": "stream",
     "text": [
      "Error processing video /home/z/Music/st/Kinetics-400/RQ1/Sparse_Keyframe/lmIcdrq6u-E.mp4: [Errno 1094995529] Invalid data found when processing input: '/home/z/Music/st/Kinetics-400/RQ1/Sparse_Keyframe/lmIcdrq6u-E.mp4'; last error log: [mov,mp4,m4a,3gp,3g2,mj2] moov atom not found\n",
      "Error processing video lmIcdrq6u-E: [Errno 1094995529] Invalid data found when processing input: '/home/z/Music/st/Kinetics-400/RQ1/Sparse_Keyframe/lmIcdrq6u-E.mp4'; last error log: [mov,mp4,m4a,3gp,3g2,mj2] moov atom not found\n"
     ]
    },
    {
     "name": "stderr",
     "output_type": "stream",
     "text": [
      "Processing videos:  99%|█████████▉| 3961/4000 [11:04<00:05,  6.89it/s]Format mov,mp4,m4a,3gp,3g2,mj2 detected only with low score of 1, misdetection possible!\n",
      "moov atom not found\n",
      "Processing videos:  99%|█████████▉| 3963/4000 [11:04<00:04,  8.31it/s]"
     ]
    },
    {
     "name": "stdout",
     "output_type": "stream",
     "text": [
      "Error processing video /home/z/Music/st/Kinetics-400/RQ1/Sparse_Keyframe/uSb8iCL2LD8.mp4: [Errno 1094995529] Invalid data found when processing input: '/home/z/Music/st/Kinetics-400/RQ1/Sparse_Keyframe/uSb8iCL2LD8.mp4'; last error log: [mov,mp4,m4a,3gp,3g2,mj2] moov atom not found\n",
      "Error processing video uSb8iCL2LD8: [Errno 1094995529] Invalid data found when processing input: '/home/z/Music/st/Kinetics-400/RQ1/Sparse_Keyframe/uSb8iCL2LD8.mp4'; last error log: [mov,mp4,m4a,3gp,3g2,mj2] moov atom not found\n"
     ]
    },
    {
     "name": "stderr",
     "output_type": "stream",
     "text": [
      "Processing videos:  99%|█████████▉| 3978/4000 [11:07<00:03,  5.54it/s]Format mov,mp4,m4a,3gp,3g2,mj2 detected only with low score of 1, misdetection possible!\n",
      "moov atom not found\n",
      "Processing videos: 100%|█████████▉| 3980/4000 [11:07<00:02,  7.16it/s]"
     ]
    },
    {
     "name": "stdout",
     "output_type": "stream",
     "text": [
      "Error processing video /home/z/Music/st/Kinetics-400/RQ1/Sparse_Keyframe/xOOs_lJ-E2w.mp4: [Errno 1094995529] Invalid data found when processing input: '/home/z/Music/st/Kinetics-400/RQ1/Sparse_Keyframe/xOOs_lJ-E2w.mp4'; last error log: [mov,mp4,m4a,3gp,3g2,mj2] moov atom not found\n",
      "Error processing video xOOs_lJ-E2w: [Errno 1094995529] Invalid data found when processing input: '/home/z/Music/st/Kinetics-400/RQ1/Sparse_Keyframe/xOOs_lJ-E2w.mp4'; last error log: [mov,mp4,m4a,3gp,3g2,mj2] moov atom not found\n"
     ]
    },
    {
     "name": "stderr",
     "output_type": "stream",
     "text": [
      "Processing videos: 100%|█████████▉| 3996/4000 [11:10<00:00,  6.11it/s]Format mov,mp4,m4a,3gp,3g2,mj2 detected only with low score of 1, misdetection possible!\n",
      "moov atom not found\n",
      "Processing videos: 100%|█████████▉| 3998/4000 [11:10<00:00,  7.89it/s]"
     ]
    },
    {
     "name": "stdout",
     "output_type": "stream",
     "text": [
      "Error processing video /home/z/Music/st/Kinetics-400/RQ1/Sparse_Keyframe/FJ6bs7-IKz0.mp4: [Errno 1094995529] Invalid data found when processing input: '/home/z/Music/st/Kinetics-400/RQ1/Sparse_Keyframe/FJ6bs7-IKz0.mp4'; last error log: [mov,mp4,m4a,3gp,3g2,mj2] moov atom not found\n",
      "Error processing video FJ6bs7-IKz0: [Errno 1094995529] Invalid data found when processing input: '/home/z/Music/st/Kinetics-400/RQ1/Sparse_Keyframe/FJ6bs7-IKz0.mp4'; last error log: [mov,mp4,m4a,3gp,3g2,mj2] moov atom not found\n"
     ]
    },
    {
     "name": "stderr",
     "output_type": "stream",
     "text": [
      "Processing videos: 100%|██████████| 4000/4000 [11:11<00:00,  5.96it/s]\n",
      "/home/z/miniconda3/envs/mmxai/lib/python3.12/site-packages/sklearn/metrics/_classification.py:1509: UndefinedMetricWarning: Precision is ill-defined and being set to 0.0 in labels with no predicted samples. Use `zero_division` parameter to control this behavior.\n",
      "  _warn_prf(average, modifier, f\"{metric.capitalize()} is\", len(result))\n"
     ]
    },
    {
     "name": "stdout",
     "output_type": "stream",
     "text": [
      "\n",
      "Processing completed with 157 errors\n",
      "\n",
      "Performance Metrics:\n",
      "Total samples processed: 3843\n",
      "Accuracy: 0.5308\n",
      "Precision: 0.6058\n",
      "Recall: 0.5308\n",
      "F1 Score: 0.5320\n",
      "Average Confidence: 0.6778\n",
      "\n",
      "Results saved to: /home/z/Music/st/Kinetics-400/RQ4/evaluationSparse\n"
     ]
    }
   ],
   "source": [
    "import torch\n",
    "import av\n",
    "import numpy as np\n",
    "from tqdm import tqdm\n",
    "import os\n",
    "import json\n",
    "from datetime import datetime\n",
    "import pathlib\n",
    "from transformers import TimesformerForVideoClassification, AutoImageProcessor\n",
    "from sklearn.metrics import precision_recall_fscore_support, accuracy_score, confusion_matrix\n",
    "import glob\n",
    "import seaborn as sns\n",
    "import matplotlib.pyplot as plt\n",
    "\n",
    "def load_video_frames(video_path, num_frames=8):\n",
    "    \"\"\"\n",
    "    从单个视频文件中读取帧\n",
    "    \"\"\"\n",
    "    frames = []\n",
    "    try:\n",
    "        container = av.open(video_path)\n",
    "        for frame in container.decode(video=0):\n",
    "            frames.append(frame.to_rgb().to_ndarray())\n",
    "            if len(frames) >= num_frames:\n",
    "                return np.stack(frames[:num_frames])\n",
    "    except Exception as e:\n",
    "        print(f\"Error processing video {video_path}: {str(e)}\")\n",
    "        raise\n",
    "    \n",
    "    if len(frames) == 0:\n",
    "        raise ValueError(\"No frames could be extracted\")\n",
    "    \n",
    "    # 如果帧数不足，重复最后一帧\n",
    "    while len(frames) < num_frames:\n",
    "        frames.append(frames[-1])\n",
    "    \n",
    "    return np.stack(frames[:num_frames])\n",
    "\n",
    "def load_labels(label_file):\n",
    "    \"\"\"\n",
    "    加载标签文件\n",
    "    \"\"\"\n",
    "    labels = {}\n",
    "    with open(label_file, 'r') as f:\n",
    "        for line in f:\n",
    "            video_name, label = line.strip().split()\n",
    "            labels[video_name.split('.')[0]] = int(label)\n",
    "    return labels\n",
    "\n",
    "def plot_confusion_matrix(true_labels, predictions, save_path):\n",
    "    \"\"\"\n",
    "    绘制并保存混淆矩阵\n",
    "    \"\"\"\n",
    "    cm = confusion_matrix(true_labels, predictions)\n",
    "    plt.figure(figsize=(10, 8))\n",
    "    sns.heatmap(cm, annot=True, fmt='d', cmap='Blues')\n",
    "    plt.title('Confusion Matrix')\n",
    "    plt.ylabel('True Label')\n",
    "    plt.xlabel('Predicted Label')\n",
    "    plt.savefig(save_path)\n",
    "    plt.close()\n",
    "\n",
    "def evaluate_videos(config):\n",
    "    # 设置设备\n",
    "    device = torch.device('cuda' if torch.cuda.is_available() else 'cpu')\n",
    "    print(f\"Using device: {device}\")\n",
    "\n",
    "    # 初始化模型\n",
    "    print(\"Loading model...\")\n",
    "    model = TimesformerForVideoClassification.from_pretrained(config['model_name']).to(device)\n",
    "    processor = AutoImageProcessor.from_pretrained(config['model_name'])\n",
    "    model.eval()  # 设置为评估模式\n",
    "    \n",
    "    # 加载标签\n",
    "    print(\"Loading labels...\")\n",
    "    video_labels = load_labels(config['label_file'])\n",
    "    \n",
    "    # 准备结果存储\n",
    "    detailed_results = {\n",
    "        'predictions': [],\n",
    "        'true_labels': [],\n",
    "        'video_names': [],\n",
    "        'confidence_scores': [],\n",
    "        'model_name': config['model_name'],\n",
    "        'timestamp': datetime.now().strftime(\"%Y%m%d_%H%M%S\"),\n",
    "        'config': config\n",
    "    }\n",
    "    \n",
    "    # 获取所有视频文件\n",
    "    video_files = glob.glob(os.path.join(config['video_dir'], '*.mp4'))\n",
    "    print(f\"Found {len(video_files)} video files\")\n",
    "    \n",
    "    if config.get('sample_size'):\n",
    "        if len(video_files) > config['sample_size']:\n",
    "            np.random.seed(config.get('random_seed', 42))\n",
    "            video_files = np.random.choice(video_files, config['sample_size'], replace=False)\n",
    "            print(f\"Sampled {config['sample_size']} videos for evaluation\")\n",
    "    \n",
    "    # 处理每个视频\n",
    "    error_count = 0\n",
    "    for video_path in tqdm(video_files, desc=\"Processing videos\"):\n",
    "        video_name = os.path.splitext(os.path.basename(video_path))[0]\n",
    "        \n",
    "        # 跳过没有标签的视频\n",
    "        if video_name not in video_labels:\n",
    "            continue\n",
    "            \n",
    "        true_label = video_labels[video_name]\n",
    "        \n",
    "        try:\n",
    "            # 读取视频帧并进行预测\n",
    "            frames = load_video_frames(video_path)\n",
    "            inputs = processor(list(frames), return_tensors=\"pt\").to(device)\n",
    "            \n",
    "            with torch.no_grad():\n",
    "                outputs = model(**inputs)\n",
    "                logits = outputs.logits\n",
    "                probabilities = torch.nn.functional.softmax(logits, dim=-1)\n",
    "                pred_label = logits.argmax(-1).cpu().numpy()[0]\n",
    "                confidence = float(probabilities.max().cpu().numpy())\n",
    "            \n",
    "            # 存储结果\n",
    "            detailed_results['predictions'].append(int(pred_label))\n",
    "            detailed_results['true_labels'].append(int(true_label))\n",
    "            detailed_results['video_names'].append(video_name)\n",
    "            detailed_results['confidence_scores'].append(confidence)\n",
    "            \n",
    "        except Exception as e:\n",
    "            print(f\"Error processing video {video_name}: {str(e)}\")\n",
    "            error_count += 1\n",
    "            continue\n",
    "    \n",
    "    print(f\"\\nProcessing completed with {error_count} errors\")\n",
    "    \n",
    "    # 计算评价指标\n",
    "    precision, recall, f1, _ = precision_recall_fscore_support(\n",
    "        detailed_results['true_labels'], \n",
    "        detailed_results['predictions'], \n",
    "        average='weighted'\n",
    "    )\n",
    "    accuracy = accuracy_score(\n",
    "        detailed_results['true_labels'], \n",
    "        detailed_results['predictions']\n",
    "    )\n",
    "    \n",
    "    # 添加汇总指标\n",
    "    detailed_results['summary'] = {\n",
    "        'accuracy': float(accuracy),\n",
    "        'precision': float(precision),\n",
    "        'recall': float(recall),\n",
    "        'f1': float(f1),\n",
    "        'total_samples': len(detailed_results['predictions']),\n",
    "        'error_count': error_count,\n",
    "        'average_confidence': float(np.mean(detailed_results['confidence_scores']))\n",
    "    }\n",
    "    \n",
    "    # 打印结果\n",
    "    print(\"\\nPerformance Metrics:\")\n",
    "    print(f\"Total samples processed: {detailed_results['summary']['total_samples']}\")\n",
    "    print(f\"Accuracy: {accuracy:.4f}\")\n",
    "    print(f\"Precision: {precision:.4f}\")\n",
    "    print(f\"Recall: {recall:.4f}\")\n",
    "    print(f\"F1 Score: {f1:.4f}\")\n",
    "    print(f\"Average Confidence: {detailed_results['summary']['average_confidence']:.4f}\")\n",
    "    \n",
    "    # 保存结果\n",
    "    save_dir = pathlib.Path(config['results_directory'])\n",
    "    save_dir.mkdir(parents=True, exist_ok=True)\n",
    "    \n",
    "    timestamp = detailed_results['timestamp']\n",
    "    base_name = f\"{config['experiment_name']}_{timestamp}\"\n",
    "    \n",
    "    # 保存详细结果\n",
    "    result_file = save_dir / f\"{base_name}.json\"\n",
    "    with open(result_file, 'w') as f:\n",
    "        json.dump(detailed_results, f, indent=4)\n",
    "    \n",
    "    # 保存混淆矩阵\n",
    "    cm_file = save_dir / f\"{base_name}_confusion_matrix.png\"\n",
    "    plot_confusion_matrix(\n",
    "        detailed_results['true_labels'],\n",
    "        detailed_results['predictions'],\n",
    "        cm_file\n",
    "    )\n",
    "    \n",
    "    print(f\"\\nResults saved to: {save_dir}\")\n",
    "    \n",
    "    return detailed_results\n",
    "\n",
    "if __name__ == \"__main__\":\n",
    "    config = {\n",
    "        'model_name': 'facebook/timesformer-base-finetuned-k400',\n",
    "        'video_dir': '/home/z/Music/st/Kinetics-400/RQ1/Sparse_Keyframe',  # 视频文件目录\n",
    "        'label_file': '/home/z/Music/st/Kinetics-400/RQ1/kinetics400_val_list_videos.txt',  # 标签文件路径\n",
    "        'sample_size': 4000,  # 设置为None处理所有视频，或设置具体数字进行采样\n",
    "        'random_seed': 42,\n",
    "        'results_directory': '/home/z/Music/st/Kinetics-400/RQ4/evaluationSparse',  # 结果保存目录\n",
    "        'experiment_name': 'timesformer_evaluation2'  # 实验名称\n",
    "    }\n",
    "    \n",
    "    results = evaluate_videos(config)"
   ]
  },
  {
   "cell_type": "markdown",
   "metadata": {},
   "source": [
    "r3d"
   ]
  },
  {
   "cell_type": "code",
   "execution_count": 3,
   "metadata": {},
   "outputs": [
    {
     "name": "stdout",
     "output_type": "stream",
     "text": [
      "Using device: cuda\n",
      "Loading model...\n"
     ]
    },
    {
     "name": "stderr",
     "output_type": "stream",
     "text": [
      "/home/z/miniconda3/envs/mmxai/lib/python3.12/site-packages/huggingface_hub/file_download.py:1132: FutureWarning: `resume_download` is deprecated and will be removed in version 1.0.0. Downloads always resume when possible. If you want to force a new download, use `force_download=True`.\n",
      "  warnings.warn(\n"
     ]
    },
    {
     "name": "stdout",
     "output_type": "stream",
     "text": [
      "Loading labels...\n",
      "Found 10266 video files\n",
      "Sampled 4000 videos for evaluation\n"
     ]
    },
    {
     "name": "stderr",
     "output_type": "stream",
     "text": [
      "Processing videos:   0%|          | 3/4000 [00:00<12:05,  5.51it/s]Format mov,mp4,m4a,3gp,3g2,mj2 detected only with low score of 1, misdetection possible!\n",
      "moov atom not found\n",
      "Processing videos:   0%|          | 5/4000 [00:00<08:11,  8.13it/s]"
     ]
    },
    {
     "name": "stdout",
     "output_type": "stream",
     "text": [
      "Error processing video /home/z/Music/st/Kinetics-400/RQ1/VBAD_r3d_18/oi7OzVkguos.mp4: [Errno 1094995529] Invalid data found when processing input: '/home/z/Music/st/Kinetics-400/RQ1/VBAD_r3d_18/oi7OzVkguos.mp4'; last error log: [mov,mp4,m4a,3gp,3g2,mj2] moov atom not found\n",
      "Error processing video oi7OzVkguos: [Errno 1094995529] Invalid data found when processing input: '/home/z/Music/st/Kinetics-400/RQ1/VBAD_r3d_18/oi7OzVkguos.mp4'; last error log: [mov,mp4,m4a,3gp,3g2,mj2] moov atom not found\n"
     ]
    },
    {
     "name": "stderr",
     "output_type": "stream",
     "text": [
      "Processing videos:   2%|▏         | 61/4000 [00:09<10:59,  5.97it/s]Format mov,mp4,m4a,3gp,3g2,mj2 detected only with low score of 1, misdetection possible!\n",
      "moov atom not found\n",
      "Processing videos:   2%|▏         | 63/4000 [00:10<08:25,  7.79it/s]"
     ]
    },
    {
     "name": "stdout",
     "output_type": "stream",
     "text": [
      "Error processing video /home/z/Music/st/Kinetics-400/RQ1/VBAD_r3d_18/6FC0IVAWQc4.mp4: [Errno 1094995529] Invalid data found when processing input: '/home/z/Music/st/Kinetics-400/RQ1/VBAD_r3d_18/6FC0IVAWQc4.mp4'; last error log: [mov,mp4,m4a,3gp,3g2,mj2] moov atom not found\n",
      "Error processing video 6FC0IVAWQc4: [Errno 1094995529] Invalid data found when processing input: '/home/z/Music/st/Kinetics-400/RQ1/VBAD_r3d_18/6FC0IVAWQc4.mp4'; last error log: [mov,mp4,m4a,3gp,3g2,mj2] moov atom not found\n"
     ]
    },
    {
     "name": "stderr",
     "output_type": "stream",
     "text": [
      "Processing videos:   3%|▎         | 107/4000 [00:17<10:32,  6.16it/s]Format mov,mp4,m4a,3gp,3g2,mj2 detected only with low score of 1, misdetection possible!\n",
      "moov atom not found\n",
      "Processing videos:   3%|▎         | 109/4000 [00:17<08:07,  7.98it/s]"
     ]
    },
    {
     "name": "stdout",
     "output_type": "stream",
     "text": [
      "Error processing video /home/z/Music/st/Kinetics-400/RQ1/VBAD_r3d_18/E9k5I-EJd74.mp4: [Errno 1094995529] Invalid data found when processing input: '/home/z/Music/st/Kinetics-400/RQ1/VBAD_r3d_18/E9k5I-EJd74.mp4'; last error log: [mov,mp4,m4a,3gp,3g2,mj2] moov atom not found\n",
      "Error processing video E9k5I-EJd74: [Errno 1094995529] Invalid data found when processing input: '/home/z/Music/st/Kinetics-400/RQ1/VBAD_r3d_18/E9k5I-EJd74.mp4'; last error log: [mov,mp4,m4a,3gp,3g2,mj2] moov atom not found\n"
     ]
    },
    {
     "name": "stderr",
     "output_type": "stream",
     "text": [
      "Processing videos:   5%|▍         | 195/4000 [00:31<10:18,  6.15it/s]Format mov,mp4,m4a,3gp,3g2,mj2 detected only with low score of 1, misdetection possible!\n",
      "moov atom not found\n",
      "Processing videos:   5%|▍         | 197/4000 [00:31<07:56,  7.97it/s]"
     ]
    },
    {
     "name": "stdout",
     "output_type": "stream",
     "text": [
      "Error processing video /home/z/Music/st/Kinetics-400/RQ1/VBAD_r3d_18/fYAHTmvuYzM.mp4: [Errno 1094995529] Invalid data found when processing input: '/home/z/Music/st/Kinetics-400/RQ1/VBAD_r3d_18/fYAHTmvuYzM.mp4'; last error log: [mov,mp4,m4a,3gp,3g2,mj2] moov atom not found\n",
      "Error processing video fYAHTmvuYzM: [Errno 1094995529] Invalid data found when processing input: '/home/z/Music/st/Kinetics-400/RQ1/VBAD_r3d_18/fYAHTmvuYzM.mp4'; last error log: [mov,mp4,m4a,3gp,3g2,mj2] moov atom not found\n"
     ]
    },
    {
     "name": "stderr",
     "output_type": "stream",
     "text": [
      "Processing videos:   7%|▋         | 283/4000 [00:46<10:12,  6.07it/s]Format mov,mp4,m4a,3gp,3g2,mj2 detected only with low score of 1, misdetection possible!\n",
      "moov atom not found\n",
      "Processing videos:   7%|▋         | 285/4000 [00:46<07:52,  7.87it/s]"
     ]
    },
    {
     "name": "stdout",
     "output_type": "stream",
     "text": [
      "Error processing video /home/z/Music/st/Kinetics-400/RQ1/VBAD_r3d_18/F-mfSWc6bbA.mp4: [Errno 1094995529] Invalid data found when processing input: '/home/z/Music/st/Kinetics-400/RQ1/VBAD_r3d_18/F-mfSWc6bbA.mp4'; last error log: [mov,mp4,m4a,3gp,3g2,mj2] moov atom not found\n",
      "Error processing video F-mfSWc6bbA: [Errno 1094995529] Invalid data found when processing input: '/home/z/Music/st/Kinetics-400/RQ1/VBAD_r3d_18/F-mfSWc6bbA.mp4'; last error log: [mov,mp4,m4a,3gp,3g2,mj2] moov atom not found\n"
     ]
    },
    {
     "name": "stderr",
     "output_type": "stream",
     "text": [
      "Processing videos:   9%|▉         | 359/4000 [00:58<09:44,  6.23it/s]Format mov,mp4,m4a,3gp,3g2,mj2 detected only with low score of 1, misdetection possible!\n",
      "moov atom not found\n",
      "Processing videos:   9%|▉         | 361/4000 [00:58<07:27,  8.13it/s]"
     ]
    },
    {
     "name": "stdout",
     "output_type": "stream",
     "text": [
      "Error processing video /home/z/Music/st/Kinetics-400/RQ1/VBAD_r3d_18/pyF3r8c16-8.mp4: [Errno 1094995529] Invalid data found when processing input: '/home/z/Music/st/Kinetics-400/RQ1/VBAD_r3d_18/pyF3r8c16-8.mp4'; last error log: [mov,mp4,m4a,3gp,3g2,mj2] moov atom not found\n",
      "Error processing video pyF3r8c16-8: [Errno 1094995529] Invalid data found when processing input: '/home/z/Music/st/Kinetics-400/RQ1/VBAD_r3d_18/pyF3r8c16-8.mp4'; last error log: [mov,mp4,m4a,3gp,3g2,mj2] moov atom not found\n"
     ]
    },
    {
     "name": "stderr",
     "output_type": "stream",
     "text": [
      "Processing videos:   9%|▉         | 362/4000 [00:58<08:04,  7.50it/s]Format mov,mp4,m4a,3gp,3g2,mj2 detected only with low score of 1, misdetection possible!\n",
      "moov atom not found\n",
      "Processing videos:   9%|▉         | 364/4000 [00:58<06:48,  8.89it/s]"
     ]
    },
    {
     "name": "stdout",
     "output_type": "stream",
     "text": [
      "Error processing video /home/z/Music/st/Kinetics-400/RQ1/VBAD_r3d_18/cUtgIV5q2fo.mp4: [Errno 1094995529] Invalid data found when processing input: '/home/z/Music/st/Kinetics-400/RQ1/VBAD_r3d_18/cUtgIV5q2fo.mp4'; last error log: [mov,mp4,m4a,3gp,3g2,mj2] moov atom not found\n",
      "Error processing video cUtgIV5q2fo: [Errno 1094995529] Invalid data found when processing input: '/home/z/Music/st/Kinetics-400/RQ1/VBAD_r3d_18/cUtgIV5q2fo.mp4'; last error log: [mov,mp4,m4a,3gp,3g2,mj2] moov atom not found\n"
     ]
    },
    {
     "name": "stderr",
     "output_type": "stream",
     "text": [
      "Processing videos:   9%|▉         | 378/4000 [01:01<09:50,  6.14it/s]Format mov,mp4,m4a,3gp,3g2,mj2 detected only with low score of 1, misdetection possible!\n",
      "moov atom not found\n",
      "Processing videos:  10%|▉         | 380/4000 [01:01<07:35,  7.94it/s]"
     ]
    },
    {
     "name": "stdout",
     "output_type": "stream",
     "text": [
      "Error processing video /home/z/Music/st/Kinetics-400/RQ1/VBAD_r3d_18/Ca72cqKSEdQ.mp4: [Errno 1094995529] Invalid data found when processing input: '/home/z/Music/st/Kinetics-400/RQ1/VBAD_r3d_18/Ca72cqKSEdQ.mp4'; last error log: [mov,mp4,m4a,3gp,3g2,mj2] moov atom not found\n",
      "Error processing video Ca72cqKSEdQ: [Errno 1094995529] Invalid data found when processing input: '/home/z/Music/st/Kinetics-400/RQ1/VBAD_r3d_18/Ca72cqKSEdQ.mp4'; last error log: [mov,mp4,m4a,3gp,3g2,mj2] moov atom not found\n"
     ]
    },
    {
     "name": "stderr",
     "output_type": "stream",
     "text": [
      "Processing videos:  11%|█         | 422/4000 [01:09<10:18,  5.78it/s]Format mov,mp4,m4a,3gp,3g2,mj2 detected only with low score of 1, misdetection possible!\n",
      "moov atom not found\n",
      "moov atom not found\n",
      "Processing videos:  11%|█         | 425/4000 [01:09<06:21,  9.38it/s]"
     ]
    },
    {
     "name": "stdout",
     "output_type": "stream",
     "text": [
      "Error processing video /home/z/Music/st/Kinetics-400/RQ1/VBAD_r3d_18/-fJ4Fq583ec.mp4: [Errno 1094995529] Invalid data found when processing input: '/home/z/Music/st/Kinetics-400/RQ1/VBAD_r3d_18/-fJ4Fq583ec.mp4'; last error log: [mov,mp4,m4a,3gp,3g2,mj2] moov atom not found\n",
      "Error processing video -fJ4Fq583ec: [Errno 1094995529] Invalid data found when processing input: '/home/z/Music/st/Kinetics-400/RQ1/VBAD_r3d_18/-fJ4Fq583ec.mp4'; last error log: [mov,mp4,m4a,3gp,3g2,mj2] moov atom not found\n",
      "Error processing video /home/z/Music/st/Kinetics-400/RQ1/VBAD_r3d_18/4vmGZcSGa7k.mp4: [Errno 1094995529] Invalid data found when processing input: '/home/z/Music/st/Kinetics-400/RQ1/VBAD_r3d_18/4vmGZcSGa7k.mp4'; last error log: [mov,mp4,m4a,3gp,3g2,mj2] moov atom not found\n",
      "Error processing video 4vmGZcSGa7k: [Errno 1094995529] Invalid data found when processing input: '/home/z/Music/st/Kinetics-400/RQ1/VBAD_r3d_18/4vmGZcSGa7k.mp4'; last error log: [mov,mp4,m4a,3gp,3g2,mj2] moov atom not found\n"
     ]
    },
    {
     "name": "stderr",
     "output_type": "stream",
     "text": [
      "Processing videos:  13%|█▎        | 513/4000 [01:23<09:58,  5.82it/s]Format mov,mp4,m4a,3gp,3g2,mj2 detected only with low score of 1, misdetection possible!\n",
      "moov atom not found\n"
     ]
    },
    {
     "name": "stdout",
     "output_type": "stream",
     "text": [
      "Error processing video /home/z/Music/st/Kinetics-400/RQ1/VBAD_r3d_18/RFB4u8Ncbdo.mp4: [Errno 1094995529] Invalid data found when processing input: '/home/z/Music/st/Kinetics-400/RQ1/VBAD_r3d_18/RFB4u8Ncbdo.mp4'; last error log: [mov,mp4,m4a,3gp,3g2,mj2] moov atom not found\n",
      "Error processing video RFB4u8Ncbdo: [Errno 1094995529] Invalid data found when processing input: '/home/z/Music/st/Kinetics-400/RQ1/VBAD_r3d_18/RFB4u8Ncbdo.mp4'; last error log: [mov,mp4,m4a,3gp,3g2,mj2] moov atom not found\n"
     ]
    },
    {
     "name": "stderr",
     "output_type": "stream",
     "text": [
      "Processing videos:  14%|█▍        | 576/4000 [01:35<09:16,  6.16it/s]Format mov,mp4,m4a,3gp,3g2,mj2 detected only with low score of 1, misdetection possible!\n",
      "moov atom not found\n",
      "Processing videos:  14%|█▍        | 578/4000 [01:35<07:08,  7.98it/s]Format mov,mp4,m4a,3gp,3g2,mj2 detected only with low score of 1, misdetection possible!\n",
      "moov atom not found\n",
      "Format mov,mp4,m4a,3gp,3g2,mj2 detected only with low score of 1, misdetection possible!\n",
      "moov atom not found\n"
     ]
    },
    {
     "name": "stdout",
     "output_type": "stream",
     "text": [
      "Error processing video /home/z/Music/st/Kinetics-400/RQ1/VBAD_r3d_18/wXXiG-5cTX0.mp4: [Errno 1094995529] Invalid data found when processing input: '/home/z/Music/st/Kinetics-400/RQ1/VBAD_r3d_18/wXXiG-5cTX0.mp4'; last error log: [mov,mp4,m4a,3gp,3g2,mj2] moov atom not found\n",
      "Error processing video wXXiG-5cTX0: [Errno 1094995529] Invalid data found when processing input: '/home/z/Music/st/Kinetics-400/RQ1/VBAD_r3d_18/wXXiG-5cTX0.mp4'; last error log: [mov,mp4,m4a,3gp,3g2,mj2] moov atom not found\n",
      "Error processing video /home/z/Music/st/Kinetics-400/RQ1/VBAD_r3d_18/Q3LVV5tV5YY.mp4: [Errno 1094995529] Invalid data found when processing input: '/home/z/Music/st/Kinetics-400/RQ1/VBAD_r3d_18/Q3LVV5tV5YY.mp4'; last error log: [mov,mp4,m4a,3gp,3g2,mj2] moov atom not found\n",
      "Error processing video Q3LVV5tV5YY: [Errno 1094995529] Invalid data found when processing input: '/home/z/Music/st/Kinetics-400/RQ1/VBAD_r3d_18/Q3LVV5tV5YY.mp4'; last error log: [mov,mp4,m4a,3gp,3g2,mj2] moov atom not found\n",
      "Error processing video /home/z/Music/st/Kinetics-400/RQ1/VBAD_r3d_18/6SmQ1f4XGE4.mp4: [Errno 1094995529] Invalid data found when processing input: '/home/z/Music/st/Kinetics-400/RQ1/VBAD_r3d_18/6SmQ1f4XGE4.mp4'; last error log: [mov,mp4,m4a,3gp,3g2,mj2] moov atom not found\n",
      "Error processing video 6SmQ1f4XGE4: [Errno 1094995529] Invalid data found when processing input: '/home/z/Music/st/Kinetics-400/RQ1/VBAD_r3d_18/6SmQ1f4XGE4.mp4'; last error log: [mov,mp4,m4a,3gp,3g2,mj2] moov atom not found\n"
     ]
    },
    {
     "name": "stderr",
     "output_type": "stream",
     "text": [
      "Processing videos:  17%|█▋        | 683/4000 [01:53<09:01,  6.13it/s]Format mov,mp4,m4a,3gp,3g2,mj2 detected only with low score of 1, misdetection possible!\n",
      "moov atom not found\n",
      "Processing videos:  17%|█▋        | 685/4000 [01:54<06:59,  7.90it/s]"
     ]
    },
    {
     "name": "stdout",
     "output_type": "stream",
     "text": [
      "Error processing video /home/z/Music/st/Kinetics-400/RQ1/VBAD_r3d_18/kQYMssWn2xw.mp4: [Errno 1094995529] Invalid data found when processing input: '/home/z/Music/st/Kinetics-400/RQ1/VBAD_r3d_18/kQYMssWn2xw.mp4'; last error log: [mov,mp4,m4a,3gp,3g2,mj2] moov atom not found\n",
      "Error processing video kQYMssWn2xw: [Errno 1094995529] Invalid data found when processing input: '/home/z/Music/st/Kinetics-400/RQ1/VBAD_r3d_18/kQYMssWn2xw.mp4'; last error log: [mov,mp4,m4a,3gp,3g2,mj2] moov atom not found\n"
     ]
    },
    {
     "name": "stderr",
     "output_type": "stream",
     "text": [
      "Processing videos:  19%|█▉        | 763/4000 [02:07<09:13,  5.85it/s]Format mov,mp4,m4a,3gp,3g2,mj2 detected only with low score of 1, misdetection possible!\n",
      "moov atom not found\n",
      "Processing videos:  19%|█▉        | 765/4000 [02:07<07:17,  7.40it/s]"
     ]
    },
    {
     "name": "stdout",
     "output_type": "stream",
     "text": [
      "Error processing video /home/z/Music/st/Kinetics-400/RQ1/VBAD_r3d_18/bxlosLXLeR4.mp4: [Errno 1094995529] Invalid data found when processing input: '/home/z/Music/st/Kinetics-400/RQ1/VBAD_r3d_18/bxlosLXLeR4.mp4'; last error log: [mov,mp4,m4a,3gp,3g2,mj2] moov atom not found\n",
      "Error processing video bxlosLXLeR4: [Errno 1094995529] Invalid data found when processing input: '/home/z/Music/st/Kinetics-400/RQ1/VBAD_r3d_18/bxlosLXLeR4.mp4'; last error log: [mov,mp4,m4a,3gp,3g2,mj2] moov atom not found\n"
     ]
    },
    {
     "name": "stderr",
     "output_type": "stream",
     "text": [
      "Processing videos:  20%|█▉        | 783/4000 [02:10<08:39,  6.19it/s]Format mov,mp4,m4a,3gp,3g2,mj2 detected only with low score of 1, misdetection possible!\n",
      "moov atom not found\n",
      "Processing videos:  20%|█▉        | 785/4000 [02:10<06:38,  8.06it/s]"
     ]
    },
    {
     "name": "stdout",
     "output_type": "stream",
     "text": [
      "Error processing video /home/z/Music/st/Kinetics-400/RQ1/VBAD_r3d_18/hKcmTwOQKa8.mp4: [Errno 1094995529] Invalid data found when processing input: '/home/z/Music/st/Kinetics-400/RQ1/VBAD_r3d_18/hKcmTwOQKa8.mp4'; last error log: [mov,mp4,m4a,3gp,3g2,mj2] moov atom not found\n",
      "Error processing video hKcmTwOQKa8: [Errno 1094995529] Invalid data found when processing input: '/home/z/Music/st/Kinetics-400/RQ1/VBAD_r3d_18/hKcmTwOQKa8.mp4'; last error log: [mov,mp4,m4a,3gp,3g2,mj2] moov atom not found\n"
     ]
    },
    {
     "name": "stderr",
     "output_type": "stream",
     "text": [
      "Processing videos:  20%|██        | 805/4000 [02:14<08:32,  6.23it/s]Format mov,mp4,m4a,3gp,3g2,mj2 detected only with low score of 1, misdetection possible!\n",
      "moov atom not found\n",
      "Processing videos:  20%|██        | 807/4000 [02:14<06:36,  8.06it/s]"
     ]
    },
    {
     "name": "stdout",
     "output_type": "stream",
     "text": [
      "Error processing video /home/z/Music/st/Kinetics-400/RQ1/VBAD_r3d_18/W_L_UlXohu8.mp4: [Errno 1094995529] Invalid data found when processing input: '/home/z/Music/st/Kinetics-400/RQ1/VBAD_r3d_18/W_L_UlXohu8.mp4'; last error log: [mov,mp4,m4a,3gp,3g2,mj2] moov atom not found\n",
      "Error processing video W_L_UlXohu8: [Errno 1094995529] Invalid data found when processing input: '/home/z/Music/st/Kinetics-400/RQ1/VBAD_r3d_18/W_L_UlXohu8.mp4'; last error log: [mov,mp4,m4a,3gp,3g2,mj2] moov atom not found\n"
     ]
    },
    {
     "name": "stderr",
     "output_type": "stream",
     "text": [
      "Processing videos:  22%|██▏       | 867/4000 [02:24<08:46,  5.95it/s]Format mov,mp4,m4a,3gp,3g2,mj2 detected only with low score of 1, misdetection possible!\n",
      "moov atom not found\n",
      "Processing videos:  22%|██▏       | 869/4000 [02:24<06:40,  7.81it/s]"
     ]
    },
    {
     "name": "stdout",
     "output_type": "stream",
     "text": [
      "Error processing video /home/z/Music/st/Kinetics-400/RQ1/VBAD_r3d_18/UPO6QT9-q9Q.mp4: [Errno 1094995529] Invalid data found when processing input: '/home/z/Music/st/Kinetics-400/RQ1/VBAD_r3d_18/UPO6QT9-q9Q.mp4'; last error log: [mov,mp4,m4a,3gp,3g2,mj2] moov atom not found\n",
      "Error processing video UPO6QT9-q9Q: [Errno 1094995529] Invalid data found when processing input: '/home/z/Music/st/Kinetics-400/RQ1/VBAD_r3d_18/UPO6QT9-q9Q.mp4'; last error log: [mov,mp4,m4a,3gp,3g2,mj2] moov atom not found\n"
     ]
    },
    {
     "name": "stderr",
     "output_type": "stream",
     "text": [
      "Processing videos:  22%|██▏       | 870/4000 [02:25<07:08,  7.30it/s]Format mov,mp4,m4a,3gp,3g2,mj2 detected only with low score of 1, misdetection possible!\n",
      "moov atom not found\n",
      "Processing videos:  22%|██▏       | 872/4000 [02:25<05:55,  8.80it/s]"
     ]
    },
    {
     "name": "stdout",
     "output_type": "stream",
     "text": [
      "Error processing video /home/z/Music/st/Kinetics-400/RQ1/VBAD_r3d_18/xJMgxnXI0GY.mp4: [Errno 1094995529] Invalid data found when processing input: '/home/z/Music/st/Kinetics-400/RQ1/VBAD_r3d_18/xJMgxnXI0GY.mp4'; last error log: [mov,mp4,m4a,3gp,3g2,mj2] moov atom not found\n",
      "Error processing video xJMgxnXI0GY: [Errno 1094995529] Invalid data found when processing input: '/home/z/Music/st/Kinetics-400/RQ1/VBAD_r3d_18/xJMgxnXI0GY.mp4'; last error log: [mov,mp4,m4a,3gp,3g2,mj2] moov atom not found\n"
     ]
    },
    {
     "name": "stderr",
     "output_type": "stream",
     "text": [
      "Processing videos:  22%|██▏       | 891/4000 [02:28<08:20,  6.21it/s]Format mov,mp4,m4a,3gp,3g2,mj2 detected only with low score of 1, misdetection possible!\n",
      "moov atom not found\n",
      "Processing videos:  22%|██▏       | 893/4000 [02:28<06:25,  8.05it/s]"
     ]
    },
    {
     "name": "stdout",
     "output_type": "stream",
     "text": [
      "Error processing video /home/z/Music/st/Kinetics-400/RQ1/VBAD_r3d_18/LcvTS3cZR4Y.mp4: [Errno 1094995529] Invalid data found when processing input: '/home/z/Music/st/Kinetics-400/RQ1/VBAD_r3d_18/LcvTS3cZR4Y.mp4'; last error log: [mov,mp4,m4a,3gp,3g2,mj2] moov atom not found\n",
      "Error processing video LcvTS3cZR4Y: [Errno 1094995529] Invalid data found when processing input: '/home/z/Music/st/Kinetics-400/RQ1/VBAD_r3d_18/LcvTS3cZR4Y.mp4'; last error log: [mov,mp4,m4a,3gp,3g2,mj2] moov atom not found\n"
     ]
    },
    {
     "name": "stderr",
     "output_type": "stream",
     "text": [
      "Processing videos:  23%|██▎       | 901/4000 [02:29<08:11,  6.30it/s]Format mov,mp4,m4a,3gp,3g2,mj2 detected only with low score of 1, misdetection possible!\n",
      "moov atom not found\n",
      "Processing videos:  23%|██▎       | 903/4000 [02:29<06:23,  8.07it/s]"
     ]
    },
    {
     "name": "stdout",
     "output_type": "stream",
     "text": [
      "Error processing video /home/z/Music/st/Kinetics-400/RQ1/VBAD_r3d_18/CeYbQX8Q-ao.mp4: [Errno 1094995529] Invalid data found when processing input: '/home/z/Music/st/Kinetics-400/RQ1/VBAD_r3d_18/CeYbQX8Q-ao.mp4'; last error log: [mov,mp4,m4a,3gp,3g2,mj2] moov atom not found\n",
      "Error processing video CeYbQX8Q-ao: [Errno 1094995529] Invalid data found when processing input: '/home/z/Music/st/Kinetics-400/RQ1/VBAD_r3d_18/CeYbQX8Q-ao.mp4'; last error log: [mov,mp4,m4a,3gp,3g2,mj2] moov atom not found\n"
     ]
    },
    {
     "name": "stderr",
     "output_type": "stream",
     "text": [
      "Processing videos:  26%|██▋       | 1055/4000 [02:55<08:09,  6.02it/s]Format mov,mp4,m4a,3gp,3g2,mj2 detected only with low score of 1, misdetection possible!\n",
      "moov atom not found\n",
      "Processing videos:  26%|██▋       | 1057/4000 [02:55<06:10,  7.95it/s]"
     ]
    },
    {
     "name": "stdout",
     "output_type": "stream",
     "text": [
      "Error processing video /home/z/Music/st/Kinetics-400/RQ1/VBAD_r3d_18/YVx4Ct36FwQ.mp4: [Errno 1094995529] Invalid data found when processing input: '/home/z/Music/st/Kinetics-400/RQ1/VBAD_r3d_18/YVx4Ct36FwQ.mp4'; last error log: [mov,mp4,m4a,3gp,3g2,mj2] moov atom not found\n",
      "Error processing video YVx4Ct36FwQ: [Errno 1094995529] Invalid data found when processing input: '/home/z/Music/st/Kinetics-400/RQ1/VBAD_r3d_18/YVx4Ct36FwQ.mp4'; last error log: [mov,mp4,m4a,3gp,3g2,mj2] moov atom not found\n"
     ]
    },
    {
     "name": "stderr",
     "output_type": "stream",
     "text": [
      "Processing videos:  27%|██▋       | 1067/4000 [02:56<08:00,  6.11it/s]Format mov,mp4,m4a,3gp,3g2,mj2 detected only with low score of 1, misdetection possible!\n",
      "moov atom not found\n",
      "Processing videos:  27%|██▋       | 1069/4000 [02:57<06:11,  7.89it/s]"
     ]
    },
    {
     "name": "stdout",
     "output_type": "stream",
     "text": [
      "Error processing video /home/z/Music/st/Kinetics-400/RQ1/VBAD_r3d_18/eDN0JpKzow4.mp4: [Errno 1094995529] Invalid data found when processing input: '/home/z/Music/st/Kinetics-400/RQ1/VBAD_r3d_18/eDN0JpKzow4.mp4'; last error log: [mov,mp4,m4a,3gp,3g2,mj2] moov atom not found\n",
      "Error processing video eDN0JpKzow4: [Errno 1094995529] Invalid data found when processing input: '/home/z/Music/st/Kinetics-400/RQ1/VBAD_r3d_18/eDN0JpKzow4.mp4'; last error log: [mov,mp4,m4a,3gp,3g2,mj2] moov atom not found\n"
     ]
    },
    {
     "name": "stderr",
     "output_type": "stream",
     "text": [
      "Processing videos:  27%|██▋       | 1091/4000 [03:00<07:52,  6.15it/s]Format mov,mp4,m4a,3gp,3g2,mj2 detected only with low score of 1, misdetection possible!\n",
      "moov atom not found\n",
      "Processing videos:  27%|██▋       | 1093/4000 [03:00<06:03,  8.00it/s]"
     ]
    },
    {
     "name": "stdout",
     "output_type": "stream",
     "text": [
      "Error processing video /home/z/Music/st/Kinetics-400/RQ1/VBAD_r3d_18/G9zN5TTuGO4.mp4: [Errno 1094995529] Invalid data found when processing input: '/home/z/Music/st/Kinetics-400/RQ1/VBAD_r3d_18/G9zN5TTuGO4.mp4'; last error log: [mov,mp4,m4a,3gp,3g2,mj2] moov atom not found\n",
      "Error processing video G9zN5TTuGO4: [Errno 1094995529] Invalid data found when processing input: '/home/z/Music/st/Kinetics-400/RQ1/VBAD_r3d_18/G9zN5TTuGO4.mp4'; last error log: [mov,mp4,m4a,3gp,3g2,mj2] moov atom not found\n"
     ]
    },
    {
     "name": "stderr",
     "output_type": "stream",
     "text": [
      "Processing videos:  28%|██▊       | 1113/4000 [03:04<11:39,  4.13it/s]Format mov,mp4,m4a,3gp,3g2,mj2 detected only with low score of 1, misdetection possible!\n",
      "moov atom not found\n"
     ]
    },
    {
     "name": "stdout",
     "output_type": "stream",
     "text": [
      "Error processing video /home/z/Music/st/Kinetics-400/RQ1/VBAD_r3d_18/82tI1mfUWOs.mp4: [Errno 1094995529] Invalid data found when processing input: '/home/z/Music/st/Kinetics-400/RQ1/VBAD_r3d_18/82tI1mfUWOs.mp4'; last error log: [mov,mp4,m4a,3gp,3g2,mj2] moov atom not found\n",
      "Error processing video 82tI1mfUWOs: [Errno 1094995529] Invalid data found when processing input: '/home/z/Music/st/Kinetics-400/RQ1/VBAD_r3d_18/82tI1mfUWOs.mp4'; last error log: [mov,mp4,m4a,3gp,3g2,mj2] moov atom not found\n"
     ]
    },
    {
     "name": "stderr",
     "output_type": "stream",
     "text": [
      "Processing videos:  28%|██▊       | 1126/4000 [03:07<09:25,  5.09it/s]Format mov,mp4,m4a,3gp,3g2,mj2 detected only with low score of 1, misdetection possible!\n",
      "moov atom not found\n",
      "Processing videos:  28%|██▊       | 1128/4000 [03:07<06:55,  6.91it/s]"
     ]
    },
    {
     "name": "stdout",
     "output_type": "stream",
     "text": [
      "Error processing video /home/z/Music/st/Kinetics-400/RQ1/VBAD_r3d_18/FAElMaFxnFI.mp4: [Errno 1094995529] Invalid data found when processing input: '/home/z/Music/st/Kinetics-400/RQ1/VBAD_r3d_18/FAElMaFxnFI.mp4'; last error log: [mov,mp4,m4a,3gp,3g2,mj2] moov atom not found\n",
      "Error processing video FAElMaFxnFI: [Errno 1094995529] Invalid data found when processing input: '/home/z/Music/st/Kinetics-400/RQ1/VBAD_r3d_18/FAElMaFxnFI.mp4'; last error log: [mov,mp4,m4a,3gp,3g2,mj2] moov atom not found\n"
     ]
    },
    {
     "name": "stderr",
     "output_type": "stream",
     "text": [
      "Processing videos:  29%|██▉       | 1160/4000 [03:13<07:57,  5.95it/s]Format mov,mp4,m4a,3gp,3g2,mj2 detected only with low score of 1, misdetection possible!\n",
      "moov atom not found\n",
      "Processing videos:  29%|██▉       | 1162/4000 [03:13<06:05,  7.76it/s]"
     ]
    },
    {
     "name": "stdout",
     "output_type": "stream",
     "text": [
      "Error processing video /home/z/Music/st/Kinetics-400/RQ1/VBAD_r3d_18/XfDGCHBBsHI.mp4: [Errno 1094995529] Invalid data found when processing input: '/home/z/Music/st/Kinetics-400/RQ1/VBAD_r3d_18/XfDGCHBBsHI.mp4'; last error log: [mov,mp4,m4a,3gp,3g2,mj2] moov atom not found\n",
      "Error processing video XfDGCHBBsHI: [Errno 1094995529] Invalid data found when processing input: '/home/z/Music/st/Kinetics-400/RQ1/VBAD_r3d_18/XfDGCHBBsHI.mp4'; last error log: [mov,mp4,m4a,3gp,3g2,mj2] moov atom not found\n"
     ]
    },
    {
     "name": "stderr",
     "output_type": "stream",
     "text": [
      "Processing videos:  30%|██▉       | 1197/4000 [03:19<07:35,  6.16it/s]Format mov,mp4,m4a,3gp,3g2,mj2 detected only with low score of 1, misdetection possible!\n",
      "moov atom not found\n",
      "Processing videos:  30%|██▉       | 1199/4000 [03:19<05:50,  7.99it/s]"
     ]
    },
    {
     "name": "stdout",
     "output_type": "stream",
     "text": [
      "Error processing video /home/z/Music/st/Kinetics-400/RQ1/VBAD_r3d_18/PFHNjNgCjWI.mp4: [Errno 1094995529] Invalid data found when processing input: '/home/z/Music/st/Kinetics-400/RQ1/VBAD_r3d_18/PFHNjNgCjWI.mp4'; last error log: [mov,mp4,m4a,3gp,3g2,mj2] moov atom not found\n",
      "Error processing video PFHNjNgCjWI: [Errno 1094995529] Invalid data found when processing input: '/home/z/Music/st/Kinetics-400/RQ1/VBAD_r3d_18/PFHNjNgCjWI.mp4'; last error log: [mov,mp4,m4a,3gp,3g2,mj2] moov atom not found\n"
     ]
    },
    {
     "name": "stderr",
     "output_type": "stream",
     "text": [
      "Processing videos:  34%|███▍      | 1351/4000 [03:45<07:17,  6.06it/s]Format mov,mp4,m4a,3gp,3g2,mj2 detected only with low score of 1, misdetection possible!\n",
      "moov atom not found\n",
      "Processing videos:  34%|███▍      | 1353/4000 [03:45<05:35,  7.89it/s]"
     ]
    },
    {
     "name": "stdout",
     "output_type": "stream",
     "text": [
      "Error processing video /home/z/Music/st/Kinetics-400/RQ1/VBAD_r3d_18/TuJAWU_t7Lw.mp4: [Errno 1094995529] Invalid data found when processing input: '/home/z/Music/st/Kinetics-400/RQ1/VBAD_r3d_18/TuJAWU_t7Lw.mp4'; last error log: [mov,mp4,m4a,3gp,3g2,mj2] moov atom not found\n",
      "Error processing video TuJAWU_t7Lw: [Errno 1094995529] Invalid data found when processing input: '/home/z/Music/st/Kinetics-400/RQ1/VBAD_r3d_18/TuJAWU_t7Lw.mp4'; last error log: [mov,mp4,m4a,3gp,3g2,mj2] moov atom not found\n"
     ]
    },
    {
     "name": "stderr",
     "output_type": "stream",
     "text": [
      "Processing videos:  35%|███▍      | 1398/4000 [03:52<07:03,  6.15it/s]Format mov,mp4,m4a,3gp,3g2,mj2 detected only with low score of 1, misdetection possible!\n",
      "moov atom not found\n",
      "Processing videos:  35%|███▌      | 1400/4000 [03:53<05:27,  7.94it/s]"
     ]
    },
    {
     "name": "stdout",
     "output_type": "stream",
     "text": [
      "Error processing video /home/z/Music/st/Kinetics-400/RQ1/VBAD_r3d_18/ss8vI6LCefI.mp4: [Errno 1094995529] Invalid data found when processing input: '/home/z/Music/st/Kinetics-400/RQ1/VBAD_r3d_18/ss8vI6LCefI.mp4'; last error log: [mov,mp4,m4a,3gp,3g2,mj2] moov atom not found\n",
      "Error processing video ss8vI6LCefI: [Errno 1094995529] Invalid data found when processing input: '/home/z/Music/st/Kinetics-400/RQ1/VBAD_r3d_18/ss8vI6LCefI.mp4'; last error log: [mov,mp4,m4a,3gp,3g2,mj2] moov atom not found\n"
     ]
    },
    {
     "name": "stderr",
     "output_type": "stream",
     "text": [
      "Processing videos:  36%|███▌      | 1425/4000 [03:57<06:57,  6.16it/s]Format mov,mp4,m4a,3gp,3g2,mj2 detected only with low score of 1, misdetection possible!\n",
      "moov atom not found\n",
      "Processing videos:  36%|███▌      | 1427/4000 [03:57<05:21,  8.00it/s]"
     ]
    },
    {
     "name": "stdout",
     "output_type": "stream",
     "text": [
      "Error processing video /home/z/Music/st/Kinetics-400/RQ1/VBAD_r3d_18/auzEvlM5TXs.mp4: [Errno 1094995529] Invalid data found when processing input: '/home/z/Music/st/Kinetics-400/RQ1/VBAD_r3d_18/auzEvlM5TXs.mp4'; last error log: [mov,mp4,m4a,3gp,3g2,mj2] moov atom not found\n",
      "Error processing video auzEvlM5TXs: [Errno 1094995529] Invalid data found when processing input: '/home/z/Music/st/Kinetics-400/RQ1/VBAD_r3d_18/auzEvlM5TXs.mp4'; last error log: [mov,mp4,m4a,3gp,3g2,mj2] moov atom not found\n"
     ]
    },
    {
     "name": "stderr",
     "output_type": "stream",
     "text": [
      "Processing videos:  36%|███▌      | 1442/4000 [03:59<06:54,  6.17it/s]Format mov,mp4,m4a,3gp,3g2,mj2 detected only with low score of 1, misdetection possible!\n",
      "moov atom not found\n",
      "Processing videos:  36%|███▌      | 1444/4000 [03:59<05:20,  7.96it/s]"
     ]
    },
    {
     "name": "stdout",
     "output_type": "stream",
     "text": [
      "Error processing video /home/z/Music/st/Kinetics-400/RQ1/VBAD_r3d_18/j1kMjr-RkO4.mp4: [Errno 1094995529] Invalid data found when processing input: '/home/z/Music/st/Kinetics-400/RQ1/VBAD_r3d_18/j1kMjr-RkO4.mp4'; last error log: [mov,mp4,m4a,3gp,3g2,mj2] moov atom not found\n",
      "Error processing video j1kMjr-RkO4: [Errno 1094995529] Invalid data found when processing input: '/home/z/Music/st/Kinetics-400/RQ1/VBAD_r3d_18/j1kMjr-RkO4.mp4'; last error log: [mov,mp4,m4a,3gp,3g2,mj2] moov atom not found\n"
     ]
    },
    {
     "name": "stderr",
     "output_type": "stream",
     "text": [
      "Processing videos:  37%|███▋      | 1473/4000 [04:05<07:18,  5.76it/s]Format mov,mp4,m4a,3gp,3g2,mj2 detected only with low score of 1, misdetection possible!\n",
      "moov atom not found\n",
      "Processing videos:  37%|███▋      | 1475/4000 [04:05<05:29,  7.67it/s]"
     ]
    },
    {
     "name": "stdout",
     "output_type": "stream",
     "text": [
      "Error processing video /home/z/Music/st/Kinetics-400/RQ1/VBAD_r3d_18/T3dd2vulC_g.mp4: [Errno 1094995529] Invalid data found when processing input: '/home/z/Music/st/Kinetics-400/RQ1/VBAD_r3d_18/T3dd2vulC_g.mp4'; last error log: [mov,mp4,m4a,3gp,3g2,mj2] moov atom not found\n",
      "Error processing video T3dd2vulC_g: [Errno 1094995529] Invalid data found when processing input: '/home/z/Music/st/Kinetics-400/RQ1/VBAD_r3d_18/T3dd2vulC_g.mp4'; last error log: [mov,mp4,m4a,3gp,3g2,mj2] moov atom not found\n"
     ]
    },
    {
     "name": "stderr",
     "output_type": "stream",
     "text": [
      "Processing videos:  40%|███▉      | 1588/4000 [04:25<06:36,  6.09it/s]Format mov,mp4,m4a,3gp,3g2,mj2 detected only with low score of 1, misdetection possible!\n",
      "moov atom not found\n",
      "Processing videos:  40%|███▉      | 1590/4000 [04:25<04:59,  8.06it/s]"
     ]
    },
    {
     "name": "stdout",
     "output_type": "stream",
     "text": [
      "Error processing video /home/z/Music/st/Kinetics-400/RQ1/VBAD_r3d_18/Yk_4d83mUy0.mp4: [Errno 1094995529] Invalid data found when processing input: '/home/z/Music/st/Kinetics-400/RQ1/VBAD_r3d_18/Yk_4d83mUy0.mp4'; last error log: [mov,mp4,m4a,3gp,3g2,mj2] moov atom not found\n",
      "Error processing video Yk_4d83mUy0: [Errno 1094995529] Invalid data found when processing input: '/home/z/Music/st/Kinetics-400/RQ1/VBAD_r3d_18/Yk_4d83mUy0.mp4'; last error log: [mov,mp4,m4a,3gp,3g2,mj2] moov atom not found\n"
     ]
    },
    {
     "name": "stderr",
     "output_type": "stream",
     "text": [
      "Processing videos:  40%|███▉      | 1595/4000 [04:26<06:05,  6.59it/s]Format mov,mp4,m4a,3gp,3g2,mj2 detected only with low score of 1, misdetection possible!\n",
      "moov atom not found\n",
      "Processing videos:  40%|███▉      | 1597/4000 [04:26<04:44,  8.45it/s]"
     ]
    },
    {
     "name": "stdout",
     "output_type": "stream",
     "text": [
      "Error processing video /home/z/Music/st/Kinetics-400/RQ1/VBAD_r3d_18/UcTz9npgM8s.mp4: [Errno 1094995529] Invalid data found when processing input: '/home/z/Music/st/Kinetics-400/RQ1/VBAD_r3d_18/UcTz9npgM8s.mp4'; last error log: [mov,mp4,m4a,3gp,3g2,mj2] moov atom not found\n",
      "Error processing video UcTz9npgM8s: [Errno 1094995529] Invalid data found when processing input: '/home/z/Music/st/Kinetics-400/RQ1/VBAD_r3d_18/UcTz9npgM8s.mp4'; last error log: [mov,mp4,m4a,3gp,3g2,mj2] moov atom not found\n"
     ]
    },
    {
     "name": "stderr",
     "output_type": "stream",
     "text": [
      "Processing videos:  40%|████      | 1613/4000 [04:29<06:37,  6.00it/s]Format mov,mp4,m4a,3gp,3g2,mj2 detected only with low score of 1, misdetection possible!\n",
      "moov atom not found\n",
      "Processing videos:  40%|████      | 1615/4000 [04:29<05:05,  7.81it/s]"
     ]
    },
    {
     "name": "stdout",
     "output_type": "stream",
     "text": [
      "Error processing video /home/z/Music/st/Kinetics-400/RQ1/VBAD_r3d_18/O179fpfn1G4.mp4: [Errno 1094995529] Invalid data found when processing input: '/home/z/Music/st/Kinetics-400/RQ1/VBAD_r3d_18/O179fpfn1G4.mp4'; last error log: [mov,mp4,m4a,3gp,3g2,mj2] moov atom not found\n",
      "Error processing video O179fpfn1G4: [Errno 1094995529] Invalid data found when processing input: '/home/z/Music/st/Kinetics-400/RQ1/VBAD_r3d_18/O179fpfn1G4.mp4'; last error log: [mov,mp4,m4a,3gp,3g2,mj2] moov atom not found\n"
     ]
    },
    {
     "name": "stderr",
     "output_type": "stream",
     "text": [
      "Processing videos:  41%|████      | 1644/4000 [04:35<06:30,  6.04it/s]Format mov,mp4,m4a,3gp,3g2,mj2 detected only with low score of 1, misdetection possible!\n",
      "moov atom not found\n",
      "Processing videos:  41%|████      | 1646/4000 [04:35<05:00,  7.82it/s]"
     ]
    },
    {
     "name": "stdout",
     "output_type": "stream",
     "text": [
      "Error processing video /home/z/Music/st/Kinetics-400/RQ1/VBAD_r3d_18/MVEpx1k1vn8.mp4: [Errno 1094995529] Invalid data found when processing input: '/home/z/Music/st/Kinetics-400/RQ1/VBAD_r3d_18/MVEpx1k1vn8.mp4'; last error log: [mov,mp4,m4a,3gp,3g2,mj2] moov atom not found\n",
      "Error processing video MVEpx1k1vn8: [Errno 1094995529] Invalid data found when processing input: '/home/z/Music/st/Kinetics-400/RQ1/VBAD_r3d_18/MVEpx1k1vn8.mp4'; last error log: [mov,mp4,m4a,3gp,3g2,mj2] moov atom not found\n"
     ]
    },
    {
     "name": "stderr",
     "output_type": "stream",
     "text": [
      "Processing videos:  42%|████▏     | 1694/4000 [04:44<06:13,  6.18it/s]Format mov,mp4,m4a,3gp,3g2,mj2 detected only with low score of 1, misdetection possible!\n",
      "moov atom not found\n",
      "Processing videos:  42%|████▏     | 1696/4000 [04:44<04:42,  8.16it/s]"
     ]
    },
    {
     "name": "stdout",
     "output_type": "stream",
     "text": [
      "Error processing video /home/z/Music/st/Kinetics-400/RQ1/VBAD_r3d_18/QYo-TXW5glg.mp4: [Errno 1094995529] Invalid data found when processing input: '/home/z/Music/st/Kinetics-400/RQ1/VBAD_r3d_18/QYo-TXW5glg.mp4'; last error log: [mov,mp4,m4a,3gp,3g2,mj2] moov atom not found\n",
      "Error processing video QYo-TXW5glg: [Errno 1094995529] Invalid data found when processing input: '/home/z/Music/st/Kinetics-400/RQ1/VBAD_r3d_18/QYo-TXW5glg.mp4'; last error log: [mov,mp4,m4a,3gp,3g2,mj2] moov atom not found\n"
     ]
    },
    {
     "name": "stderr",
     "output_type": "stream",
     "text": [
      "Processing videos:  42%|████▏     | 1698/4000 [04:44<05:23,  7.11it/s]Format mov,mp4,m4a,3gp,3g2,mj2 detected only with low score of 1, misdetection possible!\n",
      "moov atom not found\n",
      "Processing videos:  42%|████▎     | 1700/4000 [04:44<04:25,  8.65it/s]"
     ]
    },
    {
     "name": "stdout",
     "output_type": "stream",
     "text": [
      "Error processing video /home/z/Music/st/Kinetics-400/RQ1/VBAD_r3d_18/v7CZNHgUd5c.mp4: [Errno 1094995529] Invalid data found when processing input: '/home/z/Music/st/Kinetics-400/RQ1/VBAD_r3d_18/v7CZNHgUd5c.mp4'; last error log: [mov,mp4,m4a,3gp,3g2,mj2] moov atom not found\n",
      "Error processing video v7CZNHgUd5c: [Errno 1094995529] Invalid data found when processing input: '/home/z/Music/st/Kinetics-400/RQ1/VBAD_r3d_18/v7CZNHgUd5c.mp4'; last error log: [mov,mp4,m4a,3gp,3g2,mj2] moov atom not found\n"
     ]
    },
    {
     "name": "stderr",
     "output_type": "stream",
     "text": [
      "Processing videos:  44%|████▍     | 1756/4000 [04:54<06:02,  6.19it/s]Format mov,mp4,m4a,3gp,3g2,mj2 detected only with low score of 1, misdetection possible!\n",
      "moov atom not found\n",
      "Processing videos:  44%|████▍     | 1758/4000 [04:54<04:39,  8.03it/s]"
     ]
    },
    {
     "name": "stdout",
     "output_type": "stream",
     "text": [
      "Error processing video /home/z/Music/st/Kinetics-400/RQ1/VBAD_r3d_18/KboaqIAMxs4.mp4: [Errno 1094995529] Invalid data found when processing input: '/home/z/Music/st/Kinetics-400/RQ1/VBAD_r3d_18/KboaqIAMxs4.mp4'; last error log: [mov,mp4,m4a,3gp,3g2,mj2] moov atom not found\n",
      "Error processing video KboaqIAMxs4: [Errno 1094995529] Invalid data found when processing input: '/home/z/Music/st/Kinetics-400/RQ1/VBAD_r3d_18/KboaqIAMxs4.mp4'; last error log: [mov,mp4,m4a,3gp,3g2,mj2] moov atom not found\n"
     ]
    },
    {
     "name": "stderr",
     "output_type": "stream",
     "text": [
      "Processing videos:  44%|████▍     | 1770/4000 [04:56<06:02,  6.15it/s]Format mov,mp4,m4a,3gp,3g2,mj2 detected only with low score of 1, misdetection possible!\n",
      "moov atom not found\n",
      "Processing videos:  44%|████▍     | 1772/4000 [04:57<04:40,  7.95it/s]"
     ]
    },
    {
     "name": "stdout",
     "output_type": "stream",
     "text": [
      "Error processing video /home/z/Music/st/Kinetics-400/RQ1/VBAD_r3d_18/U1jja7-NArY.mp4: [Errno 1094995529] Invalid data found when processing input: '/home/z/Music/st/Kinetics-400/RQ1/VBAD_r3d_18/U1jja7-NArY.mp4'; last error log: [mov,mp4,m4a,3gp,3g2,mj2] moov atom not found\n",
      "Error processing video U1jja7-NArY: [Errno 1094995529] Invalid data found when processing input: '/home/z/Music/st/Kinetics-400/RQ1/VBAD_r3d_18/U1jja7-NArY.mp4'; last error log: [mov,mp4,m4a,3gp,3g2,mj2] moov atom not found\n"
     ]
    },
    {
     "name": "stderr",
     "output_type": "stream",
     "text": [
      "Processing videos:  47%|████▋     | 1870/4000 [05:15<07:22,  4.82it/s]Format mov,mp4,m4a,3gp,3g2,mj2 detected only with low score of 1, misdetection possible!\n",
      "moov atom not found\n",
      "Processing videos:  47%|████▋     | 1872/4000 [05:15<05:16,  6.72it/s]"
     ]
    },
    {
     "name": "stdout",
     "output_type": "stream",
     "text": [
      "Error processing video /home/z/Music/st/Kinetics-400/RQ1/VBAD_r3d_18/xk5fOtPk4Y0.mp4: [Errno 1094995529] Invalid data found when processing input: '/home/z/Music/st/Kinetics-400/RQ1/VBAD_r3d_18/xk5fOtPk4Y0.mp4'; last error log: [mov,mp4,m4a,3gp,3g2,mj2] moov atom not found\n",
      "Error processing video xk5fOtPk4Y0: [Errno 1094995529] Invalid data found when processing input: '/home/z/Music/st/Kinetics-400/RQ1/VBAD_r3d_18/xk5fOtPk4Y0.mp4'; last error log: [mov,mp4,m4a,3gp,3g2,mj2] moov atom not found\n"
     ]
    },
    {
     "name": "stderr",
     "output_type": "stream",
     "text": [
      "Processing videos:  49%|████▊     | 1948/4000 [05:32<09:48,  3.49it/s]Format mov,mp4,m4a,3gp,3g2,mj2 detected only with low score of 1, misdetection possible!\n",
      "moov atom not found\n",
      "Processing videos:  49%|████▉     | 1950/4000 [05:32<06:32,  5.23it/s]"
     ]
    },
    {
     "name": "stdout",
     "output_type": "stream",
     "text": [
      "Error processing video /home/z/Music/st/Kinetics-400/RQ1/VBAD_r3d_18/spBrSoHBidQ.mp4: [Errno 1094995529] Invalid data found when processing input: '/home/z/Music/st/Kinetics-400/RQ1/VBAD_r3d_18/spBrSoHBidQ.mp4'; last error log: [mov,mp4,m4a,3gp,3g2,mj2] moov atom not found\n",
      "Error processing video spBrSoHBidQ: [Errno 1094995529] Invalid data found when processing input: '/home/z/Music/st/Kinetics-400/RQ1/VBAD_r3d_18/spBrSoHBidQ.mp4'; last error log: [mov,mp4,m4a,3gp,3g2,mj2] moov atom not found\n"
     ]
    },
    {
     "name": "stderr",
     "output_type": "stream",
     "text": [
      "Processing videos:  49%|████▉     | 1967/4000 [05:35<05:37,  6.03it/s]Format mov,mp4,m4a,3gp,3g2,mj2 detected only with low score of 1, misdetection possible!\n",
      "moov atom not found\n",
      "Processing videos:  49%|████▉     | 1969/4000 [05:35<04:26,  7.63it/s]"
     ]
    },
    {
     "name": "stdout",
     "output_type": "stream",
     "text": [
      "Error processing video /home/z/Music/st/Kinetics-400/RQ1/VBAD_r3d_18/muL7DTddPQM.mp4: [Errno 1094995529] Invalid data found when processing input: '/home/z/Music/st/Kinetics-400/RQ1/VBAD_r3d_18/muL7DTddPQM.mp4'; last error log: [mov,mp4,m4a,3gp,3g2,mj2] moov atom not found\n",
      "Error processing video muL7DTddPQM: [Errno 1094995529] Invalid data found when processing input: '/home/z/Music/st/Kinetics-400/RQ1/VBAD_r3d_18/muL7DTddPQM.mp4'; last error log: [mov,mp4,m4a,3gp,3g2,mj2] moov atom not found\n"
     ]
    },
    {
     "name": "stderr",
     "output_type": "stream",
     "text": [
      "Processing videos:  50%|█████     | 2018/4000 [05:44<06:32,  5.06it/s]Format mov,mp4,m4a,3gp,3g2,mj2 detected only with low score of 1, misdetection possible!\n",
      "moov atom not found\n",
      "Processing videos:  50%|█████     | 2020/4000 [05:44<04:44,  6.96it/s]"
     ]
    },
    {
     "name": "stdout",
     "output_type": "stream",
     "text": [
      "Error processing video /home/z/Music/st/Kinetics-400/RQ1/VBAD_r3d_18/8r1JtD6ypvE.mp4: [Errno 1094995529] Invalid data found when processing input: '/home/z/Music/st/Kinetics-400/RQ1/VBAD_r3d_18/8r1JtD6ypvE.mp4'; last error log: [mov,mp4,m4a,3gp,3g2,mj2] moov atom not found\n",
      "Error processing video 8r1JtD6ypvE: [Errno 1094995529] Invalid data found when processing input: '/home/z/Music/st/Kinetics-400/RQ1/VBAD_r3d_18/8r1JtD6ypvE.mp4'; last error log: [mov,mp4,m4a,3gp,3g2,mj2] moov atom not found\n"
     ]
    },
    {
     "name": "stderr",
     "output_type": "stream",
     "text": [
      "Processing videos:  51%|█████     | 2042/4000 [05:47<05:07,  6.37it/s]Format mov,mp4,m4a,3gp,3g2,mj2 detected only with low score of 1, misdetection possible!\n",
      "moov atom not found\n"
     ]
    },
    {
     "name": "stdout",
     "output_type": "stream",
     "text": [
      "Error processing video /home/z/Music/st/Kinetics-400/RQ1/VBAD_r3d_18/9vOxThR8gns.mp4: [Errno 1094995529] Invalid data found when processing input: '/home/z/Music/st/Kinetics-400/RQ1/VBAD_r3d_18/9vOxThR8gns.mp4'; last error log: [mov,mp4,m4a,3gp,3g2,mj2] moov atom not found\n",
      "Error processing video 9vOxThR8gns: [Errno 1094995529] Invalid data found when processing input: '/home/z/Music/st/Kinetics-400/RQ1/VBAD_r3d_18/9vOxThR8gns.mp4'; last error log: [mov,mp4,m4a,3gp,3g2,mj2] moov atom not found\n"
     ]
    },
    {
     "name": "stderr",
     "output_type": "stream",
     "text": [
      "Processing videos:  52%|█████▏    | 2080/4000 [05:54<05:05,  6.29it/s]Format mov,mp4,m4a,3gp,3g2,mj2 detected only with low score of 1, misdetection possible!\n",
      "moov atom not found\n",
      "Processing videos:  52%|█████▏    | 2082/4000 [05:54<03:56,  8.13it/s]"
     ]
    },
    {
     "name": "stdout",
     "output_type": "stream",
     "text": [
      "Error processing video /home/z/Music/st/Kinetics-400/RQ1/VBAD_r3d_18/cfK4FnaOeSo.mp4: [Errno 1094995529] Invalid data found when processing input: '/home/z/Music/st/Kinetics-400/RQ1/VBAD_r3d_18/cfK4FnaOeSo.mp4'; last error log: [mov,mp4,m4a,3gp,3g2,mj2] moov atom not found\n",
      "Error processing video cfK4FnaOeSo: [Errno 1094995529] Invalid data found when processing input: '/home/z/Music/st/Kinetics-400/RQ1/VBAD_r3d_18/cfK4FnaOeSo.mp4'; last error log: [mov,mp4,m4a,3gp,3g2,mj2] moov atom not found\n"
     ]
    },
    {
     "name": "stderr",
     "output_type": "stream",
     "text": [
      "Processing videos:  55%|█████▍    | 2191/4000 [06:12<04:48,  6.28it/s]Format mov,mp4,m4a,3gp,3g2,mj2 detected only with low score of 1, misdetection possible!\n",
      "moov atom not found\n",
      "Processing videos:  55%|█████▍    | 2193/4000 [06:12<03:42,  8.13it/s]"
     ]
    },
    {
     "name": "stdout",
     "output_type": "stream",
     "text": [
      "Error processing video /home/z/Music/st/Kinetics-400/RQ1/VBAD_r3d_18/Wefk-K8m7MU.mp4: [Errno 1094995529] Invalid data found when processing input: '/home/z/Music/st/Kinetics-400/RQ1/VBAD_r3d_18/Wefk-K8m7MU.mp4'; last error log: [mov,mp4,m4a,3gp,3g2,mj2] moov atom not found\n",
      "Error processing video Wefk-K8m7MU: [Errno 1094995529] Invalid data found when processing input: '/home/z/Music/st/Kinetics-400/RQ1/VBAD_r3d_18/Wefk-K8m7MU.mp4'; last error log: [mov,mp4,m4a,3gp,3g2,mj2] moov atom not found\n"
     ]
    },
    {
     "name": "stderr",
     "output_type": "stream",
     "text": [
      "Processing videos:  57%|█████▋    | 2280/4000 [06:26<09:40,  2.96it/s]Format mov,mp4,m4a,3gp,3g2,mj2 detected only with low score of 1, misdetection possible!\n",
      "moov atom not found\n"
     ]
    },
    {
     "name": "stdout",
     "output_type": "stream",
     "text": [
      "Error processing video /home/z/Music/st/Kinetics-400/RQ1/VBAD_r3d_18/MDJDtw8QHXs.mp4: [Errno 1094995529] Invalid data found when processing input: '/home/z/Music/st/Kinetics-400/RQ1/VBAD_r3d_18/MDJDtw8QHXs.mp4'; last error log: [mov,mp4,m4a,3gp,3g2,mj2] moov atom not found\n",
      "Error processing video MDJDtw8QHXs: [Errno 1094995529] Invalid data found when processing input: '/home/z/Music/st/Kinetics-400/RQ1/VBAD_r3d_18/MDJDtw8QHXs.mp4'; last error log: [mov,mp4,m4a,3gp,3g2,mj2] moov atom not found\n"
     ]
    },
    {
     "name": "stderr",
     "output_type": "stream",
     "text": [
      "Processing videos:  57%|█████▋    | 2282/4000 [06:27<08:01,  3.57it/s]Format mov,mp4,m4a,3gp,3g2,mj2 detected only with low score of 1, misdetection possible!\n",
      "moov atom not found\n",
      "Processing videos:  57%|█████▋    | 2284/4000 [06:27<05:45,  4.96it/s]"
     ]
    },
    {
     "name": "stdout",
     "output_type": "stream",
     "text": [
      "Error processing video /home/z/Music/st/Kinetics-400/RQ1/VBAD_r3d_18/93jWKTOJ_oA.mp4: [Errno 1094995529] Invalid data found when processing input: '/home/z/Music/st/Kinetics-400/RQ1/VBAD_r3d_18/93jWKTOJ_oA.mp4'; last error log: [mov,mp4,m4a,3gp,3g2,mj2] moov atom not found\n",
      "Error processing video 93jWKTOJ_oA: [Errno 1094995529] Invalid data found when processing input: '/home/z/Music/st/Kinetics-400/RQ1/VBAD_r3d_18/93jWKTOJ_oA.mp4'; last error log: [mov,mp4,m4a,3gp,3g2,mj2] moov atom not found\n"
     ]
    },
    {
     "name": "stderr",
     "output_type": "stream",
     "text": [
      "Processing videos:  60%|██████    | 2400/4000 [06:48<07:23,  3.61it/s]Format mov,mp4,m4a,3gp,3g2,mj2 detected only with low score of 1, misdetection possible!\n",
      "moov atom not found\n",
      "Processing videos:  60%|██████    | 2402/4000 [06:48<04:58,  5.35it/s]"
     ]
    },
    {
     "name": "stdout",
     "output_type": "stream",
     "text": [
      "Error processing video /home/z/Music/st/Kinetics-400/RQ1/VBAD_r3d_18/PtzkqG5fT8M.mp4: [Errno 1094995529] Invalid data found when processing input: '/home/z/Music/st/Kinetics-400/RQ1/VBAD_r3d_18/PtzkqG5fT8M.mp4'; last error log: [mov,mp4,m4a,3gp,3g2,mj2] moov atom not found\n",
      "Error processing video PtzkqG5fT8M: [Errno 1094995529] Invalid data found when processing input: '/home/z/Music/st/Kinetics-400/RQ1/VBAD_r3d_18/PtzkqG5fT8M.mp4'; last error log: [mov,mp4,m4a,3gp,3g2,mj2] moov atom not found\n"
     ]
    },
    {
     "name": "stderr",
     "output_type": "stream",
     "text": [
      "Processing videos:  60%|██████    | 2409/4000 [06:49<04:21,  6.08it/s]Format mov,mp4,m4a,3gp,3g2,mj2 detected only with low score of 1, misdetection possible!\n",
      "moov atom not found\n",
      "Processing videos:  60%|██████    | 2411/4000 [06:49<03:20,  7.94it/s]"
     ]
    },
    {
     "name": "stdout",
     "output_type": "stream",
     "text": [
      "Error processing video /home/z/Music/st/Kinetics-400/RQ1/VBAD_r3d_18/mgxX-7fBeqk.mp4: [Errno 1094995529] Invalid data found when processing input: '/home/z/Music/st/Kinetics-400/RQ1/VBAD_r3d_18/mgxX-7fBeqk.mp4'; last error log: [mov,mp4,m4a,3gp,3g2,mj2] moov atom not found\n",
      "Error processing video mgxX-7fBeqk: [Errno 1094995529] Invalid data found when processing input: '/home/z/Music/st/Kinetics-400/RQ1/VBAD_r3d_18/mgxX-7fBeqk.mp4'; last error log: [mov,mp4,m4a,3gp,3g2,mj2] moov atom not found\n"
     ]
    },
    {
     "name": "stderr",
     "output_type": "stream",
     "text": [
      "Processing videos:  61%|██████    | 2432/4000 [06:53<04:11,  6.23it/s]Format mov,mp4,m4a,3gp,3g2,mj2 detected only with low score of 1, misdetection possible!\n",
      "moov atom not found\n",
      "Processing videos:  61%|██████    | 2434/4000 [06:53<03:14,  8.07it/s]"
     ]
    },
    {
     "name": "stdout",
     "output_type": "stream",
     "text": [
      "Error processing video /home/z/Music/st/Kinetics-400/RQ1/VBAD_r3d_18/PcWPEDiBYec.mp4: [Errno 1094995529] Invalid data found when processing input: '/home/z/Music/st/Kinetics-400/RQ1/VBAD_r3d_18/PcWPEDiBYec.mp4'; last error log: [mov,mp4,m4a,3gp,3g2,mj2] moov atom not found\n",
      "Error processing video PcWPEDiBYec: [Errno 1094995529] Invalid data found when processing input: '/home/z/Music/st/Kinetics-400/RQ1/VBAD_r3d_18/PcWPEDiBYec.mp4'; last error log: [mov,mp4,m4a,3gp,3g2,mj2] moov atom not found\n"
     ]
    },
    {
     "name": "stderr",
     "output_type": "stream",
     "text": [
      "Processing videos:  61%|██████    | 2435/4000 [06:53<03:26,  7.57it/s]Format mov,mp4,m4a,3gp,3g2,mj2 detected only with low score of 1, misdetection possible!\n",
      "moov atom not found\n",
      "Processing videos:  61%|██████    | 2437/4000 [06:53<02:51,  9.09it/s]Format mov,mp4,m4a,3gp,3g2,mj2 detected only with low score of 1, misdetection possible!\n",
      "moov atom not found\n"
     ]
    },
    {
     "name": "stdout",
     "output_type": "stream",
     "text": [
      "Error processing video /home/z/Music/st/Kinetics-400/RQ1/VBAD_r3d_18/AHEfmLAeDoc.mp4: [Errno 1094995529] Invalid data found when processing input: '/home/z/Music/st/Kinetics-400/RQ1/VBAD_r3d_18/AHEfmLAeDoc.mp4'; last error log: [mov,mp4,m4a,3gp,3g2,mj2] moov atom not found\n",
      "Error processing video AHEfmLAeDoc: [Errno 1094995529] Invalid data found when processing input: '/home/z/Music/st/Kinetics-400/RQ1/VBAD_r3d_18/AHEfmLAeDoc.mp4'; last error log: [mov,mp4,m4a,3gp,3g2,mj2] moov atom not found\n",
      "Error processing video /home/z/Music/st/Kinetics-400/RQ1/VBAD_r3d_18/ZJ78Cpq8Z0E.mp4: [Errno 1094995529] Invalid data found when processing input: '/home/z/Music/st/Kinetics-400/RQ1/VBAD_r3d_18/ZJ78Cpq8Z0E.mp4'; last error log: [mov,mp4,m4a,3gp,3g2,mj2] moov atom not found\n",
      "Error processing video ZJ78Cpq8Z0E: [Errno 1094995529] Invalid data found when processing input: '/home/z/Music/st/Kinetics-400/RQ1/VBAD_r3d_18/ZJ78Cpq8Z0E.mp4'; last error log: [mov,mp4,m4a,3gp,3g2,mj2] moov atom not found\n"
     ]
    },
    {
     "name": "stderr",
     "output_type": "stream",
     "text": [
      "Processing videos:  61%|██████    | 2448/4000 [06:55<04:01,  6.43it/s]Format mov,mp4,m4a,3gp,3g2,mj2 detected only with low score of 1, misdetection possible!\n",
      "moov atom not found\n",
      "Processing videos:  61%|██████▏   | 2450/4000 [06:55<03:08,  8.22it/s]"
     ]
    },
    {
     "name": "stdout",
     "output_type": "stream",
     "text": [
      "Error processing video /home/z/Music/st/Kinetics-400/RQ1/VBAD_r3d_18/6yArlWTxXEM.mp4: [Errno 1094995529] Invalid data found when processing input: '/home/z/Music/st/Kinetics-400/RQ1/VBAD_r3d_18/6yArlWTxXEM.mp4'; last error log: [mov,mp4,m4a,3gp,3g2,mj2] moov atom not found\n",
      "Error processing video 6yArlWTxXEM: [Errno 1094995529] Invalid data found when processing input: '/home/z/Music/st/Kinetics-400/RQ1/VBAD_r3d_18/6yArlWTxXEM.mp4'; last error log: [mov,mp4,m4a,3gp,3g2,mj2] moov atom not found\n"
     ]
    },
    {
     "name": "stderr",
     "output_type": "stream",
     "text": [
      "Processing videos:  61%|██████▏   | 2459/4000 [06:56<04:01,  6.37it/s]Format mov,mp4,m4a,3gp,3g2,mj2 detected only with low score of 1, misdetection possible!\n",
      "moov atom not found\n",
      "Processing videos:  62%|██████▏   | 2461/4000 [06:56<03:07,  8.23it/s]"
     ]
    },
    {
     "name": "stdout",
     "output_type": "stream",
     "text": [
      "Error processing video /home/z/Music/st/Kinetics-400/RQ1/VBAD_r3d_18/AYrr8sn98Mo.mp4: [Errno 1094995529] Invalid data found when processing input: '/home/z/Music/st/Kinetics-400/RQ1/VBAD_r3d_18/AYrr8sn98Mo.mp4'; last error log: [mov,mp4,m4a,3gp,3g2,mj2] moov atom not found\n",
      "Error processing video AYrr8sn98Mo: [Errno 1094995529] Invalid data found when processing input: '/home/z/Music/st/Kinetics-400/RQ1/VBAD_r3d_18/AYrr8sn98Mo.mp4'; last error log: [mov,mp4,m4a,3gp,3g2,mj2] moov atom not found\n"
     ]
    },
    {
     "name": "stderr",
     "output_type": "stream",
     "text": [
      "Processing videos:  62%|██████▏   | 2463/4000 [06:57<03:31,  7.25it/s]Format mov,mp4,m4a,3gp,3g2,mj2 detected only with low score of 1, misdetection possible!\n",
      "moov atom not found\n",
      "Processing videos:  62%|██████▏   | 2465/4000 [06:57<02:53,  8.85it/s]"
     ]
    },
    {
     "name": "stdout",
     "output_type": "stream",
     "text": [
      "Error processing video /home/z/Music/st/Kinetics-400/RQ1/VBAD_r3d_18/qrJQlITbyD0.mp4: [Errno 1094995529] Invalid data found when processing input: '/home/z/Music/st/Kinetics-400/RQ1/VBAD_r3d_18/qrJQlITbyD0.mp4'; last error log: [mov,mp4,m4a,3gp,3g2,mj2] moov atom not found\n",
      "Error processing video qrJQlITbyD0: [Errno 1094995529] Invalid data found when processing input: '/home/z/Music/st/Kinetics-400/RQ1/VBAD_r3d_18/qrJQlITbyD0.mp4'; last error log: [mov,mp4,m4a,3gp,3g2,mj2] moov atom not found\n"
     ]
    },
    {
     "name": "stderr",
     "output_type": "stream",
     "text": [
      "Processing videos:  62%|██████▏   | 2492/4000 [07:01<03:55,  6.39it/s]Format mov,mp4,m4a,3gp,3g2,mj2 detected only with low score of 1, misdetection possible!\n",
      "moov atom not found\n",
      "Processing videos:  62%|██████▏   | 2494/4000 [07:01<03:01,  8.28it/s]"
     ]
    },
    {
     "name": "stdout",
     "output_type": "stream",
     "text": [
      "Error processing video /home/z/Music/st/Kinetics-400/RQ1/VBAD_r3d_18/V9WZjJVtROk.mp4: [Errno 1094995529] Invalid data found when processing input: '/home/z/Music/st/Kinetics-400/RQ1/VBAD_r3d_18/V9WZjJVtROk.mp4'; last error log: [mov,mp4,m4a,3gp,3g2,mj2] moov atom not found\n",
      "Error processing video V9WZjJVtROk: [Errno 1094995529] Invalid data found when processing input: '/home/z/Music/st/Kinetics-400/RQ1/VBAD_r3d_18/V9WZjJVtROk.mp4'; last error log: [mov,mp4,m4a,3gp,3g2,mj2] moov atom not found\n"
     ]
    },
    {
     "name": "stderr",
     "output_type": "stream",
     "text": [
      "Processing videos:  62%|██████▏   | 2499/4000 [07:02<03:46,  6.63it/s]Format mov,mp4,m4a,3gp,3g2,mj2 detected only with low score of 1, misdetection possible!\n",
      "moov atom not found\n",
      "Processing videos:  63%|██████▎   | 2501/4000 [07:02<02:59,  8.36it/s]"
     ]
    },
    {
     "name": "stdout",
     "output_type": "stream",
     "text": [
      "Error processing video /home/z/Music/st/Kinetics-400/RQ1/VBAD_r3d_18/KbMN-k3M2D4.mp4: [Errno 1094995529] Invalid data found when processing input: '/home/z/Music/st/Kinetics-400/RQ1/VBAD_r3d_18/KbMN-k3M2D4.mp4'; last error log: [mov,mp4,m4a,3gp,3g2,mj2] moov atom not found\n",
      "Error processing video KbMN-k3M2D4: [Errno 1094995529] Invalid data found when processing input: '/home/z/Music/st/Kinetics-400/RQ1/VBAD_r3d_18/KbMN-k3M2D4.mp4'; last error log: [mov,mp4,m4a,3gp,3g2,mj2] moov atom not found\n"
     ]
    },
    {
     "name": "stderr",
     "output_type": "stream",
     "text": [
      "Processing videos:  63%|██████▎   | 2513/4000 [07:04<03:56,  6.29it/s]Format mov,mp4,m4a,3gp,3g2,mj2 detected only with low score of 1, misdetection possible!\n",
      "moov atom not found\n",
      "Processing videos:  63%|██████▎   | 2515/4000 [07:04<03:05,  8.01it/s]"
     ]
    },
    {
     "name": "stdout",
     "output_type": "stream",
     "text": [
      "Error processing video /home/z/Music/st/Kinetics-400/RQ1/VBAD_r3d_18/Zj8lvPRmbuw.mp4: [Errno 1094995529] Invalid data found when processing input: '/home/z/Music/st/Kinetics-400/RQ1/VBAD_r3d_18/Zj8lvPRmbuw.mp4'; last error log: [mov,mp4,m4a,3gp,3g2,mj2] moov atom not found\n",
      "Error processing video Zj8lvPRmbuw: [Errno 1094995529] Invalid data found when processing input: '/home/z/Music/st/Kinetics-400/RQ1/VBAD_r3d_18/Zj8lvPRmbuw.mp4'; last error log: [mov,mp4,m4a,3gp,3g2,mj2] moov atom not found\n"
     ]
    },
    {
     "name": "stderr",
     "output_type": "stream",
     "text": [
      "Processing videos:  64%|██████▍   | 2566/4000 [07:13<03:48,  6.29it/s]Format mov,mp4,m4a,3gp,3g2,mj2 detected only with low score of 1, misdetection possible!\n",
      "moov atom not found\n",
      "Processing videos:  64%|██████▍   | 2568/4000 [07:13<02:55,  8.14it/s]"
     ]
    },
    {
     "name": "stdout",
     "output_type": "stream",
     "text": [
      "Error processing video /home/z/Music/st/Kinetics-400/RQ1/VBAD_r3d_18/-DavtY9xgnc.mp4: [Errno 1094995529] Invalid data found when processing input: '/home/z/Music/st/Kinetics-400/RQ1/VBAD_r3d_18/-DavtY9xgnc.mp4'; last error log: [mov,mp4,m4a,3gp,3g2,mj2] moov atom not found\n",
      "Error processing video -DavtY9xgnc: [Errno 1094995529] Invalid data found when processing input: '/home/z/Music/st/Kinetics-400/RQ1/VBAD_r3d_18/-DavtY9xgnc.mp4'; last error log: [mov,mp4,m4a,3gp,3g2,mj2] moov atom not found\n"
     ]
    },
    {
     "name": "stderr",
     "output_type": "stream",
     "text": [
      "Processing videos:  66%|██████▌   | 2628/4000 [07:23<03:40,  6.21it/s]Format mov,mp4,m4a,3gp,3g2,mj2 detected only with low score of 1, misdetection possible!\n",
      "moov atom not found\n",
      "Processing videos:  66%|██████▌   | 2630/4000 [07:23<02:49,  8.09it/s]"
     ]
    },
    {
     "name": "stdout",
     "output_type": "stream",
     "text": [
      "Error processing video /home/z/Music/st/Kinetics-400/RQ1/VBAD_r3d_18/glBkgK8wMJ4.mp4: [Errno 1094995529] Invalid data found when processing input: '/home/z/Music/st/Kinetics-400/RQ1/VBAD_r3d_18/glBkgK8wMJ4.mp4'; last error log: [mov,mp4,m4a,3gp,3g2,mj2] moov atom not found\n",
      "Error processing video glBkgK8wMJ4: [Errno 1094995529] Invalid data found when processing input: '/home/z/Music/st/Kinetics-400/RQ1/VBAD_r3d_18/glBkgK8wMJ4.mp4'; last error log: [mov,mp4,m4a,3gp,3g2,mj2] moov atom not found\n"
     ]
    },
    {
     "name": "stderr",
     "output_type": "stream",
     "text": [
      "Processing videos:  67%|██████▋   | 2690/4000 [07:33<03:28,  6.28it/s]Format mov,mp4,m4a,3gp,3g2,mj2 detected only with low score of 1, misdetection possible!\n",
      "moov atom not found\n"
     ]
    },
    {
     "name": "stdout",
     "output_type": "stream",
     "text": [
      "Error processing video /home/z/Music/st/Kinetics-400/RQ1/VBAD_r3d_18/LqnLzqxrvBs.mp4: [Errno 1094995529] Invalid data found when processing input: '/home/z/Music/st/Kinetics-400/RQ1/VBAD_r3d_18/LqnLzqxrvBs.mp4'; last error log: [mov,mp4,m4a,3gp,3g2,mj2] moov atom not found\n",
      "Error processing video LqnLzqxrvBs: [Errno 1094995529] Invalid data found when processing input: '/home/z/Music/st/Kinetics-400/RQ1/VBAD_r3d_18/LqnLzqxrvBs.mp4'; last error log: [mov,mp4,m4a,3gp,3g2,mj2] moov atom not found\n"
     ]
    },
    {
     "name": "stderr",
     "output_type": "stream",
     "text": [
      "Processing videos:  70%|██████▉   | 2796/4000 [07:53<03:11,  6.28it/s]Format mov,mp4,m4a,3gp,3g2,mj2 detected only with low score of 1, misdetection possible!\n",
      "moov atom not found\n",
      "Processing videos:  70%|██████▉   | 2798/4000 [07:53<02:26,  8.18it/s]"
     ]
    },
    {
     "name": "stdout",
     "output_type": "stream",
     "text": [
      "Error processing video /home/z/Music/st/Kinetics-400/RQ1/VBAD_r3d_18/OY7C31CvuSQ.mp4: [Errno 1094995529] Invalid data found when processing input: '/home/z/Music/st/Kinetics-400/RQ1/VBAD_r3d_18/OY7C31CvuSQ.mp4'; last error log: [mov,mp4,m4a,3gp,3g2,mj2] moov atom not found\n",
      "Error processing video OY7C31CvuSQ: [Errno 1094995529] Invalid data found when processing input: '/home/z/Music/st/Kinetics-400/RQ1/VBAD_r3d_18/OY7C31CvuSQ.mp4'; last error log: [mov,mp4,m4a,3gp,3g2,mj2] moov atom not found\n"
     ]
    },
    {
     "name": "stderr",
     "output_type": "stream",
     "text": [
      "Processing videos:  70%|███████   | 2804/4000 [07:54<03:04,  6.48it/s]Format mov,mp4,m4a,3gp,3g2,mj2 detected only with low score of 1, misdetection possible!\n",
      "moov atom not found\n",
      "Processing videos:  70%|███████   | 2806/4000 [07:54<02:24,  8.28it/s]"
     ]
    },
    {
     "name": "stdout",
     "output_type": "stream",
     "text": [
      "Error processing video /home/z/Music/st/Kinetics-400/RQ1/VBAD_r3d_18/n0O2afbK6hA.mp4: [Errno 1094995529] Invalid data found when processing input: '/home/z/Music/st/Kinetics-400/RQ1/VBAD_r3d_18/n0O2afbK6hA.mp4'; last error log: [mov,mp4,m4a,3gp,3g2,mj2] moov atom not found\n",
      "Error processing video n0O2afbK6hA: [Errno 1094995529] Invalid data found when processing input: '/home/z/Music/st/Kinetics-400/RQ1/VBAD_r3d_18/n0O2afbK6hA.mp4'; last error log: [mov,mp4,m4a,3gp,3g2,mj2] moov atom not found\n"
     ]
    },
    {
     "name": "stderr",
     "output_type": "stream",
     "text": [
      "Processing videos:  74%|███████▎  | 2945/4000 [08:18<02:49,  6.21it/s]Format mov,mp4,m4a,3gp,3g2,mj2 detected only with low score of 1, misdetection possible!\n",
      "moov atom not found\n",
      "Processing videos:  74%|███████▎  | 2947/4000 [08:18<02:10,  8.07it/s]"
     ]
    },
    {
     "name": "stdout",
     "output_type": "stream",
     "text": [
      "Error processing video /home/z/Music/st/Kinetics-400/RQ1/VBAD_r3d_18/nVZrfjhBR1Y.mp4: [Errno 1094995529] Invalid data found when processing input: '/home/z/Music/st/Kinetics-400/RQ1/VBAD_r3d_18/nVZrfjhBR1Y.mp4'; last error log: [mov,mp4,m4a,3gp,3g2,mj2] moov atom not found\n",
      "Error processing video nVZrfjhBR1Y: [Errno 1094995529] Invalid data found when processing input: '/home/z/Music/st/Kinetics-400/RQ1/VBAD_r3d_18/nVZrfjhBR1Y.mp4'; last error log: [mov,mp4,m4a,3gp,3g2,mj2] moov atom not found\n"
     ]
    },
    {
     "name": "stderr",
     "output_type": "stream",
     "text": [
      "Processing videos:  74%|███████▍  | 2950/4000 [08:19<02:52,  6.08it/s]Format mov,mp4,m4a,3gp,3g2,mj2 detected only with low score of 1, misdetection possible!\n",
      "moov atom not found\n"
     ]
    },
    {
     "name": "stdout",
     "output_type": "stream",
     "text": [
      "Error processing video /home/z/Music/st/Kinetics-400/RQ1/VBAD_r3d_18/j4Anoe2ug8k.mp4: [Errno 1094995529] Invalid data found when processing input: '/home/z/Music/st/Kinetics-400/RQ1/VBAD_r3d_18/j4Anoe2ug8k.mp4'; last error log: [mov,mp4,m4a,3gp,3g2,mj2] moov atom not found\n",
      "Error processing video j4Anoe2ug8k: [Errno 1094995529] Invalid data found when processing input: '/home/z/Music/st/Kinetics-400/RQ1/VBAD_r3d_18/j4Anoe2ug8k.mp4'; last error log: [mov,mp4,m4a,3gp,3g2,mj2] moov atom not found\n"
     ]
    },
    {
     "name": "stderr",
     "output_type": "stream",
     "text": [
      "Processing videos:  74%|███████▍  | 2973/4000 [08:23<02:44,  6.23it/s]Format mov,mp4,m4a,3gp,3g2,mj2 detected only with low score of 1, misdetection possible!\n",
      "moov atom not found\n",
      "Processing videos:  74%|███████▍  | 2975/4000 [08:23<02:07,  8.05it/s]"
     ]
    },
    {
     "name": "stdout",
     "output_type": "stream",
     "text": [
      "Error processing video /home/z/Music/st/Kinetics-400/RQ1/VBAD_r3d_18/chIdHt9wR4Q.mp4: [Errno 1094995529] Invalid data found when processing input: '/home/z/Music/st/Kinetics-400/RQ1/VBAD_r3d_18/chIdHt9wR4Q.mp4'; last error log: [mov,mp4,m4a,3gp,3g2,mj2] moov atom not found\n",
      "Error processing video chIdHt9wR4Q: [Errno 1094995529] Invalid data found when processing input: '/home/z/Music/st/Kinetics-400/RQ1/VBAD_r3d_18/chIdHt9wR4Q.mp4'; last error log: [mov,mp4,m4a,3gp,3g2,mj2] moov atom not found\n"
     ]
    },
    {
     "name": "stderr",
     "output_type": "stream",
     "text": [
      "Processing videos:  77%|███████▋  | 3062/4000 [08:38<02:31,  6.21it/s]Format mov,mp4,m4a,3gp,3g2,mj2 detected only with low score of 1, misdetection possible!\n",
      "moov atom not found\n",
      "Processing videos:  77%|███████▋  | 3064/4000 [08:39<01:56,  8.01it/s]"
     ]
    },
    {
     "name": "stdout",
     "output_type": "stream",
     "text": [
      "Error processing video /home/z/Music/st/Kinetics-400/RQ1/VBAD_r3d_18/k6pqBmRAWqs.mp4: [Errno 1094995529] Invalid data found when processing input: '/home/z/Music/st/Kinetics-400/RQ1/VBAD_r3d_18/k6pqBmRAWqs.mp4'; last error log: [mov,mp4,m4a,3gp,3g2,mj2] moov atom not found\n",
      "Error processing video k6pqBmRAWqs: [Errno 1094995529] Invalid data found when processing input: '/home/z/Music/st/Kinetics-400/RQ1/VBAD_r3d_18/k6pqBmRAWqs.mp4'; last error log: [mov,mp4,m4a,3gp,3g2,mj2] moov atom not found\n"
     ]
    },
    {
     "name": "stderr",
     "output_type": "stream",
     "text": [
      "Processing videos:  77%|███████▋  | 3066/4000 [08:39<02:11,  7.11it/s]Format mov,mp4,m4a,3gp,3g2,mj2 detected only with low score of 1, misdetection possible!\n",
      "moov atom not found\n",
      "Processing videos:  77%|███████▋  | 3068/4000 [08:39<01:47,  8.70it/s]"
     ]
    },
    {
     "name": "stdout",
     "output_type": "stream",
     "text": [
      "Error processing video /home/z/Music/st/Kinetics-400/RQ1/VBAD_r3d_18/9EcqYh9VzJ4.mp4: [Errno 1094995529] Invalid data found when processing input: '/home/z/Music/st/Kinetics-400/RQ1/VBAD_r3d_18/9EcqYh9VzJ4.mp4'; last error log: [mov,mp4,m4a,3gp,3g2,mj2] moov atom not found\n",
      "Error processing video 9EcqYh9VzJ4: [Errno 1094995529] Invalid data found when processing input: '/home/z/Music/st/Kinetics-400/RQ1/VBAD_r3d_18/9EcqYh9VzJ4.mp4'; last error log: [mov,mp4,m4a,3gp,3g2,mj2] moov atom not found\n"
     ]
    },
    {
     "name": "stderr",
     "output_type": "stream",
     "text": [
      "Processing videos:  77%|███████▋  | 3075/4000 [08:40<02:23,  6.46it/s]Format mov,mp4,m4a,3gp,3g2,mj2 detected only with low score of 1, misdetection possible!\n",
      "moov atom not found\n",
      "Processing videos:  77%|███████▋  | 3077/4000 [08:40<01:52,  8.23it/s]"
     ]
    },
    {
     "name": "stdout",
     "output_type": "stream",
     "text": [
      "Error processing video /home/z/Music/st/Kinetics-400/RQ1/VBAD_r3d_18/jaB-Eey0now.mp4: [Errno 1094995529] Invalid data found when processing input: '/home/z/Music/st/Kinetics-400/RQ1/VBAD_r3d_18/jaB-Eey0now.mp4'; last error log: [mov,mp4,m4a,3gp,3g2,mj2] moov atom not found\n",
      "Error processing video jaB-Eey0now: [Errno 1094995529] Invalid data found when processing input: '/home/z/Music/st/Kinetics-400/RQ1/VBAD_r3d_18/jaB-Eey0now.mp4'; last error log: [mov,mp4,m4a,3gp,3g2,mj2] moov atom not found\n"
     ]
    },
    {
     "name": "stderr",
     "output_type": "stream",
     "text": [
      "Processing videos:  77%|███████▋  | 3091/4000 [08:43<02:23,  6.32it/s]Format mov,mp4,m4a,3gp,3g2,mj2 detected only with low score of 1, misdetection possible!\n",
      "moov atom not found\n",
      "Processing videos:  77%|███████▋  | 3093/4000 [08:43<01:50,  8.21it/s]"
     ]
    },
    {
     "name": "stdout",
     "output_type": "stream",
     "text": [
      "Error processing video /home/z/Music/st/Kinetics-400/RQ1/VBAD_r3d_18/oIosEbECUo8.mp4: [Errno 1094995529] Invalid data found when processing input: '/home/z/Music/st/Kinetics-400/RQ1/VBAD_r3d_18/oIosEbECUo8.mp4'; last error log: [mov,mp4,m4a,3gp,3g2,mj2] moov atom not found\n",
      "Error processing video oIosEbECUo8: [Errno 1094995529] Invalid data found when processing input: '/home/z/Music/st/Kinetics-400/RQ1/VBAD_r3d_18/oIosEbECUo8.mp4'; last error log: [mov,mp4,m4a,3gp,3g2,mj2] moov atom not found\n"
     ]
    },
    {
     "name": "stderr",
     "output_type": "stream",
     "text": [
      "Processing videos:  78%|███████▊  | 3102/4000 [08:45<03:47,  3.95it/s]Format mov,mp4,m4a,3gp,3g2,mj2 detected only with low score of 1, misdetection possible!\n",
      "moov atom not found\n",
      "Processing videos:  78%|███████▊  | 3104/4000 [08:45<02:35,  5.75it/s]"
     ]
    },
    {
     "name": "stdout",
     "output_type": "stream",
     "text": [
      "Error processing video /home/z/Music/st/Kinetics-400/RQ1/VBAD_r3d_18/1VfEeERUGKM.mp4: [Errno 1094995529] Invalid data found when processing input: '/home/z/Music/st/Kinetics-400/RQ1/VBAD_r3d_18/1VfEeERUGKM.mp4'; last error log: [mov,mp4,m4a,3gp,3g2,mj2] moov atom not found\n",
      "Error processing video 1VfEeERUGKM: [Errno 1094995529] Invalid data found when processing input: '/home/z/Music/st/Kinetics-400/RQ1/VBAD_r3d_18/1VfEeERUGKM.mp4'; last error log: [mov,mp4,m4a,3gp,3g2,mj2] moov atom not found\n"
     ]
    },
    {
     "name": "stderr",
     "output_type": "stream",
     "text": [
      "Processing videos:  79%|███████▊  | 3143/4000 [08:53<02:29,  5.73it/s]Format mov,mp4,m4a,3gp,3g2,mj2 detected only with low score of 1, misdetection possible!\n",
      "moov atom not found\n",
      "Processing videos:  79%|███████▊  | 3145/4000 [08:53<01:51,  7.64it/s]"
     ]
    },
    {
     "name": "stdout",
     "output_type": "stream",
     "text": [
      "Error processing video /home/z/Music/st/Kinetics-400/RQ1/VBAD_r3d_18/kOjkB7i1igc.mp4: [Errno 1094995529] Invalid data found when processing input: '/home/z/Music/st/Kinetics-400/RQ1/VBAD_r3d_18/kOjkB7i1igc.mp4'; last error log: [mov,mp4,m4a,3gp,3g2,mj2] moov atom not found\n",
      "Error processing video kOjkB7i1igc: [Errno 1094995529] Invalid data found when processing input: '/home/z/Music/st/Kinetics-400/RQ1/VBAD_r3d_18/kOjkB7i1igc.mp4'; last error log: [mov,mp4,m4a,3gp,3g2,mj2] moov atom not found\n"
     ]
    },
    {
     "name": "stderr",
     "output_type": "stream",
     "text": [
      "Processing videos:  79%|███████▉  | 3156/4000 [08:55<03:03,  4.59it/s]Format mov,mp4,m4a,3gp,3g2,mj2 detected only with low score of 1, misdetection possible!\n",
      "moov atom not found\n",
      "Processing videos:  79%|███████▉  | 3158/4000 [08:55<02:10,  6.46it/s]"
     ]
    },
    {
     "name": "stdout",
     "output_type": "stream",
     "text": [
      "Error processing video /home/z/Music/st/Kinetics-400/RQ1/VBAD_r3d_18/_aeY4zxxbk4.mp4: [Errno 1094995529] Invalid data found when processing input: '/home/z/Music/st/Kinetics-400/RQ1/VBAD_r3d_18/_aeY4zxxbk4.mp4'; last error log: [mov,mp4,m4a,3gp,3g2,mj2] moov atom not found\n",
      "Error processing video _aeY4zxxbk4: [Errno 1094995529] Invalid data found when processing input: '/home/z/Music/st/Kinetics-400/RQ1/VBAD_r3d_18/_aeY4zxxbk4.mp4'; last error log: [mov,mp4,m4a,3gp,3g2,mj2] moov atom not found\n"
     ]
    },
    {
     "name": "stderr",
     "output_type": "stream",
     "text": [
      "Processing videos:  81%|████████  | 3245/4000 [09:09<02:15,  5.56it/s]Format mov,mp4,m4a,3gp,3g2,mj2 detected only with low score of 1, misdetection possible!\n",
      "moov atom not found\n",
      "Processing videos:  81%|████████  | 3247/4000 [09:09<01:43,  7.25it/s]Format mov,mp4,m4a,3gp,3g2,mj2 detected only with low score of 1, misdetection possible!\n",
      "moov atom not found\n"
     ]
    },
    {
     "name": "stdout",
     "output_type": "stream",
     "text": [
      "Error processing video /home/z/Music/st/Kinetics-400/RQ1/VBAD_r3d_18/H2XPyyYHuFg.mp4: [Errno 1094995529] Invalid data found when processing input: '/home/z/Music/st/Kinetics-400/RQ1/VBAD_r3d_18/H2XPyyYHuFg.mp4'; last error log: [mov,mp4,m4a,3gp,3g2,mj2] moov atom not found\n",
      "Error processing video H2XPyyYHuFg: [Errno 1094995529] Invalid data found when processing input: '/home/z/Music/st/Kinetics-400/RQ1/VBAD_r3d_18/H2XPyyYHuFg.mp4'; last error log: [mov,mp4,m4a,3gp,3g2,mj2] moov atom not found\n",
      "Error processing video /home/z/Music/st/Kinetics-400/RQ1/VBAD_r3d_18/XyV8ONkQs-8.mp4: [Errno 1094995529] Invalid data found when processing input: '/home/z/Music/st/Kinetics-400/RQ1/VBAD_r3d_18/XyV8ONkQs-8.mp4'; last error log: [mov,mp4,m4a,3gp,3g2,mj2] moov atom not found\n",
      "Error processing video XyV8ONkQs-8: [Errno 1094995529] Invalid data found when processing input: '/home/z/Music/st/Kinetics-400/RQ1/VBAD_r3d_18/XyV8ONkQs-8.mp4'; last error log: [mov,mp4,m4a,3gp,3g2,mj2] moov atom not found\n"
     ]
    },
    {
     "name": "stderr",
     "output_type": "stream",
     "text": [
      "Processing videos:  81%|████████  | 3249/4000 [09:10<01:26,  8.71it/s]Format mov,mp4,m4a,3gp,3g2,mj2 detected only with low score of 1, misdetection possible!\n",
      "moov atom not found\n",
      "Processing videos:  81%|████████▏ | 3251/4000 [09:10<01:17,  9.70it/s]"
     ]
    },
    {
     "name": "stdout",
     "output_type": "stream",
     "text": [
      "Error processing video /home/z/Music/st/Kinetics-400/RQ1/VBAD_r3d_18/8jtJmMQBAIw.mp4: [Errno 1094995529] Invalid data found when processing input: '/home/z/Music/st/Kinetics-400/RQ1/VBAD_r3d_18/8jtJmMQBAIw.mp4'; last error log: [mov,mp4,m4a,3gp,3g2,mj2] moov atom not found\n",
      "Error processing video 8jtJmMQBAIw: [Errno 1094995529] Invalid data found when processing input: '/home/z/Music/st/Kinetics-400/RQ1/VBAD_r3d_18/8jtJmMQBAIw.mp4'; last error log: [mov,mp4,m4a,3gp,3g2,mj2] moov atom not found\n"
     ]
    },
    {
     "name": "stderr",
     "output_type": "stream",
     "text": [
      "Processing videos:  82%|████████▏ | 3297/4000 [09:18<01:52,  6.25it/s]Format mov,mp4,m4a,3gp,3g2,mj2 detected only with low score of 1, misdetection possible!\n",
      "moov atom not found\n",
      "Processing videos:  82%|████████▏ | 3299/4000 [09:18<01:29,  7.82it/s]"
     ]
    },
    {
     "name": "stdout",
     "output_type": "stream",
     "text": [
      "Error processing video /home/z/Music/st/Kinetics-400/RQ1/VBAD_r3d_18/7mhUfMvwcjc.mp4: [Errno 1094995529] Invalid data found when processing input: '/home/z/Music/st/Kinetics-400/RQ1/VBAD_r3d_18/7mhUfMvwcjc.mp4'; last error log: [mov,mp4,m4a,3gp,3g2,mj2] moov atom not found\n",
      "Error processing video 7mhUfMvwcjc: [Errno 1094995529] Invalid data found when processing input: '/home/z/Music/st/Kinetics-400/RQ1/VBAD_r3d_18/7mhUfMvwcjc.mp4'; last error log: [mov,mp4,m4a,3gp,3g2,mj2] moov atom not found\n"
     ]
    },
    {
     "name": "stderr",
     "output_type": "stream",
     "text": [
      "Processing videos:  83%|████████▎ | 3314/4000 [09:21<02:19,  4.91it/s]Format mov,mp4,m4a,3gp,3g2,mj2 detected only with low score of 1, misdetection possible!\n",
      "moov atom not found\n",
      "Processing videos:  83%|████████▎ | 3316/4000 [09:21<01:40,  6.78it/s]"
     ]
    },
    {
     "name": "stdout",
     "output_type": "stream",
     "text": [
      "Error processing video /home/z/Music/st/Kinetics-400/RQ1/VBAD_r3d_18/xzYQRpEeSJk.mp4: [Errno 1094995529] Invalid data found when processing input: '/home/z/Music/st/Kinetics-400/RQ1/VBAD_r3d_18/xzYQRpEeSJk.mp4'; last error log: [mov,mp4,m4a,3gp,3g2,mj2] moov atom not found\n",
      "Error processing video xzYQRpEeSJk: [Errno 1094995529] Invalid data found when processing input: '/home/z/Music/st/Kinetics-400/RQ1/VBAD_r3d_18/xzYQRpEeSJk.mp4'; last error log: [mov,mp4,m4a,3gp,3g2,mj2] moov atom not found\n"
     ]
    },
    {
     "name": "stderr",
     "output_type": "stream",
     "text": [
      "Processing videos:  83%|████████▎ | 3317/4000 [09:21<01:43,  6.62it/s]Format mov,mp4,m4a,3gp,3g2,mj2 detected only with low score of 1, misdetection possible!\n",
      "moov atom not found\n",
      "Processing videos:  83%|████████▎ | 3319/4000 [09:21<01:22,  8.26it/s]"
     ]
    },
    {
     "name": "stdout",
     "output_type": "stream",
     "text": [
      "Error processing video /home/z/Music/st/Kinetics-400/RQ1/VBAD_r3d_18/Z02k8AiCRpw.mp4: [Errno 1094995529] Invalid data found when processing input: '/home/z/Music/st/Kinetics-400/RQ1/VBAD_r3d_18/Z02k8AiCRpw.mp4'; last error log: [mov,mp4,m4a,3gp,3g2,mj2] moov atom not found\n",
      "Error processing video Z02k8AiCRpw: [Errno 1094995529] Invalid data found when processing input: '/home/z/Music/st/Kinetics-400/RQ1/VBAD_r3d_18/Z02k8AiCRpw.mp4'; last error log: [mov,mp4,m4a,3gp,3g2,mj2] moov atom not found\n"
     ]
    },
    {
     "name": "stderr",
     "output_type": "stream",
     "text": [
      "Processing videos:  84%|████████▍ | 3351/4000 [09:28<01:49,  5.93it/s]Format mov,mp4,m4a,3gp,3g2,mj2 detected only with low score of 1, misdetection possible!\n",
      "moov atom not found\n",
      "Processing videos:  84%|████████▍ | 3353/4000 [09:28<01:23,  7.76it/s]"
     ]
    },
    {
     "name": "stdout",
     "output_type": "stream",
     "text": [
      "Error processing video /home/z/Music/st/Kinetics-400/RQ1/VBAD_r3d_18/b2KnqbubIB8.mp4: [Errno 1094995529] Invalid data found when processing input: '/home/z/Music/st/Kinetics-400/RQ1/VBAD_r3d_18/b2KnqbubIB8.mp4'; last error log: [mov,mp4,m4a,3gp,3g2,mj2] moov atom not found\n",
      "Error processing video b2KnqbubIB8: [Errno 1094995529] Invalid data found when processing input: '/home/z/Music/st/Kinetics-400/RQ1/VBAD_r3d_18/b2KnqbubIB8.mp4'; last error log: [mov,mp4,m4a,3gp,3g2,mj2] moov atom not found\n"
     ]
    },
    {
     "name": "stderr",
     "output_type": "stream",
     "text": [
      "Processing videos:  84%|████████▍ | 3364/4000 [09:30<01:40,  6.31it/s]Format mov,mp4,m4a,3gp,3g2,mj2 detected only with low score of 1, misdetection possible!\n",
      "moov atom not found\n",
      "Processing videos:  84%|████████▍ | 3366/4000 [09:30<01:17,  8.23it/s]"
     ]
    },
    {
     "name": "stdout",
     "output_type": "stream",
     "text": [
      "Error processing video /home/z/Music/st/Kinetics-400/RQ1/VBAD_r3d_18/BieCxR3Z3UQ.mp4: [Errno 1094995529] Invalid data found when processing input: '/home/z/Music/st/Kinetics-400/RQ1/VBAD_r3d_18/BieCxR3Z3UQ.mp4'; last error log: [mov,mp4,m4a,3gp,3g2,mj2] moov atom not found\n",
      "Error processing video BieCxR3Z3UQ: [Errno 1094995529] Invalid data found when processing input: '/home/z/Music/st/Kinetics-400/RQ1/VBAD_r3d_18/BieCxR3Z3UQ.mp4'; last error log: [mov,mp4,m4a,3gp,3g2,mj2] moov atom not found\n"
     ]
    },
    {
     "name": "stderr",
     "output_type": "stream",
     "text": [
      "Processing videos:  85%|████████▍ | 3394/4000 [09:35<01:37,  6.21it/s]Format mov,mp4,m4a,3gp,3g2,mj2 detected only with low score of 1, misdetection possible!\n",
      "moov atom not found\n",
      "Processing videos:  85%|████████▍ | 3396/4000 [09:35<01:14,  8.08it/s]Format mov,mp4,m4a,3gp,3g2,mj2 detected only with low score of 1, misdetection possible!\n",
      "moov atom not found\n"
     ]
    },
    {
     "name": "stdout",
     "output_type": "stream",
     "text": [
      "Error processing video /home/z/Music/st/Kinetics-400/RQ1/VBAD_r3d_18/SHwynLqv_tk.mp4: [Errno 1094995529] Invalid data found when processing input: '/home/z/Music/st/Kinetics-400/RQ1/VBAD_r3d_18/SHwynLqv_tk.mp4'; last error log: [mov,mp4,m4a,3gp,3g2,mj2] moov atom not found\n",
      "Error processing video SHwynLqv_tk: [Errno 1094995529] Invalid data found when processing input: '/home/z/Music/st/Kinetics-400/RQ1/VBAD_r3d_18/SHwynLqv_tk.mp4'; last error log: [mov,mp4,m4a,3gp,3g2,mj2] moov atom not found\n",
      "Error processing video /home/z/Music/st/Kinetics-400/RQ1/VBAD_r3d_18/usHuufTQ1P0.mp4: [Errno 1094995529] Invalid data found when processing input: '/home/z/Music/st/Kinetics-400/RQ1/VBAD_r3d_18/usHuufTQ1P0.mp4'; last error log: [mov,mp4,m4a,3gp,3g2,mj2] moov atom not found\n",
      "Error processing video usHuufTQ1P0: [Errno 1094995529] Invalid data found when processing input: '/home/z/Music/st/Kinetics-400/RQ1/VBAD_r3d_18/usHuufTQ1P0.mp4'; last error log: [mov,mp4,m4a,3gp,3g2,mj2] moov atom not found\n"
     ]
    },
    {
     "name": "stderr",
     "output_type": "stream",
     "text": [
      "Processing videos:  86%|████████▌ | 3427/4000 [09:40<01:32,  6.17it/s]Format mov,mp4,m4a,3gp,3g2,mj2 detected only with low score of 1, misdetection possible!\n",
      "moov atom not found\n",
      "Processing videos:  86%|████████▌ | 3429/4000 [09:40<01:11,  8.00it/s]"
     ]
    },
    {
     "name": "stdout",
     "output_type": "stream",
     "text": [
      "Error processing video /home/z/Music/st/Kinetics-400/RQ1/VBAD_r3d_18/Xxj0Gl6b_aQ.mp4: [Errno 1094995529] Invalid data found when processing input: '/home/z/Music/st/Kinetics-400/RQ1/VBAD_r3d_18/Xxj0Gl6b_aQ.mp4'; last error log: [mov,mp4,m4a,3gp,3g2,mj2] moov atom not found\n",
      "Error processing video Xxj0Gl6b_aQ: [Errno 1094995529] Invalid data found when processing input: '/home/z/Music/st/Kinetics-400/RQ1/VBAD_r3d_18/Xxj0Gl6b_aQ.mp4'; last error log: [mov,mp4,m4a,3gp,3g2,mj2] moov atom not found\n"
     ]
    },
    {
     "name": "stderr",
     "output_type": "stream",
     "text": [
      "Processing videos:  86%|████████▌ | 3437/4000 [09:41<01:29,  6.29it/s]Format mov,mp4,m4a,3gp,3g2,mj2 detected only with low score of 1, misdetection possible!\n",
      "moov atom not found\n",
      "Processing videos:  86%|████████▌ | 3439/4000 [09:41<01:09,  8.05it/s]"
     ]
    },
    {
     "name": "stdout",
     "output_type": "stream",
     "text": [
      "Error processing video /home/z/Music/st/Kinetics-400/RQ1/VBAD_r3d_18/YFVR5y_EtH8.mp4: [Errno 1094995529] Invalid data found when processing input: '/home/z/Music/st/Kinetics-400/RQ1/VBAD_r3d_18/YFVR5y_EtH8.mp4'; last error log: [mov,mp4,m4a,3gp,3g2,mj2] moov atom not found\n",
      "Error processing video YFVR5y_EtH8: [Errno 1094995529] Invalid data found when processing input: '/home/z/Music/st/Kinetics-400/RQ1/VBAD_r3d_18/YFVR5y_EtH8.mp4'; last error log: [mov,mp4,m4a,3gp,3g2,mj2] moov atom not found\n"
     ]
    },
    {
     "name": "stderr",
     "output_type": "stream",
     "text": [
      "Processing videos:  87%|████████▋ | 3461/4000 [09:46<02:17,  3.92it/s]Format mov,mp4,m4a,3gp,3g2,mj2 detected only with low score of 1, misdetection possible!\n",
      "moov atom not found\n",
      "Processing videos:  87%|████████▋ | 3463/4000 [09:46<01:32,  5.83it/s]"
     ]
    },
    {
     "name": "stdout",
     "output_type": "stream",
     "text": [
      "Error processing video /home/z/Music/st/Kinetics-400/RQ1/VBAD_r3d_18/1um4PJe41wY.mp4: [Errno 1094995529] Invalid data found when processing input: '/home/z/Music/st/Kinetics-400/RQ1/VBAD_r3d_18/1um4PJe41wY.mp4'; last error log: [mov,mp4,m4a,3gp,3g2,mj2] moov atom not found\n",
      "Error processing video 1um4PJe41wY: [Errno 1094995529] Invalid data found when processing input: '/home/z/Music/st/Kinetics-400/RQ1/VBAD_r3d_18/1um4PJe41wY.mp4'; last error log: [mov,mp4,m4a,3gp,3g2,mj2] moov atom not found\n"
     ]
    },
    {
     "name": "stderr",
     "output_type": "stream",
     "text": [
      "Processing videos:  87%|████████▋ | 3490/4000 [09:51<01:22,  6.15it/s]Format mov,mp4,m4a,3gp,3g2,mj2 detected only with low score of 1, misdetection possible!\n",
      "moov atom not found\n",
      "Processing videos:  87%|████████▋ | 3492/4000 [09:51<01:03,  8.04it/s]"
     ]
    },
    {
     "name": "stdout",
     "output_type": "stream",
     "text": [
      "Error processing video /home/z/Music/st/Kinetics-400/RQ1/VBAD_r3d_18/ZA7Zf0LdIEI.mp4: [Errno 1094995529] Invalid data found when processing input: '/home/z/Music/st/Kinetics-400/RQ1/VBAD_r3d_18/ZA7Zf0LdIEI.mp4'; last error log: [mov,mp4,m4a,3gp,3g2,mj2] moov atom not found\n",
      "Error processing video ZA7Zf0LdIEI: [Errno 1094995529] Invalid data found when processing input: '/home/z/Music/st/Kinetics-400/RQ1/VBAD_r3d_18/ZA7Zf0LdIEI.mp4'; last error log: [mov,mp4,m4a,3gp,3g2,mj2] moov atom not found\n"
     ]
    },
    {
     "name": "stderr",
     "output_type": "stream",
     "text": [
      "Processing videos:  88%|████████▊ | 3509/4000 [09:54<01:18,  6.22it/s]Format mov,mp4,m4a,3gp,3g2,mj2 detected only with low score of 1, misdetection possible!\n",
      "moov atom not found\n",
      "Processing videos:  88%|████████▊ | 3511/4000 [09:54<01:00,  8.08it/s]"
     ]
    },
    {
     "name": "stdout",
     "output_type": "stream",
     "text": [
      "Error processing video /home/z/Music/st/Kinetics-400/RQ1/VBAD_r3d_18/1ZWgSgfV_0k.mp4: [Errno 1094995529] Invalid data found when processing input: '/home/z/Music/st/Kinetics-400/RQ1/VBAD_r3d_18/1ZWgSgfV_0k.mp4'; last error log: [mov,mp4,m4a,3gp,3g2,mj2] moov atom not found\n",
      "Error processing video 1ZWgSgfV_0k: [Errno 1094995529] Invalid data found when processing input: '/home/z/Music/st/Kinetics-400/RQ1/VBAD_r3d_18/1ZWgSgfV_0k.mp4'; last error log: [mov,mp4,m4a,3gp,3g2,mj2] moov atom not found\n"
     ]
    },
    {
     "name": "stderr",
     "output_type": "stream",
     "text": [
      "Processing videos:  89%|████████▊ | 3543/4000 [09:59<01:13,  6.26it/s]Format mov,mp4,m4a,3gp,3g2,mj2 detected only with low score of 1, misdetection possible!\n",
      "moov atom not found\n",
      "Processing videos:  89%|████████▊ | 3545/4000 [09:59<00:55,  8.15it/s]"
     ]
    },
    {
     "name": "stdout",
     "output_type": "stream",
     "text": [
      "Error processing video /home/z/Music/st/Kinetics-400/RQ1/VBAD_r3d_18/QRGX-emNGKU.mp4: [Errno 1094995529] Invalid data found when processing input: '/home/z/Music/st/Kinetics-400/RQ1/VBAD_r3d_18/QRGX-emNGKU.mp4'; last error log: [mov,mp4,m4a,3gp,3g2,mj2] moov atom not found\n",
      "Error processing video QRGX-emNGKU: [Errno 1094995529] Invalid data found when processing input: '/home/z/Music/st/Kinetics-400/RQ1/VBAD_r3d_18/QRGX-emNGKU.mp4'; last error log: [mov,mp4,m4a,3gp,3g2,mj2] moov atom not found\n"
     ]
    },
    {
     "name": "stderr",
     "output_type": "stream",
     "text": [
      "Processing videos:  89%|████████▉ | 3561/4000 [10:02<01:09,  6.33it/s]Format mov,mp4,m4a,3gp,3g2,mj2 detected only with low score of 1, misdetection possible!\n",
      "moov atom not found\n",
      "Processing videos:  89%|████████▉ | 3563/4000 [10:02<00:53,  8.16it/s]"
     ]
    },
    {
     "name": "stdout",
     "output_type": "stream",
     "text": [
      "Error processing video /home/z/Music/st/Kinetics-400/RQ1/VBAD_r3d_18/AnHpZkIXeE8.mp4: [Errno 1094995529] Invalid data found when processing input: '/home/z/Music/st/Kinetics-400/RQ1/VBAD_r3d_18/AnHpZkIXeE8.mp4'; last error log: [mov,mp4,m4a,3gp,3g2,mj2] moov atom not found\n",
      "Error processing video AnHpZkIXeE8: [Errno 1094995529] Invalid data found when processing input: '/home/z/Music/st/Kinetics-400/RQ1/VBAD_r3d_18/AnHpZkIXeE8.mp4'; last error log: [mov,mp4,m4a,3gp,3g2,mj2] moov atom not found\n"
     ]
    },
    {
     "name": "stderr",
     "output_type": "stream",
     "text": [
      "Processing videos:  90%|████████▉ | 3580/4000 [10:05<01:15,  5.57it/s]Format mov,mp4,m4a,3gp,3g2,mj2 detected only with low score of 1, misdetection possible!\n",
      "moov atom not found\n",
      "Processing videos:  90%|████████▉ | 3582/4000 [10:05<00:56,  7.39it/s]"
     ]
    },
    {
     "name": "stdout",
     "output_type": "stream",
     "text": [
      "Error processing video /home/z/Music/st/Kinetics-400/RQ1/VBAD_r3d_18/2vZAl9Ylt64.mp4: [Errno 1094995529] Invalid data found when processing input: '/home/z/Music/st/Kinetics-400/RQ1/VBAD_r3d_18/2vZAl9Ylt64.mp4'; last error log: [mov,mp4,m4a,3gp,3g2,mj2] moov atom not found\n",
      "Error processing video 2vZAl9Ylt64: [Errno 1094995529] Invalid data found when processing input: '/home/z/Music/st/Kinetics-400/RQ1/VBAD_r3d_18/2vZAl9Ylt64.mp4'; last error log: [mov,mp4,m4a,3gp,3g2,mj2] moov atom not found\n"
     ]
    },
    {
     "name": "stderr",
     "output_type": "stream",
     "text": [
      "Processing videos:  90%|████████▉ | 3594/4000 [10:07<01:04,  6.25it/s]Format mov,mp4,m4a,3gp,3g2,mj2 detected only with low score of 1, misdetection possible!\n",
      "moov atom not found\n",
      "Processing videos:  90%|████████▉ | 3596/4000 [10:07<00:49,  8.10it/s]"
     ]
    },
    {
     "name": "stdout",
     "output_type": "stream",
     "text": [
      "Error processing video /home/z/Music/st/Kinetics-400/RQ1/VBAD_r3d_18/IgE3g3HyUE4.mp4: [Errno 1094995529] Invalid data found when processing input: '/home/z/Music/st/Kinetics-400/RQ1/VBAD_r3d_18/IgE3g3HyUE4.mp4'; last error log: [mov,mp4,m4a,3gp,3g2,mj2] moov atom not found\n",
      "Error processing video IgE3g3HyUE4: [Errno 1094995529] Invalid data found when processing input: '/home/z/Music/st/Kinetics-400/RQ1/VBAD_r3d_18/IgE3g3HyUE4.mp4'; last error log: [mov,mp4,m4a,3gp,3g2,mj2] moov atom not found\n"
     ]
    },
    {
     "name": "stderr",
     "output_type": "stream",
     "text": [
      "Processing videos:  92%|█████████▏| 3671/4000 [10:19<00:53,  6.14it/s]Format mov,mp4,m4a,3gp,3g2,mj2 detected only with low score of 1, misdetection possible!\n",
      "moov atom not found\n",
      "Processing videos:  92%|█████████▏| 3673/4000 [10:19<00:40,  8.07it/s]"
     ]
    },
    {
     "name": "stdout",
     "output_type": "stream",
     "text": [
      "Error processing video /home/z/Music/st/Kinetics-400/RQ1/VBAD_r3d_18/g0AmzoZYSq0.mp4: [Errno 1094995529] Invalid data found when processing input: '/home/z/Music/st/Kinetics-400/RQ1/VBAD_r3d_18/g0AmzoZYSq0.mp4'; last error log: [mov,mp4,m4a,3gp,3g2,mj2] moov atom not found\n",
      "Error processing video g0AmzoZYSq0: [Errno 1094995529] Invalid data found when processing input: '/home/z/Music/st/Kinetics-400/RQ1/VBAD_r3d_18/g0AmzoZYSq0.mp4'; last error log: [mov,mp4,m4a,3gp,3g2,mj2] moov atom not found\n"
     ]
    },
    {
     "name": "stderr",
     "output_type": "stream",
     "text": [
      "Processing videos:  93%|█████████▎| 3721/4000 [10:27<00:55,  5.06it/s]Format mov,mp4,m4a,3gp,3g2,mj2 detected only with low score of 1, misdetection possible!\n",
      "moov atom not found\n",
      "Processing videos:  93%|█████████▎| 3723/4000 [10:27<00:39,  6.94it/s]"
     ]
    },
    {
     "name": "stdout",
     "output_type": "stream",
     "text": [
      "Error processing video /home/z/Music/st/Kinetics-400/RQ1/VBAD_r3d_18/-Gio3hF5OA0.mp4: [Errno 1094995529] Invalid data found when processing input: '/home/z/Music/st/Kinetics-400/RQ1/VBAD_r3d_18/-Gio3hF5OA0.mp4'; last error log: [mov,mp4,m4a,3gp,3g2,mj2] moov atom not found\n",
      "Error processing video -Gio3hF5OA0: [Errno 1094995529] Invalid data found when processing input: '/home/z/Music/st/Kinetics-400/RQ1/VBAD_r3d_18/-Gio3hF5OA0.mp4'; last error log: [mov,mp4,m4a,3gp,3g2,mj2] moov atom not found\n"
     ]
    },
    {
     "name": "stderr",
     "output_type": "stream",
     "text": [
      "Processing videos:  95%|█████████▌| 3806/4000 [10:42<00:43,  4.48it/s]Format mov,mp4,m4a,3gp,3g2,mj2 detected only with low score of 1, misdetection possible!\n",
      "moov atom not found\n"
     ]
    },
    {
     "name": "stdout",
     "output_type": "stream",
     "text": [
      "Error processing video /home/z/Music/st/Kinetics-400/RQ1/VBAD_r3d_18/E3FG1SdjzVk.mp4: [Errno 1094995529] Invalid data found when processing input: '/home/z/Music/st/Kinetics-400/RQ1/VBAD_r3d_18/E3FG1SdjzVk.mp4'; last error log: [mov,mp4,m4a,3gp,3g2,mj2] moov atom not found\n",
      "Error processing video E3FG1SdjzVk: [Errno 1094995529] Invalid data found when processing input: '/home/z/Music/st/Kinetics-400/RQ1/VBAD_r3d_18/E3FG1SdjzVk.mp4'; last error log: [mov,mp4,m4a,3gp,3g2,mj2] moov atom not found\n"
     ]
    },
    {
     "name": "stderr",
     "output_type": "stream",
     "text": [
      "Processing videos:  97%|█████████▋| 3886/4000 [10:55<00:18,  6.27it/s]Format mov,mp4,m4a,3gp,3g2,mj2 detected only with low score of 1, misdetection possible!\n",
      "moov atom not found\n",
      "Processing videos:  97%|█████████▋| 3888/4000 [10:55<00:13,  8.12it/s]"
     ]
    },
    {
     "name": "stdout",
     "output_type": "stream",
     "text": [
      "Error processing video /home/z/Music/st/Kinetics-400/RQ1/VBAD_r3d_18/wjb2XoeM28M.mp4: [Errno 1094995529] Invalid data found when processing input: '/home/z/Music/st/Kinetics-400/RQ1/VBAD_r3d_18/wjb2XoeM28M.mp4'; last error log: [mov,mp4,m4a,3gp,3g2,mj2] moov atom not found\n",
      "Error processing video wjb2XoeM28M: [Errno 1094995529] Invalid data found when processing input: '/home/z/Music/st/Kinetics-400/RQ1/VBAD_r3d_18/wjb2XoeM28M.mp4'; last error log: [mov,mp4,m4a,3gp,3g2,mj2] moov atom not found\n"
     ]
    },
    {
     "name": "stderr",
     "output_type": "stream",
     "text": [
      "Processing videos: 100%|█████████▉| 3993/4000 [11:15<00:01,  6.09it/s]Format mov,mp4,m4a,3gp,3g2,mj2 detected only with low score of 1, misdetection possible!\n",
      "moov atom not found\n",
      "Processing videos: 100%|█████████▉| 3995/4000 [11:15<00:00,  7.97it/s]"
     ]
    },
    {
     "name": "stdout",
     "output_type": "stream",
     "text": [
      "Error processing video /home/z/Music/st/Kinetics-400/RQ1/VBAD_r3d_18/gZtIGav0u9c.mp4: [Errno 1094995529] Invalid data found when processing input: '/home/z/Music/st/Kinetics-400/RQ1/VBAD_r3d_18/gZtIGav0u9c.mp4'; last error log: [mov,mp4,m4a,3gp,3g2,mj2] moov atom not found\n",
      "Error processing video gZtIGav0u9c: [Errno 1094995529] Invalid data found when processing input: '/home/z/Music/st/Kinetics-400/RQ1/VBAD_r3d_18/gZtIGav0u9c.mp4'; last error log: [mov,mp4,m4a,3gp,3g2,mj2] moov atom not found\n"
     ]
    },
    {
     "name": "stderr",
     "output_type": "stream",
     "text": [
      "Processing videos: 100%|█████████▉| 3998/4000 [11:16<00:00,  7.00it/s]Format mov,mp4,m4a,3gp,3g2,mj2 detected only with low score of 1, misdetection possible!\n",
      "moov atom not found\n",
      "Processing videos: 100%|██████████| 4000/4000 [11:16<00:00,  5.91it/s]\n",
      "/home/z/miniconda3/envs/mmxai/lib/python3.12/site-packages/sklearn/metrics/_classification.py:1509: UndefinedMetricWarning: Precision is ill-defined and being set to 0.0 in labels with no predicted samples. Use `zero_division` parameter to control this behavior.\n",
      "  _warn_prf(average, modifier, f\"{metric.capitalize()} is\", len(result))\n"
     ]
    },
    {
     "name": "stdout",
     "output_type": "stream",
     "text": [
      "Error processing video /home/z/Music/st/Kinetics-400/RQ1/VBAD_r3d_18/OyO-B-omyS0.mp4: [Errno 1094995529] Invalid data found when processing input: '/home/z/Music/st/Kinetics-400/RQ1/VBAD_r3d_18/OyO-B-omyS0.mp4'; last error log: [mov,mp4,m4a,3gp,3g2,mj2] moov atom not found\n",
      "Error processing video OyO-B-omyS0: [Errno 1094995529] Invalid data found when processing input: '/home/z/Music/st/Kinetics-400/RQ1/VBAD_r3d_18/OyO-B-omyS0.mp4'; last error log: [mov,mp4,m4a,3gp,3g2,mj2] moov atom not found\n",
      "\n",
      "Processing completed with 102 errors\n",
      "\n",
      "Performance Metrics:\n",
      "Total samples processed: 3898\n",
      "Accuracy: 0.1916\n",
      "Precision: 0.3259\n",
      "Recall: 0.1916\n",
      "F1 Score: 0.1986\n",
      "Average Confidence: 0.4212\n",
      "\n",
      "Results saved to: /home/z/Music/st/Kinetics-400/RQ4/evaluationR3D\n"
     ]
    }
   ],
   "source": [
    "import torch\n",
    "import av\n",
    "import numpy as np\n",
    "from tqdm import tqdm\n",
    "import os\n",
    "import json\n",
    "from datetime import datetime\n",
    "import pathlib\n",
    "from transformers import TimesformerForVideoClassification, AutoImageProcessor\n",
    "from sklearn.metrics import precision_recall_fscore_support, accuracy_score, confusion_matrix\n",
    "import glob\n",
    "import seaborn as sns\n",
    "import matplotlib.pyplot as plt\n",
    "\n",
    "def load_video_frames(video_path, num_frames=8):\n",
    "    \"\"\"\n",
    "    从单个视频文件中读取帧\n",
    "    \"\"\"\n",
    "    frames = []\n",
    "    try:\n",
    "        container = av.open(video_path)\n",
    "        for frame in container.decode(video=0):\n",
    "            frames.append(frame.to_rgb().to_ndarray())\n",
    "            if len(frames) >= num_frames:\n",
    "                return np.stack(frames[:num_frames])\n",
    "    except Exception as e:\n",
    "        print(f\"Error processing video {video_path}: {str(e)}\")\n",
    "        raise\n",
    "    \n",
    "    if len(frames) == 0:\n",
    "        raise ValueError(\"No frames could be extracted\")\n",
    "    \n",
    "    # 如果帧数不足，重复最后一帧\n",
    "    while len(frames) < num_frames:\n",
    "        frames.append(frames[-1])\n",
    "    \n",
    "    return np.stack(frames[:num_frames])\n",
    "\n",
    "def load_labels(label_file):\n",
    "    \"\"\"\n",
    "    加载标签文件\n",
    "    \"\"\"\n",
    "    labels = {}\n",
    "    with open(label_file, 'r') as f:\n",
    "        for line in f:\n",
    "            video_name, label = line.strip().split()\n",
    "            labels[video_name.split('.')[0]] = int(label)\n",
    "    return labels\n",
    "\n",
    "def plot_confusion_matrix(true_labels, predictions, save_path):\n",
    "    \"\"\"\n",
    "    绘制并保存混淆矩阵\n",
    "    \"\"\"\n",
    "    cm = confusion_matrix(true_labels, predictions)\n",
    "    plt.figure(figsize=(10, 8))\n",
    "    sns.heatmap(cm, annot=True, fmt='d', cmap='Blues')\n",
    "    plt.title('Confusion Matrix')\n",
    "    plt.ylabel('True Label')\n",
    "    plt.xlabel('Predicted Label')\n",
    "    plt.savefig(save_path)\n",
    "    plt.close()\n",
    "\n",
    "def evaluate_videos(config):\n",
    "    # 设置设备\n",
    "    device = torch.device('cuda' if torch.cuda.is_available() else 'cpu')\n",
    "    print(f\"Using device: {device}\")\n",
    "\n",
    "    # 初始化模型\n",
    "    print(\"Loading model...\")\n",
    "    model = TimesformerForVideoClassification.from_pretrained(config['model_name']).to(device)\n",
    "    processor = AutoImageProcessor.from_pretrained(config['model_name'])\n",
    "    model.eval()  # 设置为评估模式\n",
    "    \n",
    "    # 加载标签\n",
    "    print(\"Loading labels...\")\n",
    "    video_labels = load_labels(config['label_file'])\n",
    "    \n",
    "    # 准备结果存储\n",
    "    detailed_results = {\n",
    "        'predictions': [],\n",
    "        'true_labels': [],\n",
    "        'video_names': [],\n",
    "        'confidence_scores': [],\n",
    "        'model_name': config['model_name'],\n",
    "        'timestamp': datetime.now().strftime(\"%Y%m%d_%H%M%S\"),\n",
    "        'config': config\n",
    "    }\n",
    "    \n",
    "    # 获取所有视频文件\n",
    "    video_files = glob.glob(os.path.join(config['video_dir'], '*.mp4'))\n",
    "    print(f\"Found {len(video_files)} video files\")\n",
    "    \n",
    "    if config.get('sample_size'):\n",
    "        if len(video_files) > config['sample_size']:\n",
    "            np.random.seed(config.get('random_seed', 42))\n",
    "            video_files = np.random.choice(video_files, config['sample_size'], replace=False)\n",
    "            print(f\"Sampled {config['sample_size']} videos for evaluation\")\n",
    "    \n",
    "    # 处理每个视频\n",
    "    error_count = 0\n",
    "    for video_path in tqdm(video_files, desc=\"Processing videos\"):\n",
    "        video_name = os.path.splitext(os.path.basename(video_path))[0]\n",
    "        \n",
    "        # 跳过没有标签的视频\n",
    "        if video_name not in video_labels:\n",
    "            continue\n",
    "            \n",
    "        true_label = video_labels[video_name]\n",
    "        \n",
    "        try:\n",
    "            # 读取视频帧并进行预测\n",
    "            frames = load_video_frames(video_path)\n",
    "            inputs = processor(list(frames), return_tensors=\"pt\").to(device)\n",
    "            \n",
    "            with torch.no_grad():\n",
    "                outputs = model(**inputs)\n",
    "                logits = outputs.logits\n",
    "                probabilities = torch.nn.functional.softmax(logits, dim=-1)\n",
    "                pred_label = logits.argmax(-1).cpu().numpy()[0]\n",
    "                confidence = float(probabilities.max().cpu().numpy())\n",
    "            \n",
    "            # 存储结果\n",
    "            detailed_results['predictions'].append(int(pred_label))\n",
    "            detailed_results['true_labels'].append(int(true_label))\n",
    "            detailed_results['video_names'].append(video_name)\n",
    "            detailed_results['confidence_scores'].append(confidence)\n",
    "            \n",
    "        except Exception as e:\n",
    "            print(f\"Error processing video {video_name}: {str(e)}\")\n",
    "            error_count += 1\n",
    "            continue\n",
    "    \n",
    "    print(f\"\\nProcessing completed with {error_count} errors\")\n",
    "    \n",
    "    # 计算评价指标\n",
    "    precision, recall, f1, _ = precision_recall_fscore_support(\n",
    "        detailed_results['true_labels'], \n",
    "        detailed_results['predictions'], \n",
    "        average='weighted'\n",
    "    )\n",
    "    accuracy = accuracy_score(\n",
    "        detailed_results['true_labels'], \n",
    "        detailed_results['predictions']\n",
    "    )\n",
    "    \n",
    "    # 添加汇总指标\n",
    "    detailed_results['summary'] = {\n",
    "        'accuracy': float(accuracy),\n",
    "        'precision': float(precision),\n",
    "        'recall': float(recall),\n",
    "        'f1': float(f1),\n",
    "        'total_samples': len(detailed_results['predictions']),\n",
    "        'error_count': error_count,\n",
    "        'average_confidence': float(np.mean(detailed_results['confidence_scores']))\n",
    "    }\n",
    "    \n",
    "    # 打印结果\n",
    "    print(\"\\nPerformance Metrics:\")\n",
    "    print(f\"Total samples processed: {detailed_results['summary']['total_samples']}\")\n",
    "    print(f\"Accuracy: {accuracy:.4f}\")\n",
    "    print(f\"Precision: {precision:.4f}\")\n",
    "    print(f\"Recall: {recall:.4f}\")\n",
    "    print(f\"F1 Score: {f1:.4f}\")\n",
    "    print(f\"Average Confidence: {detailed_results['summary']['average_confidence']:.4f}\")\n",
    "    \n",
    "    # 保存结果\n",
    "    save_dir = pathlib.Path(config['results_directory'])\n",
    "    save_dir.mkdir(parents=True, exist_ok=True)\n",
    "    \n",
    "    timestamp = detailed_results['timestamp']\n",
    "    base_name = f\"{config['experiment_name']}_{timestamp}\"\n",
    "    \n",
    "    # 保存详细结果\n",
    "    result_file = save_dir / f\"{base_name}.json\"\n",
    "    with open(result_file, 'w') as f:\n",
    "        json.dump(detailed_results, f, indent=4)\n",
    "    \n",
    "    # 保存混淆矩阵\n",
    "    cm_file = save_dir / f\"{base_name}_confusion_matrix.png\"\n",
    "    plot_confusion_matrix(\n",
    "        detailed_results['true_labels'],\n",
    "        detailed_results['predictions'],\n",
    "        cm_file\n",
    "    )\n",
    "    \n",
    "    print(f\"\\nResults saved to: {save_dir}\")\n",
    "    \n",
    "    return detailed_results\n",
    "\n",
    "if __name__ == \"__main__\":\n",
    "    config = {\n",
    "        'model_name': 'facebook/timesformer-base-finetuned-k400',\n",
    "        'video_dir': '/home/z/Music/st/Kinetics-400/RQ1/VBAD_r3d_18',  # 视频文件目录\n",
    "        'label_file': '/home/z/Music/st/Kinetics-400/RQ1/kinetics400_val_list_videos.txt',  # 标签文件路径\n",
    "        'sample_size': 4000,  # 设置为None处理所有视频，或设置具体数字进行采样\n",
    "        'random_seed': 42,\n",
    "        'results_directory': '/home/z/Music/st/Kinetics-400/RQ4/evaluationR3D',  # 结果保存目录\n",
    "        'experiment_name': 'timesformer_evaluation3'  # 实验名称\n",
    "    }\n",
    "    \n",
    "    results = evaluate_videos(config)"
   ]
  },
  {
   "cell_type": "markdown",
   "metadata": {},
   "source": [
    "Original"
   ]
  },
  {
   "cell_type": "code",
   "execution_count": 4,
   "metadata": {},
   "outputs": [
    {
     "name": "stdout",
     "output_type": "stream",
     "text": [
      "Using device: cuda\n",
      "Loading model...\n"
     ]
    },
    {
     "name": "stderr",
     "output_type": "stream",
     "text": [
      "/home/z/miniconda3/envs/mmxai/lib/python3.12/site-packages/huggingface_hub/file_download.py:1132: FutureWarning: `resume_download` is deprecated and will be removed in version 1.0.0. Downloads always resume when possible. If you want to force a new download, use `force_download=True`.\n",
      "  warnings.warn(\n"
     ]
    },
    {
     "name": "stdout",
     "output_type": "stream",
     "text": [
      "Loading labels...\n",
      "Found 19796 video files\n",
      "Sampled 5000 videos for evaluation\n"
     ]
    },
    {
     "name": "stderr",
     "output_type": "stream",
     "text": [
      "Processing videos: 100%|██████████| 5000/5000 [14:25<00:00,  5.78it/s]\n",
      "/home/z/miniconda3/envs/mmxai/lib/python3.12/site-packages/sklearn/metrics/_classification.py:1509: UndefinedMetricWarning: Precision is ill-defined and being set to 0.0 in labels with no predicted samples. Use `zero_division` parameter to control this behavior.\n",
      "  _warn_prf(average, modifier, f\"{metric.capitalize()} is\", len(result))\n"
     ]
    },
    {
     "name": "stdout",
     "output_type": "stream",
     "text": [
      "\n",
      "Processing completed with 0 errors\n",
      "\n",
      "Performance Metrics:\n",
      "Total samples processed: 5000\n",
      "Accuracy: 0.5444\n",
      "Precision: 0.6100\n",
      "Recall: 0.5444\n",
      "F1 Score: 0.5457\n",
      "Average Confidence: 0.6781\n",
      "\n",
      "Results saved to: /home/z/Music/st/Kinetics-400/RQ4/evaluationOrriginal\n"
     ]
    }
   ],
   "source": [
    "import torch\n",
    "import av\n",
    "import numpy as np\n",
    "from tqdm import tqdm\n",
    "import os\n",
    "import json\n",
    "from datetime import datetime\n",
    "import pathlib\n",
    "from transformers import TimesformerForVideoClassification, AutoImageProcessor\n",
    "from sklearn.metrics import precision_recall_fscore_support, accuracy_score, confusion_matrix\n",
    "import glob\n",
    "import seaborn as sns\n",
    "import matplotlib.pyplot as plt\n",
    "\n",
    "def load_video_frames(video_path, num_frames=8):\n",
    "    \"\"\"\n",
    "    从单个视频文件中读取帧\n",
    "    \"\"\"\n",
    "    frames = []\n",
    "    try:\n",
    "        container = av.open(video_path)\n",
    "        for frame in container.decode(video=0):\n",
    "            frames.append(frame.to_rgb().to_ndarray())\n",
    "            if len(frames) >= num_frames:\n",
    "                return np.stack(frames[:num_frames])\n",
    "    except Exception as e:\n",
    "        print(f\"Error processing video {video_path}: {str(e)}\")\n",
    "        raise\n",
    "    \n",
    "    if len(frames) == 0:\n",
    "        raise ValueError(\"No frames could be extracted\")\n",
    "    \n",
    "    # 如果帧数不足，重复最后一帧\n",
    "    while len(frames) < num_frames:\n",
    "        frames.append(frames[-1])\n",
    "    \n",
    "    return np.stack(frames[:num_frames])\n",
    "\n",
    "def load_labels(label_file):\n",
    "    \"\"\"\n",
    "    加载标签文件\n",
    "    \"\"\"\n",
    "    labels = {}\n",
    "    with open(label_file, 'r') as f:\n",
    "        for line in f:\n",
    "            video_name, label = line.strip().split()\n",
    "            labels[video_name.split('.')[0]] = int(label)\n",
    "    return labels\n",
    "\n",
    "def plot_confusion_matrix(true_labels, predictions, save_path):\n",
    "    \"\"\"\n",
    "    绘制并保存混淆矩阵\n",
    "    \"\"\"\n",
    "    cm = confusion_matrix(true_labels, predictions)\n",
    "    plt.figure(figsize=(10, 8))\n",
    "    sns.heatmap(cm, annot=True, fmt='d', cmap='Blues')\n",
    "    plt.title('Confusion Matrix')\n",
    "    plt.ylabel('True Label')\n",
    "    plt.xlabel('Predicted Label')\n",
    "    plt.savefig(save_path)\n",
    "    plt.close()\n",
    "\n",
    "def evaluate_videos(config):\n",
    "    # 设置设备\n",
    "    device = torch.device('cuda' if torch.cuda.is_available() else 'cpu')\n",
    "    print(f\"Using device: {device}\")\n",
    "\n",
    "    # 初始化模型\n",
    "    print(\"Loading model...\")\n",
    "    model = TimesformerForVideoClassification.from_pretrained(config['model_name']).to(device)\n",
    "    processor = AutoImageProcessor.from_pretrained(config['model_name'])\n",
    "    model.eval()  # 设置为评估模式\n",
    "    \n",
    "    # 加载标签\n",
    "    print(\"Loading labels...\")\n",
    "    video_labels = load_labels(config['label_file'])\n",
    "    \n",
    "    # 准备结果存储\n",
    "    detailed_results = {\n",
    "        'predictions': [],\n",
    "        'true_labels': [],\n",
    "        'video_names': [],\n",
    "        'confidence_scores': [],\n",
    "        'model_name': config['model_name'],\n",
    "        'timestamp': datetime.now().strftime(\"%Y%m%d_%H%M%S\"),\n",
    "        'config': config\n",
    "    }\n",
    "    \n",
    "    # 获取所有视频文件\n",
    "    video_files = glob.glob(os.path.join(config['video_dir'], '*.mp4'))\n",
    "    print(f\"Found {len(video_files)} video files\")\n",
    "    \n",
    "    if config.get('sample_size'):\n",
    "        if len(video_files) > config['sample_size']:\n",
    "            np.random.seed(config.get('random_seed', 42))\n",
    "            video_files = np.random.choice(video_files, config['sample_size'], replace=False)\n",
    "            print(f\"Sampled {config['sample_size']} videos for evaluation\")\n",
    "    \n",
    "    # 处理每个视频\n",
    "    error_count = 0\n",
    "    for video_path in tqdm(video_files, desc=\"Processing videos\"):\n",
    "        video_name = os.path.splitext(os.path.basename(video_path))[0]\n",
    "        \n",
    "        # 跳过没有标签的视频\n",
    "        if video_name not in video_labels:\n",
    "            continue\n",
    "            \n",
    "        true_label = video_labels[video_name]\n",
    "        \n",
    "        try:\n",
    "            # 读取视频帧并进行预测\n",
    "            frames = load_video_frames(video_path)\n",
    "            inputs = processor(list(frames), return_tensors=\"pt\").to(device)\n",
    "            \n",
    "            with torch.no_grad():\n",
    "                outputs = model(**inputs)\n",
    "                logits = outputs.logits\n",
    "                probabilities = torch.nn.functional.softmax(logits, dim=-1)\n",
    "                pred_label = logits.argmax(-1).cpu().numpy()[0]\n",
    "                confidence = float(probabilities.max().cpu().numpy())\n",
    "            \n",
    "            # 存储结果\n",
    "            detailed_results['predictions'].append(int(pred_label))\n",
    "            detailed_results['true_labels'].append(int(true_label))\n",
    "            detailed_results['video_names'].append(video_name)\n",
    "            detailed_results['confidence_scores'].append(confidence)\n",
    "            \n",
    "        except Exception as e:\n",
    "            print(f\"Error processing video {video_name}: {str(e)}\")\n",
    "            error_count += 1\n",
    "            continue\n",
    "    \n",
    "    print(f\"\\nProcessing completed with {error_count} errors\")\n",
    "    \n",
    "    # 计算评价指标\n",
    "    precision, recall, f1, _ = precision_recall_fscore_support(\n",
    "        detailed_results['true_labels'], \n",
    "        detailed_results['predictions'], \n",
    "        average='weighted'\n",
    "    )\n",
    "    accuracy = accuracy_score(\n",
    "        detailed_results['true_labels'], \n",
    "        detailed_results['predictions']\n",
    "    )\n",
    "    \n",
    "    # 添加汇总指标\n",
    "    detailed_results['summary'] = {\n",
    "        'accuracy': float(accuracy),\n",
    "        'precision': float(precision),\n",
    "        'recall': float(recall),\n",
    "        'f1': float(f1),\n",
    "        'total_samples': len(detailed_results['predictions']),\n",
    "        'error_count': error_count,\n",
    "        'average_confidence': float(np.mean(detailed_results['confidence_scores']))\n",
    "    }\n",
    "    \n",
    "    # 打印结果\n",
    "    print(\"\\nPerformance Metrics:\")\n",
    "    print(f\"Total samples processed: {detailed_results['summary']['total_samples']}\")\n",
    "    print(f\"Accuracy: {accuracy:.4f}\")\n",
    "    print(f\"Precision: {precision:.4f}\")\n",
    "    print(f\"Recall: {recall:.4f}\")\n",
    "    print(f\"F1 Score: {f1:.4f}\")\n",
    "    print(f\"Average Confidence: {detailed_results['summary']['average_confidence']:.4f}\")\n",
    "    \n",
    "    # 保存结果\n",
    "    save_dir = pathlib.Path(config['results_directory'])\n",
    "    save_dir.mkdir(parents=True, exist_ok=True)\n",
    "    \n",
    "    timestamp = detailed_results['timestamp']\n",
    "    base_name = f\"{config['experiment_name']}_{timestamp}\"\n",
    "    \n",
    "    # 保存详细结果\n",
    "    result_file = save_dir / f\"{base_name}.json\"\n",
    "    with open(result_file, 'w') as f:\n",
    "        json.dump(detailed_results, f, indent=4)\n",
    "    \n",
    "    # 保存混淆矩阵\n",
    "    cm_file = save_dir / f\"{base_name}_confusion_matrix.png\"\n",
    "    plot_confusion_matrix(\n",
    "        detailed_results['true_labels'],\n",
    "        detailed_results['predictions'],\n",
    "        cm_file\n",
    "    )\n",
    "    \n",
    "    print(f\"\\nResults saved to: {save_dir}\")\n",
    "    \n",
    "    return detailed_results\n",
    "\n",
    "if __name__ == \"__main__\":\n",
    "    config = {\n",
    "        'model_name': 'facebook/timesformer-base-finetuned-k400',\n",
    "        'video_dir': '/home/z/Music/st/Kinetics-400/RQ1/videos_val',  # 视频文件目录\n",
    "        'label_file': '/home/z/Music/st/Kinetics-400/RQ1/kinetics400_val_list_videos.txt',  # 标签文件路径\n",
    "        'sample_size': 5000,  # 设置为None处理所有视频，或设置具体数字进行采样\n",
    "        'random_seed': 42,\n",
    "        'results_directory': '/home/z/Music/st/Kinetics-400/RQ4/evaluationOrriginal',  # 结果保存目录\n",
    "        'experiment_name': 'timesformer_evaluation4'  # 实验名称\n",
    "    }\n",
    "    \n",
    "    results = evaluate_videos(config)"
   ]
  },
  {
   "cell_type": "markdown",
   "metadata": {},
   "source": [
    "My method"
   ]
  },
  {
   "cell_type": "code",
   "execution_count": 5,
   "metadata": {},
   "outputs": [
    {
     "name": "stdout",
     "output_type": "stream",
     "text": [
      "Using device: cuda\n",
      "Loading model...\n"
     ]
    },
    {
     "name": "stderr",
     "output_type": "stream",
     "text": [
      "/home/z/miniconda3/envs/mmxai/lib/python3.12/site-packages/huggingface_hub/file_download.py:1132: FutureWarning: `resume_download` is deprecated and will be removed in version 1.0.0. Downloads always resume when possible. If you want to force a new download, use `force_download=True`.\n",
      "  warnings.warn(\n"
     ]
    },
    {
     "name": "stdout",
     "output_type": "stream",
     "text": [
      "Loading labels...\n",
      "Found 19796 video files\n",
      "Sampled 5000 videos for evaluation\n"
     ]
    },
    {
     "name": "stderr",
     "output_type": "stream",
     "text": [
      "Processing videos: 100%|██████████| 5000/5000 [13:13<00:00,  6.30it/s]\n",
      "/home/z/miniconda3/envs/mmxai/lib/python3.12/site-packages/sklearn/metrics/_classification.py:1509: UndefinedMetricWarning: Precision is ill-defined and being set to 0.0 in labels with no predicted samples. Use `zero_division` parameter to control this behavior.\n",
      "  _warn_prf(average, modifier, f\"{metric.capitalize()} is\", len(result))\n"
     ]
    },
    {
     "name": "stdout",
     "output_type": "stream",
     "text": [
      "\n",
      "Processing completed with 0 errors\n",
      "\n",
      "Performance Metrics:\n",
      "Total samples processed: 5000\n",
      "Accuracy: 0.1388\n",
      "Precision: 0.2351\n",
      "Recall: 0.1388\n",
      "F1 Score: 0.1362\n",
      "Average Confidence: 0.4514\n",
      "\n",
      "Results saved to: /home/z/Music/st/Kinetics-400/RQ4/evaluationOrriginal\n"
     ]
    }
   ],
   "source": [
    "import torch\n",
    "import av\n",
    "import numpy as np\n",
    "from tqdm import tqdm\n",
    "import os\n",
    "import json\n",
    "from datetime import datetime\n",
    "import pathlib\n",
    "from transformers import TimesformerForVideoClassification, AutoImageProcessor\n",
    "from sklearn.metrics import precision_recall_fscore_support, accuracy_score, confusion_matrix\n",
    "import glob\n",
    "import seaborn as sns\n",
    "import matplotlib.pyplot as plt\n",
    "\n",
    "def load_video_frames(video_path, num_frames=8):\n",
    "    \"\"\"\n",
    "    从单个视频文件中读取帧\n",
    "    \"\"\"\n",
    "    frames = []\n",
    "    try:\n",
    "        container = av.open(video_path)\n",
    "        for frame in container.decode(video=0):\n",
    "            frames.append(frame.to_rgb().to_ndarray())\n",
    "            if len(frames) >= num_frames:\n",
    "                return np.stack(frames[:num_frames])\n",
    "    except Exception as e:\n",
    "        print(f\"Error processing video {video_path}: {str(e)}\")\n",
    "        raise\n",
    "    \n",
    "    if len(frames) == 0:\n",
    "        raise ValueError(\"No frames could be extracted\")\n",
    "    \n",
    "    # 如果帧数不足，重复最后一帧\n",
    "    while len(frames) < num_frames:\n",
    "        frames.append(frames[-1])\n",
    "    \n",
    "    return np.stack(frames[:num_frames])\n",
    "\n",
    "def load_labels(label_file):\n",
    "    \"\"\"\n",
    "    加载标签文件\n",
    "    \"\"\"\n",
    "    labels = {}\n",
    "    with open(label_file, 'r') as f:\n",
    "        for line in f:\n",
    "            video_name, label = line.strip().split()\n",
    "            labels[video_name.split('.')[0]] = int(label)\n",
    "    return labels\n",
    "\n",
    "def plot_confusion_matrix(true_labels, predictions, save_path):\n",
    "    \"\"\"\n",
    "    绘制并保存混淆矩阵\n",
    "    \"\"\"\n",
    "    cm = confusion_matrix(true_labels, predictions)\n",
    "    plt.figure(figsize=(10, 8))\n",
    "    sns.heatmap(cm, annot=True, fmt='d', cmap='Blues')\n",
    "    plt.title('Confusion Matrix')\n",
    "    plt.ylabel('True Label')\n",
    "    plt.xlabel('Predicted Label')\n",
    "    plt.savefig(save_path)\n",
    "    plt.close()\n",
    "\n",
    "def evaluate_videos(config):\n",
    "    # 设置设备\n",
    "    device = torch.device('cuda' if torch.cuda.is_available() else 'cpu')\n",
    "    print(f\"Using device: {device}\")\n",
    "\n",
    "    # 初始化模型\n",
    "    print(\"Loading model...\")\n",
    "    model = TimesformerForVideoClassification.from_pretrained(config['model_name']).to(device)\n",
    "    processor = AutoImageProcessor.from_pretrained(config['model_name'])\n",
    "    model.eval()  # 设置为评估模式\n",
    "    \n",
    "    # 加载标签\n",
    "    print(\"Loading labels...\")\n",
    "    video_labels = load_labels(config['label_file'])\n",
    "    \n",
    "    # 准备结果存储\n",
    "    detailed_results = {\n",
    "        'predictions': [],\n",
    "        'true_labels': [],\n",
    "        'video_names': [],\n",
    "        'confidence_scores': [],\n",
    "        'model_name': config['model_name'],\n",
    "        'timestamp': datetime.now().strftime(\"%Y%m%d_%H%M%S\"),\n",
    "        'config': config\n",
    "    }\n",
    "    \n",
    "    # 获取所有视频文件\n",
    "    video_files = glob.glob(os.path.join(config['video_dir'], '*.mp4'))\n",
    "    print(f\"Found {len(video_files)} video files\")\n",
    "    \n",
    "    if config.get('sample_size'):\n",
    "        if len(video_files) > config['sample_size']:\n",
    "            np.random.seed(config.get('random_seed', 42))\n",
    "            video_files = np.random.choice(video_files, config['sample_size'], replace=False)\n",
    "            print(f\"Sampled {config['sample_size']} videos for evaluation\")\n",
    "    \n",
    "    # 处理每个视频\n",
    "    error_count = 0\n",
    "    for video_path in tqdm(video_files, desc=\"Processing videos\"):\n",
    "        video_name = os.path.splitext(os.path.basename(video_path))[0]\n",
    "        \n",
    "        # 跳过没有标签的视频\n",
    "        if video_name not in video_labels:\n",
    "            continue\n",
    "            \n",
    "        true_label = video_labels[video_name]\n",
    "        \n",
    "        try:\n",
    "            # 读取视频帧并进行预测\n",
    "            frames = load_video_frames(video_path)\n",
    "            inputs = processor(list(frames), return_tensors=\"pt\").to(device)\n",
    "            \n",
    "            with torch.no_grad():\n",
    "                outputs = model(**inputs)\n",
    "                logits = outputs.logits\n",
    "                probabilities = torch.nn.functional.softmax(logits, dim=-1)\n",
    "                pred_label = logits.argmax(-1).cpu().numpy()[0]\n",
    "                confidence = float(probabilities.max().cpu().numpy())\n",
    "            \n",
    "            # 存储结果\n",
    "            detailed_results['predictions'].append(int(pred_label))\n",
    "            detailed_results['true_labels'].append(int(true_label))\n",
    "            detailed_results['video_names'].append(video_name)\n",
    "            detailed_results['confidence_scores'].append(confidence)\n",
    "            \n",
    "        except Exception as e:\n",
    "            print(f\"Error processing video {video_name}: {str(e)}\")\n",
    "            error_count += 1\n",
    "            continue\n",
    "    \n",
    "    print(f\"\\nProcessing completed with {error_count} errors\")\n",
    "    \n",
    "    # 计算评价指标\n",
    "    precision, recall, f1, _ = precision_recall_fscore_support(\n",
    "        detailed_results['true_labels'], \n",
    "        detailed_results['predictions'], \n",
    "        average='weighted'\n",
    "    )\n",
    "    accuracy = accuracy_score(\n",
    "        detailed_results['true_labels'], \n",
    "        detailed_results['predictions']\n",
    "    )\n",
    "    \n",
    "    # 添加汇总指标\n",
    "    detailed_results['summary'] = {\n",
    "        'accuracy': float(accuracy),\n",
    "        'precision': float(precision),\n",
    "        'recall': float(recall),\n",
    "        'f1': float(f1),\n",
    "        'total_samples': len(detailed_results['predictions']),\n",
    "        'error_count': error_count,\n",
    "        'average_confidence': float(np.mean(detailed_results['confidence_scores']))\n",
    "    }\n",
    "    \n",
    "    # 打印结果\n",
    "    print(\"\\nPerformance Metrics:\")\n",
    "    print(f\"Total samples processed: {detailed_results['summary']['total_samples']}\")\n",
    "    print(f\"Accuracy: {accuracy:.4f}\")\n",
    "    print(f\"Precision: {precision:.4f}\")\n",
    "    print(f\"Recall: {recall:.4f}\")\n",
    "    print(f\"F1 Score: {f1:.4f}\")\n",
    "    print(f\"Average Confidence: {detailed_results['summary']['average_confidence']:.4f}\")\n",
    "    \n",
    "    # 保存结果\n",
    "    save_dir = pathlib.Path(config['results_directory'])\n",
    "    save_dir.mkdir(parents=True, exist_ok=True)\n",
    "    \n",
    "    timestamp = detailed_results['timestamp']\n",
    "    base_name = f\"{config['experiment_name']}_{timestamp}\"\n",
    "    \n",
    "    # 保存详细结果\n",
    "    result_file = save_dir / f\"{base_name}.json\"\n",
    "    with open(result_file, 'w') as f:\n",
    "        json.dump(detailed_results, f, indent=4)\n",
    "    \n",
    "    # 保存混淆矩阵\n",
    "    cm_file = save_dir / f\"{base_name}_confusion_matrix.png\"\n",
    "    plot_confusion_matrix(\n",
    "        detailed_results['true_labels'],\n",
    "        detailed_results['predictions'],\n",
    "        cm_file\n",
    "    )\n",
    "    \n",
    "    print(f\"\\nResults saved to: {save_dir}\")\n",
    "    \n",
    "    return detailed_results\n",
    "\n",
    "if __name__ == \"__main__\":\n",
    "    config = {\n",
    "        'model_name': 'facebook/timesformer-base-finetuned-k400',\n",
    "        'video_dir': '/home/z/Music/st/Kinetics-400/RQ1/New_merged_FGSM',  # 视频文件目录\n",
    "        'label_file': '/home/z/Music/st/Kinetics-400/RQ1/kinetics400_val_list_videos.txt',  # 标签文件路径\n",
    "        'sample_size': 5000,  # 设置为None处理所有视频，或设置具体数字进行采样\n",
    "        'random_seed': 42,\n",
    "        'results_directory': '/home/z/Music/st/Kinetics-400/RQ4/evaluationOrriginal',  # 结果保存目录\n",
    "        'experiment_name': 'timesformer_evaluation4'  # 实验名称\n",
    "    }\n",
    "    \n",
    "    results = evaluate_videos(config)"
   ]
  }
 ],
 "metadata": {
  "kernelspec": {
   "display_name": "mmxai",
   "language": "python",
   "name": "python3"
  },
  "language_info": {
   "codemirror_mode": {
    "name": "ipython",
    "version": 3
   },
   "file_extension": ".py",
   "mimetype": "text/x-python",
   "name": "python",
   "nbconvert_exporter": "python",
   "pygments_lexer": "ipython3",
   "version": "3.12.1"
  }
 },
 "nbformat": 4,
 "nbformat_minor": 2
}
